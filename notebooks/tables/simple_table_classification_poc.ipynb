{
 "cells": [
  {
   "cell_type": "code",
   "execution_count": 1,
   "metadata": {},
   "outputs": [
    {
     "data": {
      "text/plain": [
       "'3.7.3 (default, Mar 27 2019, 09:23:15) \\n[Clang 10.0.1 (clang-1001.0.46.3)]'"
      ]
     },
     "execution_count": 1,
     "metadata": {},
     "output_type": "execute_result"
    }
   ],
   "source": [
    "import sys\n",
    "\n",
    "## find 'core' package\n",
    "sys.path.insert(0, '../..')\n",
    "\n",
    "sys.version"
   ]
  },
  {
   "cell_type": "code",
   "execution_count": null,
   "metadata": {},
   "outputs": [],
   "source": []
  },
  {
   "cell_type": "code",
   "execution_count": 2,
   "metadata": {},
   "outputs": [],
   "source": [
    "import pandas as pd\n",
    "\n",
    "from core.models import unit\n",
    "from core.models.table import Table\n",
    "from core.factories import column_factory"
   ]
  },
  {
   "cell_type": "code",
   "execution_count": null,
   "metadata": {},
   "outputs": [],
   "source": []
  },
  {
   "cell_type": "code",
   "execution_count": 3,
   "metadata": {},
   "outputs": [],
   "source": [
    "from core.generators.label_generator import LabelGenerator\n",
    "from core.generators.unit_generator import UnitGenerator\n",
    "from core.generators.column_generator import ColumnGenerator\n",
    "from core.generators.table_generator import TableGenerator"
   ]
  },
  {
   "cell_type": "code",
   "execution_count": null,
   "metadata": {},
   "outputs": [],
   "source": []
  },
  {
   "cell_type": "code",
   "execution_count": 4,
   "metadata": {},
   "outputs": [],
   "source": [
    "vocab = [ c for c in 'abcdefghijklmnopqrstuvwxyz' ]\n",
    "\n",
    "index_to_char = dict([ (i, c) for i, c in enumerate(vocab) ])\n",
    "char_to_index = dict([ (c, i) for i, c in enumerate(vocab) ])\n",
    "\n",
    "label_generator = LabelGenerator(index_to_char)\n",
    "unit_generator = UnitGenerator(unit.get_unit_lookup())\n",
    "\n",
    "column_generator = ColumnGenerator(label_generator, unit_generator)"
   ]
  },
  {
   "cell_type": "code",
   "execution_count": null,
   "metadata": {},
   "outputs": [],
   "source": []
  },
  {
   "cell_type": "code",
   "execution_count": 5,
   "metadata": {},
   "outputs": [],
   "source": [
    "table_1 = Table()\n",
    "\n",
    "table_1.set_id('1')\n",
    "table_1.n_spaces_between_columns = 5\n",
    "table_1.max_number_of_labels = 10\n",
    "table_1.columns = [ \n",
    "    column_factory.create_column(\n",
    "        order = 0,\n",
    "        min_label_length = 2,\n",
    "        max_label_length = 12,\n",
    "        max_unit_length = 6,\n",
    "        max_number_of_label_parts = 4\n",
    "    )\n",
    "]\n",
    "\n",
    "table_2 = Table()\n",
    "\n",
    "table_2.set_id('2')\n",
    "table_2.n_spaces_between_columns = 5\n",
    "table_2.max_number_of_labels = 10\n",
    "table_2.columns = [ \n",
    "    column_factory.create_column(\n",
    "        order = 0,\n",
    "        min_label_length = 2,\n",
    "        max_label_length = 12,\n",
    "        max_unit_length = 6,\n",
    "        max_number_of_label_parts = 4\n",
    "    ),\n",
    "    column_factory.create_column(\n",
    "        order = 1,\n",
    "        min_label_length = 4,\n",
    "        max_label_length = 15,\n",
    "        max_unit_length = 6,\n",
    "        max_number_of_label_parts = 3\n",
    "    )\n",
    "]\n",
    "\n",
    "table_3 = Table()\n",
    "\n",
    "table_3.set_id('3')\n",
    "table_3.n_spaces_between_columns = 5\n",
    "table_3.max_number_of_labels = 10\n",
    "table_3.columns = [ \n",
    "    column_factory.create_column(\n",
    "        order = 0,\n",
    "        min_label_length = 2,\n",
    "        max_label_length = 12,\n",
    "        max_unit_length = 6,\n",
    "        max_number_of_label_parts = 4\n",
    "    ),\n",
    "    column_factory.create_column(\n",
    "        order = 1,\n",
    "        min_label_length = 4,\n",
    "        max_label_length = 15,\n",
    "        max_unit_length = 6,\n",
    "        max_number_of_label_parts = 3\n",
    "    ),\n",
    "    column_factory.create_column(\n",
    "        order = 2,\n",
    "        min_label_length = 2,\n",
    "        max_label_length = 12,\n",
    "        max_unit_length = 6,\n",
    "        max_number_of_label_parts = 4\n",
    "    )\n",
    "]"
   ]
  },
  {
   "cell_type": "code",
   "execution_count": null,
   "metadata": {},
   "outputs": [],
   "source": []
  },
  {
   "cell_type": "code",
   "execution_count": 6,
   "metadata": {},
   "outputs": [],
   "source": [
    "table_lookup = {}\n",
    "\n",
    "table_lookup[table_1.get_id()] = {\n",
    "    'table': table_1,\n",
    "    'table_generator': TableGenerator(table_1, column_generator),\n",
    "}\n",
    "\n",
    "table_lookup[table_2.get_id()] = {\n",
    "    'table': table_2,\n",
    "    'table_generator': TableGenerator(table_2, column_generator),\n",
    "}\n",
    "\n",
    "table_lookup[table_3.get_id()] = {\n",
    "    'table': table_3,\n",
    "    'table_generator': TableGenerator(table_3, column_generator),\n",
    "}"
   ]
  },
  {
   "cell_type": "code",
   "execution_count": null,
   "metadata": {},
   "outputs": [],
   "source": []
  },
  {
   "cell_type": "code",
   "execution_count": 7,
   "metadata": {},
   "outputs": [],
   "source": [
    "_, x1, _ = table_lookup[table_1.get_id()]['table_generator'].get_table()\n",
    "_, x2, _ = table_lookup[table_2.get_id()]['table_generator'].get_table()\n",
    "_, x3, _ = table_lookup[table_3.get_id()]['table_generator'].get_table()\n",
    "\n",
    "X = [\n",
    "    x1,\n",
    "    x2,\n",
    "    x3\n",
    "]\n",
    "\n",
    "y = [0, 1, 2]"
   ]
  },
  {
   "cell_type": "code",
   "execution_count": null,
   "metadata": {},
   "outputs": [],
   "source": []
  },
  {
   "cell_type": "code",
   "execution_count": null,
   "metadata": {},
   "outputs": [],
   "source": []
  },
  {
   "cell_type": "code",
   "execution_count": 8,
   "metadata": {},
   "outputs": [
    {
     "name": "stdout",
     "output_type": "stream",
     "text": [
      "iyl eqjrhrbo0.38\n",
      "vaayqqsczf  cm\n",
      "wtpqpdqtwf  4.48\n",
      "ici iyynvfn cm\n",
      "omktxtpg    3.82 m\n",
      "tdtanxpu ms 2.07\n",
      "            m/s\n",
      "apq fqpsyy  2.83 m\n",
      "fupr\n",
      "\n"
     ]
    }
   ],
   "source": [
    "print('\\n'.join(X[0]))"
   ]
  },
  {
   "cell_type": "code",
   "execution_count": 9,
   "metadata": {},
   "outputs": [
    {
     "name": "stdout",
     "output_type": "stream",
     "text": [
      "mibvozanqxc 2.31       qievyovnkbsp   2.48\n",
      "kkyeibbl ow m/s        dzghdyv        m/s\n",
      "lmzhkowcr   2.86       budjztn        1.16 m\n",
      "mekzqk      m/s        ekzargmrcpbyvt\n",
      "tqvcytl ioq 0.18       vhuernz        2.71 m\n",
      "            m/s        yhuqwpilky\n",
      "                       naojomqdestriz 3.84 m\n",
      "                       ipclozqtxqsra  1.03\n",
      "                                      cm\n",
      "                       vssp           0.6\n",
      "                                      m/s\n",
      "\n"
     ]
    }
   ],
   "source": [
    "print('\\n'.join(X[1]))"
   ]
  },
  {
   "cell_type": "code",
   "execution_count": 10,
   "metadata": {},
   "outputs": [
    {
     "name": "stdout",
     "output_type": "stream",
     "text": [
      "hfdsvewok   0.55       ziydwpelpsm    1.72       uze         2.87\n",
      "            cm         uxaoupxy       cm/s       iunmercmlhy m/s\n",
      "xohnjqjtsu  1.55       boeephft tguue 1.73 m     qsckqd      3.9 cm\n",
      "gflflzf     cm         cjzxy          4.83       ids         3.92 m\n",
      "svanayxja   1.73                      cm         qabnvgqksic\n",
      "            m/s        flrmfl         1.48       jrfk        4.32\n",
      "nvvvednikzs 2.55       hkvuaajtzo     m/s        eagqxmqf rhycm\n",
      "            cm/s       sntwjxf        2.34\n"
     ]
    }
   ],
   "source": [
    "print('\\n'.join(X[2]))"
   ]
  },
  {
   "cell_type": "code",
   "execution_count": null,
   "metadata": {},
   "outputs": [],
   "source": []
  },
  {
   "cell_type": "code",
   "execution_count": 11,
   "metadata": {},
   "outputs": [
    {
     "name": "stdout",
     "output_type": "stream",
     "text": [
      "67\n"
     ]
    }
   ],
   "source": [
    "m = 0\n",
    "\n",
    "for row in X[2]:\n",
    "    l = len(row)\n",
    "    if l > m:\n",
    "        m = l\n",
    "        \n",
    "print(m)"
   ]
  },
  {
   "cell_type": "code",
   "execution_count": null,
   "metadata": {},
   "outputs": [],
   "source": []
  },
  {
   "cell_type": "code",
   "execution_count": 12,
   "metadata": {},
   "outputs": [],
   "source": [
    "import matplotlib.pyplot as plt"
   ]
  },
  {
   "cell_type": "code",
   "execution_count": null,
   "metadata": {},
   "outputs": [],
   "source": []
  },
  {
   "cell_type": "code",
   "execution_count": 13,
   "metadata": {},
   "outputs": [],
   "source": [
    "w = 0\n",
    "for row in X[2]:\n",
    "    l = len(row)\n",
    "    if l > w:\n",
    "        w = l\n",
    "        \n",
    "h = 0\n",
    "for example in X:\n",
    "    l = len(example)\n",
    "    if l > h:\n",
    "        h = l\n",
    "\n",
    "X_t = [ ]\n",
    "for example in X:\n",
    "    \n",
    "    img = []\n",
    "    for row in example:\n",
    "        u = [ 0 if r == ' ' else 1 for r in row ]\n",
    "        if len(u) < w:\n",
    "            u = u + [ 0 for _ in range(w - len(u))]\n",
    "            \n",
    "        img.append(u)\n",
    "        \n",
    "    while len(img) < h:\n",
    "        img.append([0 for _ in range(w)])\n",
    "\n",
    "    X_t.append(img)"
   ]
  },
  {
   "cell_type": "code",
   "execution_count": null,
   "metadata": {},
   "outputs": [],
   "source": []
  },
  {
   "cell_type": "code",
   "execution_count": 14,
   "metadata": {},
   "outputs": [],
   "source": [
    "import numpy as np"
   ]
  },
  {
   "cell_type": "code",
   "execution_count": null,
   "metadata": {},
   "outputs": [],
   "source": []
  },
  {
   "cell_type": "code",
   "execution_count": 15,
   "metadata": {},
   "outputs": [
    {
     "data": {
      "image/png": "[encoded data removed]",
      "text/plain": [
       "<Figure size 432x288 with 1 Axes>"
      ]
     },
     "metadata": {
      "needs_background": "light"
     },
     "output_type": "display_data"
    },
    {
     "data": {
      "image/png": "[encoded data removed]",
      "text/plain": [
       "<Figure size 432x288 with 1 Axes>"
      ]
     },
     "metadata": {
      "needs_background": "light"
     },
     "output_type": "display_data"
    },
    {
     "data": {
      "image/png": "[encoded data removed]",
      "text/plain": [
       "<Figure size 432x288 with 1 Axes>"
      ]
     },
     "metadata": {
      "needs_background": "light"
     },
     "output_type": "display_data"
    }
   ],
   "source": [
    "for example in X_t:\n",
    "    plt.imshow(np.array(example))\n",
    "    plt.show()"
   ]
  },
  {
   "cell_type": "code",
   "execution_count": null,
   "metadata": {},
   "outputs": [],
   "source": []
  },
  {
   "cell_type": "code",
   "execution_count": 16,
   "metadata": {},
   "outputs": [],
   "source": [
    "## cnn to detect # of columns,\n",
    "## train lstm for specific table type? or switch to encoder / decoder?"
   ]
  },
  {
   "cell_type": "code",
   "execution_count": null,
   "metadata": {},
   "outputs": [],
   "source": []
  },
  {
   "cell_type": "code",
   "execution_count": 17,
   "metadata": {},
   "outputs": [
    {
     "name": "stderr",
     "output_type": "stream",
     "text": [
      "Using TensorFlow backend.\n"
     ]
    }
   ],
   "source": [
    "from keras.utils import to_categorical\n",
    "\n",
    "from keras.models import Sequential\n",
    "from keras.layers import Conv1D, MaxPool1D, Dense, Dropout, Flatten"
   ]
  },
  {
   "cell_type": "code",
   "execution_count": null,
   "metadata": {},
   "outputs": [],
   "source": []
  },
  {
   "cell_type": "code",
   "execution_count": 18,
   "metadata": {},
   "outputs": [],
   "source": [
    "X_train = np.array(X_t)"
   ]
  },
  {
   "cell_type": "code",
   "execution_count": 19,
   "metadata": {},
   "outputs": [
    {
     "data": {
      "text/plain": [
       "(12, 67)"
      ]
     },
     "execution_count": 19,
     "metadata": {},
     "output_type": "execute_result"
    }
   ],
   "source": [
    "X_train.shape[1:]"
   ]
  },
  {
   "cell_type": "code",
   "execution_count": null,
   "metadata": {},
   "outputs": [],
   "source": []
  },
  {
   "cell_type": "code",
   "execution_count": 20,
   "metadata": {},
   "outputs": [
    {
     "name": "stdout",
     "output_type": "stream",
     "text": [
      "[[1. 0. 0.]\n",
      " [0. 1. 0.]\n",
      " [0. 0. 1.]]\n"
     ]
    }
   ],
   "source": [
    "y_train = to_categorical(y, 3)\n",
    "\n",
    "print(y_train)"
   ]
  },
  {
   "cell_type": "code",
   "execution_count": null,
   "metadata": {},
   "outputs": [],
   "source": []
  },
  {
   "cell_type": "code",
   "execution_count": 21,
   "metadata": {},
   "outputs": [],
   "source": [
    "model = Sequential()\n",
    "\n",
    "model.add(Conv1D(15, kernel_size=3, input_shape = X_train.shape[1:]))\n",
    "model.add(MaxPool1D(3))\n",
    "\n",
    "model.add(Flatten())\n",
    "model.add(Dense(3, activation='softmax'))"
   ]
  },
  {
   "cell_type": "code",
   "execution_count": null,
   "metadata": {},
   "outputs": [],
   "source": []
  },
  {
   "cell_type": "code",
   "execution_count": 22,
   "metadata": {},
   "outputs": [],
   "source": [
    "model.compile(\n",
    "    optimizer='adam',\n",
    "    loss='categorical_crossentropy',\n",
    "    metrics = ['accuracy']\n",
    ")"
   ]
  },
  {
   "cell_type": "code",
   "execution_count": null,
   "metadata": {},
   "outputs": [],
   "source": []
  },
  {
   "cell_type": "code",
   "execution_count": 23,
   "metadata": {},
   "outputs": [
    {
     "name": "stdout",
     "output_type": "stream",
     "text": [
      "Epoch 1/10\n",
      "3/3 [==============================] - 0s 31ms/step - loss: 1.3224 - accuracy: 0.3333\n",
      "Epoch 2/10\n",
      "3/3 [==============================] - 0s 505us/step - loss: 1.1765 - accuracy: 0.3333\n",
      "Epoch 3/10\n",
      "3/3 [==============================] - 0s 473us/step - loss: 1.0641 - accuracy: 0.3333\n",
      "Epoch 4/10\n",
      "3/3 [==============================] - 0s 476us/step - loss: 0.9601 - accuracy: 0.6667\n",
      "Epoch 5/10\n",
      "3/3 [==============================] - 0s 433us/step - loss: 0.8656 - accuracy: 0.6667\n",
      "Epoch 6/10\n",
      "3/3 [==============================] - 0s 384us/step - loss: 0.7753 - accuracy: 0.6667\n",
      "Epoch 7/10\n",
      "3/3 [==============================] - 0s 407us/step - loss: 0.6958 - accuracy: 0.6667\n",
      "Epoch 8/10\n",
      "3/3 [==============================] - 0s 422us/step - loss: 0.6231 - accuracy: 1.0000\n",
      "Epoch 9/10\n",
      "3/3 [==============================] - 0s 500us/step - loss: 0.5600 - accuracy: 1.0000\n",
      "Epoch 10/10\n",
      "3/3 [==============================] - 0s 476us/step - loss: 0.5036 - accuracy: 1.0000\n"
     ]
    },
    {
     "data": {
      "text/plain": [
       "<keras.callbacks.callbacks.History at 0x15004b860>"
      ]
     },
     "execution_count": 23,
     "metadata": {},
     "output_type": "execute_result"
    }
   ],
   "source": [
    "model.fit(X_train, y_train, epochs=10)"
   ]
  },
  {
   "cell_type": "code",
   "execution_count": null,
   "metadata": {},
   "outputs": [],
   "source": []
  },
  {
   "cell_type": "code",
   "execution_count": 24,
   "metadata": {},
   "outputs": [
    {
     "name": "stdout",
     "output_type": "stream",
     "text": [
      "Model: \"sequential_1\"\n",
      "_________________________________________________________________\n",
      "Layer (type)                 Output Shape              Param #   \n",
      "=================================================================\n",
      "conv1d_1 (Conv1D)            (None, 10, 15)            3030      \n",
      "_________________________________________________________________\n",
      "max_pooling1d_1 (MaxPooling1 (None, 3, 15)             0         \n",
      "_________________________________________________________________\n",
      "flatten_1 (Flatten)          (None, 45)                0         \n",
      "_________________________________________________________________\n",
      "dense_1 (Dense)              (None, 3)                 138       \n",
      "=================================================================\n",
      "Total params: 3,168\n",
      "Trainable params: 3,168\n",
      "Non-trainable params: 0\n",
      "_________________________________________________________________\n"
     ]
    }
   ],
   "source": [
    "model.summary()"
   ]
  },
  {
   "cell_type": "code",
   "execution_count": null,
   "metadata": {},
   "outputs": [],
   "source": []
  },
  {
   "cell_type": "code",
   "execution_count": 25,
   "metadata": {},
   "outputs": [
    {
     "data": {
      "image/png": "[encoded data removed]",
      "text/plain": [
       "<Figure size 432x288 with 1 Axes>"
      ]
     },
     "metadata": {
      "needs_background": "light"
     },
     "output_type": "display_data"
    },
    {
     "data": {
      "text/plain": [
       "1"
      ]
     },
     "execution_count": 25,
     "metadata": {},
     "output_type": "execute_result"
    }
   ],
   "source": [
    "plt.imshow(X_train[0])\n",
    "plt.show()\n",
    "\n",
    "np.argmax(model.predict(np.array([X_train[0]]))) + 1"
   ]
  },
  {
   "cell_type": "code",
   "execution_count": null,
   "metadata": {},
   "outputs": [],
   "source": []
  },
  {
   "cell_type": "code",
   "execution_count": 26,
   "metadata": {},
   "outputs": [
    {
     "data": {
      "image/png": "[encoded data removed]",
      "text/plain": [
       "<Figure size 432x288 with 1 Axes>"
      ]
     },
     "metadata": {
      "needs_background": "light"
     },
     "output_type": "display_data"
    },
    {
     "data": {
      "text/plain": [
       "2"
      ]
     },
     "execution_count": 26,
     "metadata": {},
     "output_type": "execute_result"
    }
   ],
   "source": [
    "plt.imshow(X_train[1])\n",
    "plt.show()\n",
    "\n",
    "np.argmax(model.predict(np.array([X_train[1]]))) + 1"
   ]
  },
  {
   "cell_type": "code",
   "execution_count": null,
   "metadata": {},
   "outputs": [],
   "source": []
  },
  {
   "cell_type": "code",
   "execution_count": 27,
   "metadata": {},
   "outputs": [
    {
     "data": {
      "image/png": "[encoded data removed]",
      "text/plain": [
       "<Figure size 432x288 with 1 Axes>"
      ]
     },
     "metadata": {
      "needs_background": "light"
     },
     "output_type": "display_data"
    },
    {
     "data": {
      "text/plain": [
       "3"
      ]
     },
     "execution_count": 27,
     "metadata": {},
     "output_type": "execute_result"
    }
   ],
   "source": [
    "plt.imshow(X_train[2])\n",
    "plt.show()\n",
    "\n",
    "np.argmax(model.predict(np.array([X_train[2]]))) + 1"
   ]
  },
  {
   "cell_type": "code",
   "execution_count": null,
   "metadata": {},
   "outputs": [],
   "source": []
  }
 ],
 "metadata": {
  "kernelspec": {
   "display_name": "Python 3",
   "language": "python",
   "name": "python3"
  },
  "language_info": {
   "codemirror_mode": {
    "name": "ipython",
    "version": 3
   },
   "file_extension": ".py",
   "mimetype": "text/x-python",
   "name": "python",
   "nbconvert_exporter": "python",
   "pygments_lexer": "ipython3",
   "version": "3.7.3"
  }
 },
 "nbformat": 4,
 "nbformat_minor": 4
}
