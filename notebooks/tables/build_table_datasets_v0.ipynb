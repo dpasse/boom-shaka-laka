{
 "cells": [
  {
   "cell_type": "code",
   "execution_count": 1,
   "metadata": {},
   "outputs": [
    {
     "data": {
      "text/plain": [
       "'3.7.3 (default, Mar 27 2019, 09:23:15) \\n[Clang 10.0.1 (clang-1001.0.46.3)]'"
      ]
     },
     "execution_count": 1,
     "metadata": {},
     "output_type": "execute_result"
    }
   ],
   "source": [
    "import sys\n",
    "\n",
    "## find 'core' package\n",
    "sys.path.insert(0, '../..')\n",
    "\n",
    "sys.version"
   ]
  },
  {
   "cell_type": "code",
   "execution_count": null,
   "metadata": {},
   "outputs": [],
   "source": []
  },
  {
   "cell_type": "code",
   "execution_count": 2,
   "metadata": {},
   "outputs": [],
   "source": [
    "from core.models import unit\n",
    "\n",
    "from core.models.table import Table\n",
    "from core.factories import column_factory\n",
    "\n",
    "from core.orchestrators import ManyToManySameInputAndOutputVocabOrchestrator"
   ]
  },
  {
   "cell_type": "code",
   "execution_count": null,
   "metadata": {},
   "outputs": [],
   "source": []
  },
  {
   "cell_type": "code",
   "execution_count": 3,
   "metadata": {},
   "outputs": [],
   "source": [
    "vocab = 'abcdefghijklmnopqrstuvwxyz'\n",
    "\n",
    "vocab_orchestrator = ManyToManySameInputAndOutputVocabOrchestrator(vocab, unit.get_unit_lookup())"
   ]
  },
  {
   "cell_type": "code",
   "execution_count": null,
   "metadata": {},
   "outputs": [],
   "source": []
  },
  {
   "cell_type": "code",
   "execution_count": 4,
   "metadata": {},
   "outputs": [],
   "source": [
    "table_1 = Table()\n",
    "table_1.set_id('0')\n",
    "table_1.n_spaces_between_columns = 5\n",
    "table_1.max_number_of_labels = 3\n",
    "table_1.columns = [\n",
    "    column_factory.create_column(\n",
    "        order = 0,\n",
    "        min_label_length = 2,\n",
    "        max_label_length = 12,\n",
    "        max_unit_length = 10,\n",
    "        max_number_of_label_parts = 2\n",
    "    ),\n",
    "    column_factory.create_column(\n",
    "        order = 1,\n",
    "        min_label_length = 2,\n",
    "        max_label_length = 12,\n",
    "        max_unit_length = 10,\n",
    "        max_number_of_label_parts = 2\n",
    "    )\n",
    "]"
   ]
  },
  {
   "cell_type": "code",
   "execution_count": null,
   "metadata": {},
   "outputs": [],
   "source": []
  },
  {
   "cell_type": "code",
   "execution_count": 5,
   "metadata": {},
   "outputs": [],
   "source": [
    "table_lookup = {}\n",
    "\n",
    "table_lookup[table_1.get_id()] = table_1"
   ]
  },
  {
   "cell_type": "code",
   "execution_count": null,
   "metadata": {},
   "outputs": [],
   "source": []
  },
  {
   "cell_type": "code",
   "execution_count": 6,
   "metadata": {},
   "outputs": [
    {
     "data": {
      "text/html": [
       "<div>\n",
       "<style scoped>\n",
       "    .dataframe tbody tr th:only-of-type {\n",
       "        vertical-align: middle;\n",
       "    }\n",
       "\n",
       "    .dataframe tbody tr th {\n",
       "        vertical-align: top;\n",
       "    }\n",
       "\n",
       "    .dataframe thead th {\n",
       "        text-align: right;\n",
       "    }\n",
       "</style>\n",
       "<table border=\"1\" class=\"dataframe\">\n",
       "  <thead>\n",
       "    <tr style=\"text-align: right;\">\n",
       "      <th></th>\n",
       "      <th>table_id</th>\n",
       "      <th>table</th>\n",
       "      <th>target</th>\n",
       "    </tr>\n",
       "  </thead>\n",
       "  <tbody>\n",
       "    <tr>\n",
       "      <th>0</th>\n",
       "      <td>0</td>\n",
       "      <td>stj         3.91 m         zzealae     1.5 m/s...</td>\n",
       "      <td>stj 3.91 m\\nzzealae 1.5 m/s\\nbqziqiopzxt 0.13 m/s</td>\n",
       "    </tr>\n",
       "    <tr>\n",
       "      <th>1</th>\n",
       "      <td>0</td>\n",
       "      <td>stj         2.34 m         bqziqiopzxt 0.7 m/s...</td>\n",
       "      <td>stj 2.34 m\\njhwu 2.57 m\\nbqziqiopzxt 0.7 m/s\\n...</td>\n",
       "    </tr>\n",
       "    <tr>\n",
       "      <th>2</th>\n",
       "      <td>0</td>\n",
       "      <td>bnxov       1.31 m         zzealae     1.6 m/s...</td>\n",
       "      <td>bnxov 1.31 m\\njhwu 4.29 m\\nzzealae 1.6 m/s\\njd...</td>\n",
       "    </tr>\n",
       "    <tr>\n",
       "      <th>3</th>\n",
       "      <td>0</td>\n",
       "      <td>jhwu        0.32 m         bqziqiopzxt 1.99 m/...</td>\n",
       "      <td>jhwu 0.32 m\\nbnxov 4.87 m\\nbqziqiopzxt 1.99 m/...</td>\n",
       "    </tr>\n",
       "    <tr>\n",
       "      <th>4</th>\n",
       "      <td>0</td>\n",
       "      <td>stj         0.83 m         jdlpbbk     0.53 m\\...</td>\n",
       "      <td>stj 0.83 m\\nbnxov 3.95 m\\njdlpbbk 0.53 m\\nbqzi...</td>\n",
       "    </tr>\n",
       "  </tbody>\n",
       "</table>\n",
       "</div>"
      ],
      "text/plain": [
       "  table_id                                              table  \\\n",
       "0        0  stj         3.91 m         zzealae     1.5 m/s...   \n",
       "1        0  stj         2.34 m         bqziqiopzxt 0.7 m/s...   \n",
       "2        0  bnxov       1.31 m         zzealae     1.6 m/s...   \n",
       "3        0  jhwu        0.32 m         bqziqiopzxt 1.99 m/...   \n",
       "4        0  stj         0.83 m         jdlpbbk     0.53 m\\...   \n",
       "\n",
       "                                              target  \n",
       "0  stj 3.91 m\\nzzealae 1.5 m/s\\nbqziqiopzxt 0.13 m/s  \n",
       "1  stj 2.34 m\\njhwu 2.57 m\\nbqziqiopzxt 0.7 m/s\\n...  \n",
       "2  bnxov 1.31 m\\njhwu 4.29 m\\nzzealae 1.6 m/s\\njd...  \n",
       "3  jhwu 0.32 m\\nbnxov 4.87 m\\nbqziqiopzxt 1.99 m/...  \n",
       "4  stj 0.83 m\\nbnxov 3.95 m\\njdlpbbk 0.53 m\\nbqzi...  "
      ]
     },
     "execution_count": 6,
     "metadata": {},
     "output_type": "execute_result"
    }
   ],
   "source": [
    "n_instances = 300\n",
    "\n",
    "options = []\n",
    "for key in table_lookup.keys():\n",
    "    options.append(\n",
    "        {\n",
    "            'table_generator': vocab_orchestrator.create_table_generator(table_1),\n",
    "            'n_instances': n_instances\n",
    "        }\n",
    "    )\n",
    "    \n",
    "dataset = vocab_orchestrator.build_dataset(options)\n",
    "    \n",
    "expected_size = len(table_lookup.keys()) * n_instances\n",
    "assert len(dataset) == expected_size, f'{len(dataset)} <> {expected_size}'\n",
    "\n",
    "dataset.head(n=5)"
   ]
  },
  {
   "cell_type": "code",
   "execution_count": null,
   "metadata": {},
   "outputs": [],
   "source": []
  },
  {
   "cell_type": "code",
   "execution_count": 7,
   "metadata": {},
   "outputs": [
    {
     "data": {
      "text/html": [
       "<div>\n",
       "<style scoped>\n",
       "    .dataframe tbody tr th:only-of-type {\n",
       "        vertical-align: middle;\n",
       "    }\n",
       "\n",
       "    .dataframe tbody tr th {\n",
       "        vertical-align: top;\n",
       "    }\n",
       "\n",
       "    .dataframe thead th {\n",
       "        text-align: right;\n",
       "    }\n",
       "</style>\n",
       "<table border=\"1\" class=\"dataframe\">\n",
       "  <thead>\n",
       "    <tr style=\"text-align: right;\">\n",
       "      <th></th>\n",
       "      <th>table</th>\n",
       "      <th>target</th>\n",
       "    </tr>\n",
       "    <tr>\n",
       "      <th>table_id</th>\n",
       "      <th></th>\n",
       "      <th></th>\n",
       "    </tr>\n",
       "  </thead>\n",
       "  <tbody>\n",
       "    <tr>\n",
       "      <th>0</th>\n",
       "      <td>300</td>\n",
       "      <td>300</td>\n",
       "    </tr>\n",
       "  </tbody>\n",
       "</table>\n",
       "</div>"
      ],
      "text/plain": [
       "          table  target\n",
       "table_id               \n",
       "0           300     300"
      ]
     },
     "execution_count": 7,
     "metadata": {},
     "output_type": "execute_result"
    }
   ],
   "source": [
    "## breakdown,\n",
    "dataset.groupby('table_id').count()"
   ]
  },
  {
   "cell_type": "code",
   "execution_count": null,
   "metadata": {},
   "outputs": [],
   "source": []
  },
  {
   "cell_type": "code",
   "execution_count": 8,
   "metadata": {},
   "outputs": [],
   "source": [
    "## save off,\n",
    "dataset.to_csv('../../data/table/v0.0.1_actual.csv', index = False)"
   ]
  },
  {
   "cell_type": "code",
   "execution_count": null,
   "metadata": {},
   "outputs": [],
   "source": []
  },
  {
   "cell_type": "code",
   "execution_count": 9,
   "metadata": {},
   "outputs": [
    {
     "data": {
      "text/html": [
       "<div>\n",
       "<style scoped>\n",
       "    .dataframe tbody tr th:only-of-type {\n",
       "        vertical-align: middle;\n",
       "    }\n",
       "\n",
       "    .dataframe tbody tr th {\n",
       "        vertical-align: top;\n",
       "    }\n",
       "\n",
       "    .dataframe thead th {\n",
       "        text-align: right;\n",
       "    }\n",
       "</style>\n",
       "<table border=\"1\" class=\"dataframe\">\n",
       "  <thead>\n",
       "    <tr style=\"text-align: right;\">\n",
       "      <th></th>\n",
       "      <th>input</th>\n",
       "      <th>output</th>\n",
       "      <th>n_columns</th>\n",
       "    </tr>\n",
       "  </thead>\n",
       "  <tbody>\n",
       "    <tr>\n",
       "      <th>0</th>\n",
       "      <td>[34, 35, 25, 2, 2, 2, 2, 2, 2, 2, 2, 2, 8, 3, ...</td>\n",
       "      <td>[34, 35, 25, 2, 8, 3, 14, 6, 2, 28, 1, 41, 41,...</td>\n",
       "      <td>2</td>\n",
       "    </tr>\n",
       "    <tr>\n",
       "      <th>1</th>\n",
       "      <td>[34, 35, 25, 2, 2, 2, 2, 2, 2, 2, 2, 2, 7, 3, ...</td>\n",
       "      <td>[34, 35, 25, 2, 7, 3, 8, 9, 2, 28, 1, 25, 23, ...</td>\n",
       "      <td>2</td>\n",
       "    </tr>\n",
       "    <tr>\n",
       "      <th>2</th>\n",
       "      <td>[17, 29, 39, 30, 37, 2, 2, 2, 2, 2, 2, 2, 6, 3...</td>\n",
       "      <td>[17, 29, 39, 30, 37, 2, 6, 3, 8, 6, 2, 28, 1, ...</td>\n",
       "      <td>2</td>\n",
       "    </tr>\n",
       "    <tr>\n",
       "      <th>3</th>\n",
       "      <td>[25, 23, 38, 36, 2, 2, 2, 2, 2, 2, 2, 2, 5, 3,...</td>\n",
       "      <td>[25, 23, 38, 36, 2, 5, 3, 8, 7, 2, 28, 1, 17, ...</td>\n",
       "      <td>2</td>\n",
       "    </tr>\n",
       "    <tr>\n",
       "      <th>4</th>\n",
       "      <td>[34, 35, 25, 2, 2, 2, 2, 2, 2, 2, 2, 2, 5, 3, ...</td>\n",
       "      <td>[34, 35, 25, 2, 5, 3, 13, 8, 2, 28, 1, 17, 29,...</td>\n",
       "      <td>2</td>\n",
       "    </tr>\n",
       "  </tbody>\n",
       "</table>\n",
       "</div>"
      ],
      "text/plain": [
       "                                               input  \\\n",
       "0  [34, 35, 25, 2, 2, 2, 2, 2, 2, 2, 2, 2, 8, 3, ...   \n",
       "1  [34, 35, 25, 2, 2, 2, 2, 2, 2, 2, 2, 2, 7, 3, ...   \n",
       "2  [17, 29, 39, 30, 37, 2, 2, 2, 2, 2, 2, 2, 6, 3...   \n",
       "3  [25, 23, 38, 36, 2, 2, 2, 2, 2, 2, 2, 2, 5, 3,...   \n",
       "4  [34, 35, 25, 2, 2, 2, 2, 2, 2, 2, 2, 2, 5, 3, ...   \n",
       "\n",
       "                                              output  n_columns  \n",
       "0  [34, 35, 25, 2, 8, 3, 14, 6, 2, 28, 1, 41, 41,...          2  \n",
       "1  [34, 35, 25, 2, 7, 3, 8, 9, 2, 28, 1, 25, 23, ...          2  \n",
       "2  [17, 29, 39, 30, 37, 2, 6, 3, 8, 6, 2, 28, 1, ...          2  \n",
       "3  [25, 23, 38, 36, 2, 5, 3, 8, 7, 2, 28, 1, 17, ...          2  \n",
       "4  [34, 35, 25, 2, 5, 3, 13, 8, 2, 28, 1, 17, 29,...          2  "
      ]
     },
     "execution_count": 9,
     "metadata": {},
     "output_type": "execute_result"
    }
   ],
   "source": [
    "translated_df = vocab_orchestrator.translate_to_integer_array(dataset, table_lookup)\n",
    "\n",
    "translated_df.head()"
   ]
  },
  {
   "cell_type": "code",
   "execution_count": null,
   "metadata": {},
   "outputs": [],
   "source": []
  },
  {
   "cell_type": "code",
   "execution_count": 10,
   "metadata": {},
   "outputs": [
    {
     "data": {
      "text/plain": [
       "array([34, 35, 25,  2,  2,  2,  2,  2,  2,  2,  2,  2,  8,  3, 14,  6,  2,\n",
       "       28,  2,  2,  2,  2,  2,  2,  2,  2,  2, 41, 41, 20, 16, 27, 16, 20,\n",
       "        2,  2,  2,  2,  2,  6,  3, 10,  2, 28,  4, 34,  2,  2,  2,  2,  2,\n",
       "        2,  2,  2,  2,  2,  2,  2,  2,  2,  2,  2,  2,  2,  2,  2,  2,  2,\n",
       "        2,  2,  2,  2,  2,  2,  2,  2,  2, 17, 32, 41, 24, 32, 24, 30, 31,\n",
       "       41, 39, 35,  2,  5,  3,  6,  8,  2, 28,  4, 34,  2,  2,  2,  0,  0,\n",
       "        0,  0,  0,  0,  0,  0,  0,  0,  0,  0,  0,  0,  0,  0,  0,  0,  0,\n",
       "        0,  0,  0,  0,  0,  0,  0,  0,  0,  0,  0,  0,  0,  0,  0,  0,  0,\n",
       "        0,  0,  0,  0,  0,  0,  0,  0,  0,  0,  0,  0,  0,  0,  0,  0,  0,\n",
       "        0,  0,  0,  0,  0,  0,  0,  0,  0,  0,  0,  0,  0,  0,  0,  0,  0,\n",
       "        0,  0,  0,  0,  0,  0,  0,  0,  0,  0,  0,  0,  0,  0,  0,  0,  0,\n",
       "        0,  0,  0,  0,  0,  0,  0,  0,  0,  0,  0,  0,  0,  0,  0,  0,  0,\n",
       "        0,  0,  0,  0,  0,  0,  0,  0,  0,  0,  0,  0,  0,  0,  0,  0,  0,\n",
       "        0,  0,  0,  0,  0,  0,  0,  0,  0,  0,  0,  0,  0,  0,  0,  0,  0,\n",
       "        0,  0,  0,  0,  0,  0,  0,  0,  0,  0,  0,  0,  0,  0,  0,  0,  0,\n",
       "        0,  0,  0,  0,  0,  0,  0,  0,  0,  0,  0,  0,  0,  0,  0,  0,  0,\n",
       "        0,  0,  0,  0,  0,  0,  0,  0,  0,  0,  0,  0,  0,  0,  0,  0,  0,\n",
       "        0,  0,  0,  0,  0,  0,  0,  0,  0,  0,  0])"
      ]
     },
     "execution_count": 10,
     "metadata": {},
     "output_type": "execute_result"
    }
   ],
   "source": [
    "import numpy as np\n",
    "\n",
    "np.array(translated_df['input'][0])"
   ]
  },
  {
   "cell_type": "code",
   "execution_count": null,
   "metadata": {},
   "outputs": [],
   "source": []
  },
  {
   "cell_type": "code",
   "execution_count": 11,
   "metadata": {},
   "outputs": [],
   "source": [
    "## save off,\n",
    "translated_df.to_csv('../../data/table/v0.0.1.csv', index = False)"
   ]
  },
  {
   "cell_type": "code",
   "execution_count": null,
   "metadata": {},
   "outputs": [],
   "source": []
  }
 ],
 "metadata": {
  "kernelspec": {
   "display_name": "Python 3",
   "language": "python",
   "name": "python3"
  },
  "language_info": {
   "codemirror_mode": {
    "name": "ipython",
    "version": 3
   },
   "file_extension": ".py",
   "mimetype": "text/x-python",
   "name": "python",
   "nbconvert_exporter": "python",
   "pygments_lexer": "ipython3",
   "version": "3.7.3"
  }
 },
 "nbformat": 4,
 "nbformat_minor": 4
}
