{
 "cells": [
  {
   "cell_type": "code",
   "execution_count": 1,
   "metadata": {},
   "outputs": [
    {
     "data": {
      "text/plain": [
       "'3.7.3 (default, Mar 27 2019, 09:23:15) \\n[Clang 10.0.1 (clang-1001.0.46.3)]'"
      ]
     },
     "execution_count": 1,
     "metadata": {},
     "output_type": "execute_result"
    }
   ],
   "source": [
    "import sys\n",
    "\n",
    "## find 'core' package\n",
    "sys.path.insert(0, '../..')\n",
    "\n",
    "sys.version"
   ]
  },
  {
   "cell_type": "code",
   "execution_count": null,
   "metadata": {},
   "outputs": [],
   "source": []
  },
  {
   "cell_type": "code",
   "execution_count": 2,
   "metadata": {},
   "outputs": [],
   "source": [
    "from core.models import unit\n",
    "from core.models.column import Column"
   ]
  },
  {
   "cell_type": "code",
   "execution_count": null,
   "metadata": {},
   "outputs": [],
   "source": []
  },
  {
   "cell_type": "code",
   "execution_count": 3,
   "metadata": {},
   "outputs": [],
   "source": [
    "column = Column()\n",
    "\n",
    "column.order = 0\n",
    "column.min_label_length = 2\n",
    "column.max_label_length = 12\n",
    "column.max_unit_length = 6\n",
    "column.max_number_of_label_parts = 4"
   ]
  },
  {
   "cell_type": "code",
   "execution_count": null,
   "metadata": {},
   "outputs": [],
   "source": []
  },
  {
   "cell_type": "code",
   "execution_count": 4,
   "metadata": {},
   "outputs": [],
   "source": [
    "from core.generators.column_generator import ColumnGenerator\n",
    "from core.generators.label_generator import LabelGenerator\n",
    "from core.generators.unit_generator import UnitGenerator"
   ]
  },
  {
   "cell_type": "code",
   "execution_count": null,
   "metadata": {},
   "outputs": [],
   "source": []
  },
  {
   "cell_type": "code",
   "execution_count": 5,
   "metadata": {},
   "outputs": [],
   "source": [
    "vocab = [ c for c in 'abcdefghijklmnopqrstuvwxyz' ]\n",
    "\n",
    "index_to_char = dict([ (i, c) for i, c in enumerate(vocab) ])\n",
    "char_to_index = dict([ (c, i) for i, c in enumerate(vocab) ])\n",
    "\n",
    "label_generator = LabelGenerator(index_to_char)\n",
    "unit_generator = UnitGenerator(unit.get_unit_lookup())"
   ]
  },
  {
   "cell_type": "code",
   "execution_count": null,
   "metadata": {},
   "outputs": [],
   "source": []
  },
  {
   "cell_type": "code",
   "execution_count": 6,
   "metadata": {},
   "outputs": [],
   "source": [
    "column_generator = ColumnGenerator(label_generator, unit_generator)"
   ]
  },
  {
   "cell_type": "code",
   "execution_count": 7,
   "metadata": {},
   "outputs": [
    {
     "name": "stdout",
     "output_type": "stream",
     "text": [
      "\n",
      "dcadkpf     1.78\n",
      "            cm/s\n",
      "qxgqsza     0.11\n",
      "            cm\n",
      "ufht aa     2.16\n",
      "            cm/s\n",
      "qvsqjhqnl   2.36 m\n",
      "gwzabb      \n",
      "lswe        3.5 m\n",
      "ekpmxgjgto  \n",
      "dh          \n",
      "\n",
      "dcadkpf 1.78 cm/s\n",
      "qxgqsza 0.11 cm\n",
      "ufht aa 2.16 cm/s\n",
      "qvsqjhqnl gwzabb 2.36 m\n",
      "lswe ekpmxgjgto dh 3.5 m\n"
     ]
    }
   ],
   "source": [
    "train = ''\n",
    "expect = ''\n",
    "\n",
    "for _ in range(1, 6):\n",
    "    a, b = column_generator.get_column(column)\n",
    "    \n",
    "    \n",
    "    train += '\\n'\n",
    "    train += '\\n'.join(a)\n",
    "    \n",
    "    expect += '\\n'\n",
    "    expect += b\n",
    "\n",
    "\n",
    "print(train)\n",
    "print(expect)"
   ]
  },
  {
   "cell_type": "code",
   "execution_count": null,
   "metadata": {},
   "outputs": [],
   "source": []
  },
  {
   "cell_type": "code",
   "execution_count": null,
   "metadata": {},
   "outputs": [],
   "source": []
  }
 ],
 "metadata": {
  "kernelspec": {
   "display_name": "Python 3",
   "language": "python",
   "name": "python3"
  },
  "language_info": {
   "codemirror_mode": {
    "name": "ipython",
    "version": 3
   },
   "file_extension": ".py",
   "mimetype": "text/x-python",
   "name": "python",
   "nbconvert_exporter": "python",
   "pygments_lexer": "ipython3",
   "version": "3.7.3"
  }
 },
 "nbformat": 4,
 "nbformat_minor": 4
}
