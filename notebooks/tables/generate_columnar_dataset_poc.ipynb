{
 "cells": [
  {
   "cell_type": "code",
   "execution_count": 1,
   "metadata": {},
   "outputs": [
    {
     "data": {
      "text/plain": [
       "'3.7.3 (default, Mar 27 2019, 09:23:15) \\n[Clang 10.0.1 (clang-1001.0.46.3)]'"
      ]
     },
     "execution_count": 1,
     "metadata": {},
     "output_type": "execute_result"
    }
   ],
   "source": [
    "import sys\n",
    "\n",
    "## find 'core' package\n",
    "sys.path.insert(0, '../..')\n",
    "\n",
    "sys.version"
   ]
  },
  {
   "cell_type": "code",
   "execution_count": null,
   "metadata": {},
   "outputs": [],
   "source": []
  },
  {
   "cell_type": "code",
   "execution_count": 2,
   "metadata": {},
   "outputs": [],
   "source": [
    "from core.models import unit\n",
    "from core.models.column import Column\n",
    "from core.models.table import Table\n",
    "from core.factories import column_factory"
   ]
  },
  {
   "cell_type": "code",
   "execution_count": null,
   "metadata": {},
   "outputs": [],
   "source": []
  },
  {
   "cell_type": "code",
   "execution_count": 4,
   "metadata": {},
   "outputs": [],
   "source": [
    "from core.generators.label_generator import LabelGenerator\n",
    "from core.generators.unit_generator import UnitGenerator\n",
    "from core.generators.column_generator import ColumnGenerator\n",
    "from core.generators.table_generator import TableGenerator"
   ]
  },
  {
   "cell_type": "code",
   "execution_count": null,
   "metadata": {},
   "outputs": [],
   "source": []
  },
  {
   "cell_type": "code",
   "execution_count": 5,
   "metadata": {},
   "outputs": [],
   "source": [
    "vocab = [ c for c in 'abcdefghijklmnopqrstuvwxyz' ]\n",
    "\n",
    "index_to_char = dict([ (i, c) for i, c in enumerate(vocab) ])\n",
    "char_to_index = dict([ (c, i) for i, c in enumerate(vocab) ])\n",
    "\n",
    "label_generator = LabelGenerator(index_to_char)\n",
    "unit_generator = UnitGenerator(unit.get_unit_lookup())\n",
    "\n",
    "column_generator = ColumnGenerator(label_generator, unit_generator)"
   ]
  },
  {
   "cell_type": "code",
   "execution_count": null,
   "metadata": {},
   "outputs": [],
   "source": []
  },
  {
   "cell_type": "code",
   "execution_count": 6,
   "metadata": {},
   "outputs": [],
   "source": [
    "table = Table()\n",
    "\n",
    "table.max_number_of_labels = 5\n",
    "table.columns = [ \n",
    "    column_factory.create_column(\n",
    "        order = 0,\n",
    "        min_label_length = 2,\n",
    "        max_label_length = 12,\n",
    "        max_unit_length = 6,\n",
    "        max_number_of_label_parts = 4\n",
    "    ),\n",
    "    column_factory.create_column(\n",
    "        order = 1,\n",
    "        min_label_length = 2,\n",
    "        max_label_length = 12,\n",
    "        max_unit_length = 6,\n",
    "        max_number_of_label_parts = 4\n",
    "    ),\n",
    "    column_factory.create_column(\n",
    "        order = 2,\n",
    "        min_label_length = 2,\n",
    "        max_label_length = 12,\n",
    "        max_unit_length = 6,\n",
    "        max_number_of_label_parts = 4\n",
    "    )\n",
    "]"
   ]
  },
  {
   "cell_type": "code",
   "execution_count": null,
   "metadata": {},
   "outputs": [],
   "source": []
  },
  {
   "cell_type": "code",
   "execution_count": 7,
   "metadata": {},
   "outputs": [],
   "source": [
    "table_generator = TableGenerator(column_generator)"
   ]
  },
  {
   "cell_type": "code",
   "execution_count": 8,
   "metadata": {},
   "outputs": [],
   "source": [
    "train, target = table_generator.get_table(table)"
   ]
  },
  {
   "cell_type": "code",
   "execution_count": null,
   "metadata": {},
   "outputs": [],
   "source": []
  },
  {
   "cell_type": "code",
   "execution_count": 9,
   "metadata": {},
   "outputs": [
    {
     "name": "stdout",
     "output_type": "stream",
     "text": [
      "hnfhtrkjyk  1.49       yowijjgg    0.35       mldi zzyhly 1.94\n",
      "            cm/s                   m/s                    cm/s\n",
      "vqdy        2.61       gacd        4.68 m\n"
     ]
    }
   ],
   "source": [
    "print('\\n'.join(train))"
   ]
  },
  {
   "cell_type": "code",
   "execution_count": null,
   "metadata": {},
   "outputs": [],
   "source": []
  },
  {
   "cell_type": "code",
   "execution_count": 10,
   "metadata": {},
   "outputs": [
    {
     "name": "stdout",
     "output_type": "stream",
     "text": [
      "hnfhtrkjyk 1.49 cm/s\n",
      "vqdy vrmljdut lbeet 2.61 m/s\n",
      "tugetk 1.72 cm/s\n",
      "yowijjgg 0.35 m/s\n",
      "gacd htmrqkhh rpo 4.68 m\n",
      "ebmc aotb zyabgqroobt 3.21 cm\n",
      "ppnw vu oojie 0.37 cm/s\n",
      "mldi zzyhly 1.94 cm/s\n"
     ]
    }
   ],
   "source": [
    "print(target)"
   ]
  },
  {
   "cell_type": "code",
   "execution_count": null,
   "metadata": {},
   "outputs": [],
   "source": []
  },
  {
   "cell_type": "code",
   "execution_count": 11,
   "metadata": {},
   "outputs": [],
   "source": [
    "from core.generators.dataset_generator import DatasetGenerator"
   ]
  },
  {
   "cell_type": "code",
   "execution_count": null,
   "metadata": {},
   "outputs": [],
   "source": []
  },
  {
   "cell_type": "code",
   "execution_count": 12,
   "metadata": {},
   "outputs": [],
   "source": [
    "dataset_generator = DatasetGenerator(table_generator)\n",
    "dataset = dataset_generator.get_data(table, n_instances = 10)"
   ]
  },
  {
   "cell_type": "code",
   "execution_count": null,
   "metadata": {},
   "outputs": [],
   "source": []
  },
  {
   "cell_type": "code",
   "execution_count": 13,
   "metadata": {},
   "outputs": [],
   "source": [
    "import pandas as pd"
   ]
  },
  {
   "cell_type": "code",
   "execution_count": null,
   "metadata": {},
   "outputs": [],
   "source": []
  },
  {
   "cell_type": "code",
   "execution_count": 14,
   "metadata": {},
   "outputs": [
    {
     "data": {
      "text/html": [
       "<div>\n",
       "<style scoped>\n",
       "    .dataframe tbody tr th:only-of-type {\n",
       "        vertical-align: middle;\n",
       "    }\n",
       "\n",
       "    .dataframe tbody tr th {\n",
       "        vertical-align: top;\n",
       "    }\n",
       "\n",
       "    .dataframe thead th {\n",
       "        text-align: right;\n",
       "    }\n",
       "</style>\n",
       "<table border=\"1\" class=\"dataframe\">\n",
       "  <thead>\n",
       "    <tr style=\"text-align: right;\">\n",
       "      <th></th>\n",
       "      <th>table</th>\n",
       "      <th>target</th>\n",
       "    </tr>\n",
       "  </thead>\n",
       "  <tbody>\n",
       "    <tr>\n",
       "      <th>0</th>\n",
       "      <td>ksnmd fpaykt1.12       mlxrrrb     1.53 m     ...</td>\n",
       "      <td>ksnmd fpaykt mqupag 1.12 cm/s\\nmlxrrrb uxmwytc...</td>\n",
       "    </tr>\n",
       "    <tr>\n",
       "      <th>1</th>\n",
       "      <td>ogz phbtjr  0.34       gcsu        2.94       ...</td>\n",
       "      <td>ogz phbtjr fkcarejyjbr 0.34 cm/s\\nvrbgklin blx...</td>\n",
       "    </tr>\n",
       "    <tr>\n",
       "      <th>2</th>\n",
       "      <td>gjmres      0.1 m      lcjbpftv    1.52       ...</td>\n",
       "      <td>gjmres uzccgn 0.1 m\\ndbs 4.57 m\\nnwcuonbk oyrk...</td>\n",
       "    </tr>\n",
       "    <tr>\n",
       "      <th>3</th>\n",
       "      <td>mxrplgvi    2.73       tlisrcbjdbg 1.25       ...</td>\n",
       "      <td>mxrplgvi 2.73 cm/s\\nmhkdocly 2.84 cm/s\\nuoorup...</td>\n",
       "    </tr>\n",
       "    <tr>\n",
       "      <th>4</th>\n",
       "      <td>pouhmwx wt  2.9        lz yhb      3.63 m     ...</td>\n",
       "      <td>pouhmwx wt 2.9 cm/s\\nlz yhb pmhkajfvfzu 3.63 m...</td>\n",
       "    </tr>\n",
       "  </tbody>\n",
       "</table>\n",
       "</div>"
      ],
      "text/plain": [
       "                                               table  \\\n",
       "0  ksnmd fpaykt1.12       mlxrrrb     1.53 m     ...   \n",
       "1  ogz phbtjr  0.34       gcsu        2.94       ...   \n",
       "2  gjmres      0.1 m      lcjbpftv    1.52       ...   \n",
       "3  mxrplgvi    2.73       tlisrcbjdbg 1.25       ...   \n",
       "4  pouhmwx wt  2.9        lz yhb      3.63 m     ...   \n",
       "\n",
       "                                              target  \n",
       "0  ksnmd fpaykt mqupag 1.12 cm/s\\nmlxrrrb uxmwytc...  \n",
       "1  ogz phbtjr fkcarejyjbr 0.34 cm/s\\nvrbgklin blx...  \n",
       "2  gjmres uzccgn 0.1 m\\ndbs 4.57 m\\nnwcuonbk oyrk...  \n",
       "3  mxrplgvi 2.73 cm/s\\nmhkdocly 2.84 cm/s\\nuoorup...  \n",
       "4  pouhmwx wt 2.9 cm/s\\nlz yhb pmhkajfvfzu 3.63 m...  "
      ]
     },
     "execution_count": 14,
     "metadata": {},
     "output_type": "execute_result"
    }
   ],
   "source": [
    "df = pd.DataFrame(dataset)\n",
    "df.columns = ['table', 'target']\n",
    "\n",
    "df.head()"
   ]
  },
  {
   "cell_type": "code",
   "execution_count": null,
   "metadata": {},
   "outputs": [],
   "source": []
  },
  {
   "cell_type": "code",
   "execution_count": 15,
   "metadata": {},
   "outputs": [
    {
     "name": "stdout",
     "output_type": "stream",
     "text": [
      "ksnmd fpaykt1.12       mlxrrrb     1.53 m     lmdryqztnm  2.69\n",
      "mqupag      cm/s       uxmwytc                elyjc       cm/s\n",
      "                       gbqdxrasv              futhgqj\n",
      "                                              tuysdsw     4.85\n",
      "                                              wakvltyhtn  cm\n",
      "                                              ufjbzer\n",
      "                                              mgldypmtbvl 0.75\n",
      "                                              vwm         m/s\n",
      "                                              wbvuxrhlel\n",
      "\n"
     ]
    }
   ],
   "source": [
    "print(df['table'][0])"
   ]
  },
  {
   "cell_type": "code",
   "execution_count": 16,
   "metadata": {},
   "outputs": [
    {
     "name": "stdout",
     "output_type": "stream",
     "text": [
      "ksnmd fpaykt mqupag 1.12 cm/s\n",
      "mlxrrrb uxmwytc gbqdxrasv 1.53 m\n",
      "lmdryqztnm elyjc futhgqj 2.69 cm/s\n",
      "tuysdsw wakvltyhtn ufjbzer 4.85 cm\n",
      "mgldypmtbvl vwm wbvuxrhlel 0.75 m/s\n"
     ]
    }
   ],
   "source": [
    "print(df['target'][0])"
   ]
  },
  {
   "cell_type": "code",
   "execution_count": null,
   "metadata": {},
   "outputs": [],
   "source": []
  }
 ],
 "metadata": {
  "kernelspec": {
   "display_name": "Python 3",
   "language": "python",
   "name": "python3"
  },
  "language_info": {
   "codemirror_mode": {
    "name": "ipython",
    "version": 3
   },
   "file_extension": ".py",
   "mimetype": "text/x-python",
   "name": "python",
   "nbconvert_exporter": "python",
   "pygments_lexer": "ipython3",
   "version": "3.7.3"
  }
 },
 "nbformat": 4,
 "nbformat_minor": 4
}
