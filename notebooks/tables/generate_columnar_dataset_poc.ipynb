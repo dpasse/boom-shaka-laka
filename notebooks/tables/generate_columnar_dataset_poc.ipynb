{
 "cells": [
  {
   "cell_type": "code",
   "execution_count": 1,
   "metadata": {},
   "outputs": [
    {
     "data": {
      "text/plain": [
       "'3.7.3 (default, Mar 27 2019, 09:23:15) \\n[Clang 10.0.1 (clang-1001.0.46.3)]'"
      ]
     },
     "execution_count": 1,
     "metadata": {},
     "output_type": "execute_result"
    }
   ],
   "source": [
    "import sys\n",
    "\n",
    "## find 'core' package\n",
    "sys.path.insert(0, '../..')\n",
    "\n",
    "sys.version"
   ]
  },
  {
   "cell_type": "code",
   "execution_count": null,
   "metadata": {},
   "outputs": [],
   "source": []
  },
  {
   "cell_type": "code",
   "execution_count": 2,
   "metadata": {},
   "outputs": [],
   "source": [
    "from core.models import unit\n",
    "from core.models.column import Column\n",
    "from core.models.table import Table\n",
    "from core.factories import column_factory"
   ]
  },
  {
   "cell_type": "code",
   "execution_count": null,
   "metadata": {},
   "outputs": [],
   "source": []
  },
  {
   "cell_type": "code",
   "execution_count": 3,
   "metadata": {},
   "outputs": [],
   "source": [
    "from core.generators.label_generator import LabelGenerator\n",
    "from core.generators.unit_generator import UnitGenerator\n",
    "from core.generators.column_generator import ColumnGenerator\n",
    "from core.generators.table_generator import TableGenerator"
   ]
  },
  {
   "cell_type": "code",
   "execution_count": null,
   "metadata": {},
   "outputs": [],
   "source": []
  },
  {
   "cell_type": "code",
   "execution_count": 4,
   "metadata": {},
   "outputs": [],
   "source": [
    "vocab = [ c for c in 'abcdefghijklmnopqrstuvwxyz' ]\n",
    "\n",
    "index_to_char = dict([ (i, c) for i, c in enumerate(vocab) ])\n",
    "char_to_index = dict([ (c, i) for i, c in enumerate(vocab) ])\n",
    "\n",
    "label_generator = LabelGenerator(index_to_char)\n",
    "unit_generator = UnitGenerator(unit.get_unit_lookup())\n",
    "\n",
    "column_generator = ColumnGenerator(label_generator, unit_generator)"
   ]
  },
  {
   "cell_type": "code",
   "execution_count": null,
   "metadata": {},
   "outputs": [],
   "source": []
  },
  {
   "cell_type": "code",
   "execution_count": 5,
   "metadata": {},
   "outputs": [],
   "source": [
    "table = Table()\n",
    "\n",
    "table.n_spaces_between_columns = 5\n",
    "table.max_number_of_labels = 5\n",
    "table.columns = [ \n",
    "    column_factory.create_column(\n",
    "        order = 0,\n",
    "        min_label_length = 2,\n",
    "        max_label_length = 12,\n",
    "        max_unit_length = 6,\n",
    "        max_number_of_label_parts = 4\n",
    "    ),\n",
    "    column_factory.create_column(\n",
    "        order = 1,\n",
    "        min_label_length = 4,\n",
    "        max_label_length = 15,\n",
    "        max_unit_length = 6,\n",
    "        max_number_of_label_parts = 3\n",
    "    ),\n",
    "    column_factory.create_column(\n",
    "        order = 2,\n",
    "        min_label_length = 2,\n",
    "        max_label_length = 12,\n",
    "        max_unit_length = 6,\n",
    "        max_number_of_label_parts = 4\n",
    "    )\n",
    "]"
   ]
  },
  {
   "cell_type": "code",
   "execution_count": null,
   "metadata": {},
   "outputs": [],
   "source": []
  },
  {
   "cell_type": "code",
   "execution_count": 6,
   "metadata": {},
   "outputs": [],
   "source": [
    "table_generator = TableGenerator(column_generator)"
   ]
  },
  {
   "cell_type": "code",
   "execution_count": 7,
   "metadata": {},
   "outputs": [],
   "source": [
    "train, target = table_generator.get_table(table)"
   ]
  },
  {
   "cell_type": "code",
   "execution_count": null,
   "metadata": {},
   "outputs": [],
   "source": []
  },
  {
   "cell_type": "code",
   "execution_count": 8,
   "metadata": {},
   "outputs": [
    {
     "name": "stdout",
     "output_type": "stream",
     "text": [
      "wkosmrp     2.25       jwcdaiprciiqqm 2.3        hutjlaw     2.12\n",
      "oagqqj      cm                        cm/s       gpaaa       cm\n",
      "nzpxxdeqs   3.42       ywydxl ealfzw  1.5\n"
     ]
    }
   ],
   "source": [
    "print('\\n'.join(train))"
   ]
  },
  {
   "cell_type": "code",
   "execution_count": null,
   "metadata": {},
   "outputs": [],
   "source": []
  },
  {
   "cell_type": "code",
   "execution_count": 9,
   "metadata": {},
   "outputs": [
    {
     "name": "stdout",
     "output_type": "stream",
     "text": [
      "wkosmrp oagqqj 2.25 cm\n",
      "nzpxxdeqs hkaxayaub ytijrnhkkfv 3.42 cm\n",
      "aalybhg 3.19 cm\n",
      "jwcdaiprciiqqm 2.3 cm/s\n",
      "ywydxl ealfzw 1.5 m/s\n",
      "fnmdmoj 0.41 m/s\n",
      "qleddvxsykpcu 0.61 cm\n",
      "hutjlaw gpaaa 2.12 cm\n"
     ]
    }
   ],
   "source": [
    "print(target)"
   ]
  },
  {
   "cell_type": "code",
   "execution_count": null,
   "metadata": {},
   "outputs": [],
   "source": []
  },
  {
   "cell_type": "code",
   "execution_count": 10,
   "metadata": {},
   "outputs": [],
   "source": [
    "from core.generators.dataset_generator import DatasetGenerator\n",
    "from core.generators.mashup_dataset_generator import MashupDatasetGenerator"
   ]
  },
  {
   "cell_type": "code",
   "execution_count": null,
   "metadata": {},
   "outputs": [],
   "source": []
  },
  {
   "cell_type": "code",
   "execution_count": 11,
   "metadata": {},
   "outputs": [],
   "source": [
    "options = [\n",
    "    {\n",
    "        'table': table,\n",
    "        'n_instances': 10,\n",
    "        'dataset_generator': DatasetGenerator(table_generator)\n",
    "    }\n",
    "]\n",
    "\n",
    "mashup_generator = MashupDatasetGenerator()\n",
    "dataset = mashup_generator.get_data(options)"
   ]
  },
  {
   "cell_type": "code",
   "execution_count": null,
   "metadata": {},
   "outputs": [],
   "source": []
  },
  {
   "cell_type": "code",
   "execution_count": 12,
   "metadata": {},
   "outputs": [],
   "source": [
    "import pandas as pd"
   ]
  },
  {
   "cell_type": "code",
   "execution_count": null,
   "metadata": {},
   "outputs": [],
   "source": []
  },
  {
   "cell_type": "code",
   "execution_count": 13,
   "metadata": {},
   "outputs": [
    {
     "data": {
      "text/html": [
       "<div>\n",
       "<style scoped>\n",
       "    .dataframe tbody tr th:only-of-type {\n",
       "        vertical-align: middle;\n",
       "    }\n",
       "\n",
       "    .dataframe tbody tr th {\n",
       "        vertical-align: top;\n",
       "    }\n",
       "\n",
       "    .dataframe thead th {\n",
       "        text-align: right;\n",
       "    }\n",
       "</style>\n",
       "<table border=\"1\" class=\"dataframe\">\n",
       "  <thead>\n",
       "    <tr style=\"text-align: right;\">\n",
       "      <th></th>\n",
       "      <th>table</th>\n",
       "      <th>target</th>\n",
       "    </tr>\n",
       "  </thead>\n",
       "  <tbody>\n",
       "    <tr>\n",
       "      <th>0</th>\n",
       "      <td>fxhptebwrxo 2.7 m      rbxfpfs jusz   1.11    ...</td>\n",
       "      <td>fxhptebwrxo 2.7 m\\nqcgsigbeiw pwit 0.8 cm/s\\nq...</td>\n",
       "    </tr>\n",
       "    <tr>\n",
       "      <th>1</th>\n",
       "      <td>ae dhcaqcz  2.23       ilmoceupobmp   2.23    ...</td>\n",
       "      <td>ae dhcaqcz 2.23 cm/s\\nlktfavqtgh mfdldpcuufo 2...</td>\n",
       "    </tr>\n",
       "    <tr>\n",
       "      <th>2</th>\n",
       "      <td>iawuubj     0.28       djudenaab tbawo0.92 m  ...</td>\n",
       "      <td>iawuubj wnjtyfumhsg 0.28 m/s\\nslxiclve jgyhz 1...</td>\n",
       "    </tr>\n",
       "    <tr>\n",
       "      <th>3</th>\n",
       "      <td>gzjae xf po 3.46       gnyomjbrwikl   1.39    ...</td>\n",
       "      <td>gzjae xf po 3.46 cm\\ngnyomjbrwikl nekeiqsje 1....</td>\n",
       "    </tr>\n",
       "    <tr>\n",
       "      <th>4</th>\n",
       "      <td>ieqkdlzjkcd 0.06       jzgxw          0.92 m  ...</td>\n",
       "      <td>ieqkdlzjkcd qodnluzqdb 0.06 cm/s\\nqqivirstws x...</td>\n",
       "    </tr>\n",
       "  </tbody>\n",
       "</table>\n",
       "</div>"
      ],
      "text/plain": [
       "                                               table  \\\n",
       "0  fxhptebwrxo 2.7 m      rbxfpfs jusz   1.11    ...   \n",
       "1  ae dhcaqcz  2.23       ilmoceupobmp   2.23    ...   \n",
       "2  iawuubj     0.28       djudenaab tbawo0.92 m  ...   \n",
       "3  gzjae xf po 3.46       gnyomjbrwikl   1.39    ...   \n",
       "4  ieqkdlzjkcd 0.06       jzgxw          0.92 m  ...   \n",
       "\n",
       "                                              target  \n",
       "0  fxhptebwrxo 2.7 m\\nqcgsigbeiw pwit 0.8 cm/s\\nq...  \n",
       "1  ae dhcaqcz 2.23 cm/s\\nlktfavqtgh mfdldpcuufo 2...  \n",
       "2  iawuubj wnjtyfumhsg 0.28 m/s\\nslxiclve jgyhz 1...  \n",
       "3  gzjae xf po 3.46 cm\\ngnyomjbrwikl nekeiqsje 1....  \n",
       "4  ieqkdlzjkcd qodnluzqdb 0.06 cm/s\\nqqivirstws x...  "
      ]
     },
     "execution_count": 13,
     "metadata": {},
     "output_type": "execute_result"
    }
   ],
   "source": [
    "df = pd.DataFrame(dataset)\n",
    "df.columns = ['table', 'target']\n",
    "\n",
    "df.head()"
   ]
  },
  {
   "cell_type": "code",
   "execution_count": null,
   "metadata": {},
   "outputs": [],
   "source": []
  },
  {
   "cell_type": "code",
   "execution_count": 14,
   "metadata": {},
   "outputs": [
    {
     "name": "stdout",
     "output_type": "stream",
     "text": [
      "fxhptebwrxo 2.7 m      rbxfpfs jusz   1.11       zvboiggittj 0.85\n",
      "qcgsigbeiw  0.8                       cm         ourzj       m/s\n",
      "pwit        cm/s                                 wubzzaqk\n",
      "qtycf       1.53                                 xci sh      2.87\n",
      "            cm/s                                             m/s\n",
      "igqtts eucnx0.28\n"
     ]
    }
   ],
   "source": [
    "print(df['table'][0])"
   ]
  },
  {
   "cell_type": "code",
   "execution_count": 15,
   "metadata": {},
   "outputs": [
    {
     "name": "stdout",
     "output_type": "stream",
     "text": [
      "fxhptebwrxo 2.7 m\n",
      "qcgsigbeiw pwit 0.8 cm/s\n",
      "qtycf 1.53 cm/s\n",
      "igqtts eucnx qubcc 0.28 cm/s\n",
      "rbxfpfs jusz 1.11 cm\n",
      "zvboiggittj ourzj wubzzaqk 0.85 m/s\n",
      "xci sh 2.87 m/s\n"
     ]
    }
   ],
   "source": [
    "print(df['target'][0])"
   ]
  },
  {
   "cell_type": "code",
   "execution_count": null,
   "metadata": {},
   "outputs": [],
   "source": []
  },
  {
   "cell_type": "code",
   "execution_count": 16,
   "metadata": {},
   "outputs": [],
   "source": [
    "## split train, dev, test..."
   ]
  },
  {
   "cell_type": "code",
   "execution_count": 17,
   "metadata": {},
   "outputs": [],
   "source": [
    "from core.utils.modeling_utils import train_test_dev_split"
   ]
  },
  {
   "cell_type": "code",
   "execution_count": null,
   "metadata": {},
   "outputs": [],
   "source": []
  },
  {
   "cell_type": "code",
   "execution_count": 18,
   "metadata": {},
   "outputs": [
    {
     "name": "stdout",
     "output_type": "stream",
     "text": [
      "7 1 2\n"
     ]
    }
   ],
   "source": [
    "train_data, dev_data, test_data = train_test_dev_split(dataset, .70)\n",
    "    \n",
    "print(len(train_data), len(dev_data), len(test_data))"
   ]
  },
  {
   "cell_type": "code",
   "execution_count": null,
   "metadata": {},
   "outputs": [],
   "source": []
  }
 ],
 "metadata": {
  "kernelspec": {
   "display_name": "Python 3",
   "language": "python",
   "name": "python3"
  },
  "language_info": {
   "codemirror_mode": {
    "name": "ipython",
    "version": 3
   },
   "file_extension": ".py",
   "mimetype": "text/x-python",
   "name": "python",
   "nbconvert_exporter": "python",
   "pygments_lexer": "ipython3",
   "version": "3.7.3"
  }
 },
 "nbformat": 4,
 "nbformat_minor": 4
}
