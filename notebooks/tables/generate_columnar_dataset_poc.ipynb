{
 "cells": [
  {
   "cell_type": "code",
   "execution_count": 1,
   "metadata": {},
   "outputs": [
    {
     "data": {
      "text/plain": [
       "'3.7.3 (default, Mar 27 2019, 09:23:15) \\n[Clang 10.0.1 (clang-1001.0.46.3)]'"
      ]
     },
     "execution_count": 1,
     "metadata": {},
     "output_type": "execute_result"
    }
   ],
   "source": [
    "import sys\n",
    "\n",
    "## find 'core' package\n",
    "sys.path.insert(0, '../..')\n",
    "\n",
    "sys.version"
   ]
  },
  {
   "cell_type": "code",
   "execution_count": null,
   "metadata": {},
   "outputs": [],
   "source": []
  },
  {
   "cell_type": "code",
   "execution_count": 2,
   "metadata": {},
   "outputs": [],
   "source": [
    "from core.models import unit\n",
    "from core.models.column import Column\n",
    "from core.models.table import Table\n",
    "from core.factories import column_factory"
   ]
  },
  {
   "cell_type": "code",
   "execution_count": null,
   "metadata": {},
   "outputs": [],
   "source": []
  },
  {
   "cell_type": "code",
   "execution_count": 3,
   "metadata": {},
   "outputs": [],
   "source": [
    "from core.generators.label_generator import LabelGenerator\n",
    "from core.generators.unit_generator import UnitGenerator\n",
    "from core.generators.column_generator import ColumnGenerator\n",
    "from core.generators.table_generator import TableGenerator"
   ]
  },
  {
   "cell_type": "code",
   "execution_count": null,
   "metadata": {},
   "outputs": [],
   "source": []
  },
  {
   "cell_type": "code",
   "execution_count": 4,
   "metadata": {},
   "outputs": [],
   "source": [
    "vocab = [ c for c in 'abcdefghijklmnopqrstuvwxyz' ]\n",
    "\n",
    "index_to_char = dict([ (i, c) for i, c in enumerate(vocab) ])\n",
    "char_to_index = dict([ (c, i) for i, c in enumerate(vocab) ])\n",
    "\n",
    "label_generator = LabelGenerator(index_to_char)\n",
    "unit_generator = UnitGenerator(unit.get_unit_lookup())\n",
    "\n",
    "column_generator = ColumnGenerator(label_generator, unit_generator)"
   ]
  },
  {
   "cell_type": "code",
   "execution_count": null,
   "metadata": {},
   "outputs": [],
   "source": []
  },
  {
   "cell_type": "code",
   "execution_count": 5,
   "metadata": {},
   "outputs": [],
   "source": [
    "table = Table()\n",
    "\n",
    "table.max_number_of_labels = 5\n",
    "table.columns = [ \n",
    "    column_factory.create_column(\n",
    "        order = 0,\n",
    "        min_label_length = 2,\n",
    "        max_label_length = 12,\n",
    "        max_unit_length = 6,\n",
    "        max_number_of_label_parts = 4\n",
    "    ),\n",
    "    column_factory.create_column(\n",
    "        order = 1,\n",
    "        min_label_length = 4,\n",
    "        max_label_length = 15,\n",
    "        max_unit_length = 6,\n",
    "        max_number_of_label_parts = 3\n",
    "    ),\n",
    "    column_factory.create_column(\n",
    "        order = 2,\n",
    "        min_label_length = 2,\n",
    "        max_label_length = 12,\n",
    "        max_unit_length = 6,\n",
    "        max_number_of_label_parts = 4\n",
    "    )\n",
    "]"
   ]
  },
  {
   "cell_type": "code",
   "execution_count": null,
   "metadata": {},
   "outputs": [],
   "source": []
  },
  {
   "cell_type": "code",
   "execution_count": 6,
   "metadata": {},
   "outputs": [],
   "source": [
    "table_generator = TableGenerator(column_generator)"
   ]
  },
  {
   "cell_type": "code",
   "execution_count": 7,
   "metadata": {},
   "outputs": [],
   "source": [
    "train, target = table_generator.get_table(table)"
   ]
  },
  {
   "cell_type": "code",
   "execution_count": null,
   "metadata": {},
   "outputs": [],
   "source": []
  },
  {
   "cell_type": "code",
   "execution_count": 8,
   "metadata": {},
   "outputs": [
    {
     "name": "stdout",
     "output_type": "stream",
     "text": [
      "yzaobdjmq   1.92       mukzzv         1.72       laaxkrl     0.53\n",
      "bzrufmd     cm/s                      cm                     m/s\n",
      "ewooifgnmt  2.77       rbjoyyggiley   0.66       xlomcpbxjc  0.78\n",
      "qczgyxa     m/s        mvrqbfwcnpfme  m/s                    cm\n",
      "kqxujjxils  2.3                                  khfvpy      0.16\n",
      "vfdys bnrve m/s                                              m/s\n",
      "vosm bkb    1.3\n"
     ]
    }
   ],
   "source": [
    "print('\\n'.join(train))"
   ]
  },
  {
   "cell_type": "code",
   "execution_count": null,
   "metadata": {},
   "outputs": [],
   "source": []
  },
  {
   "cell_type": "code",
   "execution_count": 9,
   "metadata": {},
   "outputs": [
    {
     "name": "stdout",
     "output_type": "stream",
     "text": [
      "yzaobdjmq bzrufmd 1.92 cm/s\n",
      "ewooifgnmt qczgyxa 2.77 m/s\n",
      "kqxujjxils vfdys bnrve 2.3 m/s\n",
      "vosm bkb hjkkogro 1.3 cm/s\n",
      "mukzzv 1.72 cm\n",
      "rbjoyyggiley mvrqbfwcnpfme 0.66 m/s\n",
      "laaxkrl 0.53 m/s\n",
      "xlomcpbxjc 0.78 cm\n",
      "khfvpy 0.16 m/s\n"
     ]
    }
   ],
   "source": [
    "print(target)"
   ]
  },
  {
   "cell_type": "code",
   "execution_count": null,
   "metadata": {},
   "outputs": [],
   "source": []
  },
  {
   "cell_type": "code",
   "execution_count": 10,
   "metadata": {},
   "outputs": [],
   "source": [
    "from core.generators.dataset_generator import DatasetGenerator\n",
    "from core.generators.mashup_dataset_generator import MashupDatasetGenerator"
   ]
  },
  {
   "cell_type": "code",
   "execution_count": null,
   "metadata": {},
   "outputs": [],
   "source": []
  },
  {
   "cell_type": "code",
   "execution_count": 11,
   "metadata": {},
   "outputs": [],
   "source": [
    "options = [\n",
    "    {\n",
    "        'table': table,\n",
    "        'n_instances': 10,\n",
    "        'dataset_generator': DatasetGenerator(table_generator)\n",
    "    }\n",
    "]\n",
    "\n",
    "mashup_generator = MashupDatasetGenerator()\n",
    "dataset = mashup_generator.get_data(options)"
   ]
  },
  {
   "cell_type": "code",
   "execution_count": null,
   "metadata": {},
   "outputs": [],
   "source": []
  },
  {
   "cell_type": "code",
   "execution_count": 12,
   "metadata": {},
   "outputs": [],
   "source": [
    "import pandas as pd"
   ]
  },
  {
   "cell_type": "code",
   "execution_count": null,
   "metadata": {},
   "outputs": [],
   "source": []
  },
  {
   "cell_type": "code",
   "execution_count": 13,
   "metadata": {},
   "outputs": [
    {
     "data": {
      "text/html": [
       "<div>\n",
       "<style scoped>\n",
       "    .dataframe tbody tr th:only-of-type {\n",
       "        vertical-align: middle;\n",
       "    }\n",
       "\n",
       "    .dataframe tbody tr th {\n",
       "        vertical-align: top;\n",
       "    }\n",
       "\n",
       "    .dataframe thead th {\n",
       "        text-align: right;\n",
       "    }\n",
       "</style>\n",
       "<table border=\"1\" class=\"dataframe\">\n",
       "  <thead>\n",
       "    <tr style=\"text-align: right;\">\n",
       "      <th></th>\n",
       "      <th>table</th>\n",
       "      <th>target</th>\n",
       "    </tr>\n",
       "  </thead>\n",
       "  <tbody>\n",
       "    <tr>\n",
       "      <th>0</th>\n",
       "      <td>bxcejtcrfho 4.15       pfgei          0.38 m  ...</td>\n",
       "      <td>bxcejtcrfho jogvg ojlp 4.15 cm\\nnavgdknphp 2.6...</td>\n",
       "    </tr>\n",
       "    <tr>\n",
       "      <th>1</th>\n",
       "      <td>wtfiw vdixr 3.69       qqilpghknfa    0.09    ...</td>\n",
       "      <td>wtfiw vdixr mseu 3.69 cm\\nobwohuava zrzjkrlm o...</td>\n",
       "    </tr>\n",
       "    <tr>\n",
       "      <th>2</th>\n",
       "      <td>gti         1.57       nmunrpysc      0.65    ...</td>\n",
       "      <td>gti 1.57 cm/s\\njznrda 3.01 m\\nnmunrpysc 0.65 m...</td>\n",
       "    </tr>\n",
       "    <tr>\n",
       "      <th>3</th>\n",
       "      <td>kwxwygbfpll 3.62       fsubrbgl       2.18    ...</td>\n",
       "      <td>kwxwygbfpll kb 3.62 cm\\nvjqgqwb uujl qeda 0.02...</td>\n",
       "    </tr>\n",
       "    <tr>\n",
       "      <th>4</th>\n",
       "      <td>sntd        1.41       srlnujdbsxilw  0.36    ...</td>\n",
       "      <td>sntd lczhahwzf cev 1.41 m/s\\ngoozavhs teiffibt...</td>\n",
       "    </tr>\n",
       "  </tbody>\n",
       "</table>\n",
       "</div>"
      ],
      "text/plain": [
       "                                               table  \\\n",
       "0  bxcejtcrfho 4.15       pfgei          0.38 m  ...   \n",
       "1  wtfiw vdixr 3.69       qqilpghknfa    0.09    ...   \n",
       "2  gti         1.57       nmunrpysc      0.65    ...   \n",
       "3  kwxwygbfpll 3.62       fsubrbgl       2.18    ...   \n",
       "4  sntd        1.41       srlnujdbsxilw  0.36    ...   \n",
       "\n",
       "                                              target  \n",
       "0  bxcejtcrfho jogvg ojlp 4.15 cm\\nnavgdknphp 2.6...  \n",
       "1  wtfiw vdixr mseu 3.69 cm\\nobwohuava zrzjkrlm o...  \n",
       "2  gti 1.57 cm/s\\njznrda 3.01 m\\nnmunrpysc 0.65 m...  \n",
       "3  kwxwygbfpll kb 3.62 cm\\nvjqgqwb uujl qeda 0.02...  \n",
       "4  sntd lczhahwzf cev 1.41 m/s\\ngoozavhs teiffibt...  "
      ]
     },
     "execution_count": 13,
     "metadata": {},
     "output_type": "execute_result"
    }
   ],
   "source": [
    "df = pd.DataFrame(dataset)\n",
    "df.columns = ['table', 'target']\n",
    "\n",
    "df.head()"
   ]
  },
  {
   "cell_type": "code",
   "execution_count": null,
   "metadata": {},
   "outputs": [],
   "source": []
  },
  {
   "cell_type": "code",
   "execution_count": 14,
   "metadata": {},
   "outputs": [
    {
     "name": "stdout",
     "output_type": "stream",
     "text": [
      "bxcejtcrfho 4.15       pfgei          0.38 m     gqyybrhn    4.89 m\n",
      "jogvg ojlp  cm         rkxuineyucc    2.98       dkoo faf    2.96\n",
      "navgdknphp  2.67       sbddfimsxeutc  m/s        qlvbo       cm/s\n",
      "            cm         bsgdlnjqoceosc 3.5 cm\n"
     ]
    }
   ],
   "source": [
    "print(df['table'][0])"
   ]
  },
  {
   "cell_type": "code",
   "execution_count": 15,
   "metadata": {},
   "outputs": [
    {
     "name": "stdout",
     "output_type": "stream",
     "text": [
      "bxcejtcrfho jogvg ojlp 4.15 cm\n",
      "navgdknphp 2.67 cm\n",
      "pfgei 0.38 m\n",
      "rkxuineyucc sbddfimsxeutc 2.98 m/s\n",
      "bsgdlnjqoceosc ymtirqgohyx 3.5 cm\n",
      "gqyybrhn 4.89 m\n",
      "dkoo faf qlvbo 2.96 cm/s\n"
     ]
    }
   ],
   "source": [
    "print(df['target'][0])"
   ]
  },
  {
   "cell_type": "code",
   "execution_count": null,
   "metadata": {},
   "outputs": [],
   "source": []
  }
 ],
 "metadata": {
  "kernelspec": {
   "display_name": "Python 3",
   "language": "python",
   "name": "python3"
  },
  "language_info": {
   "codemirror_mode": {
    "name": "ipython",
    "version": 3
   },
   "file_extension": ".py",
   "mimetype": "text/x-python",
   "name": "python",
   "nbconvert_exporter": "python",
   "pygments_lexer": "ipython3",
   "version": "3.7.3"
  }
 },
 "nbformat": 4,
 "nbformat_minor": 4
}
