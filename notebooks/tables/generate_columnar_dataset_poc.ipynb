{
 "cells": [
  {
   "cell_type": "code",
   "execution_count": 1,
   "metadata": {},
   "outputs": [
    {
     "data": {
      "text/plain": [
       "'3.7.3 (default, Mar 27 2019, 09:23:15) \\n[Clang 10.0.1 (clang-1001.0.46.3)]'"
      ]
     },
     "execution_count": 1,
     "metadata": {},
     "output_type": "execute_result"
    }
   ],
   "source": [
    "import sys\n",
    "\n",
    "## find 'core' package\n",
    "sys.path.insert(0, '../..')\n",
    "\n",
    "sys.version"
   ]
  },
  {
   "cell_type": "code",
   "execution_count": null,
   "metadata": {},
   "outputs": [],
   "source": []
  },
  {
   "cell_type": "code",
   "execution_count": 2,
   "metadata": {},
   "outputs": [],
   "source": [
    "from core.models import unit\n",
    "from core.models.column import Column\n",
    "from core.models.table import Table\n",
    "from core.factories import column_factory"
   ]
  },
  {
   "cell_type": "code",
   "execution_count": null,
   "metadata": {},
   "outputs": [],
   "source": []
  },
  {
   "cell_type": "code",
   "execution_count": 3,
   "metadata": {},
   "outputs": [],
   "source": [
    "from core.generators.label_generator import LabelGenerator\n",
    "from core.generators.unit_generator import UnitGenerator\n",
    "from core.generators.column_generator import ColumnGenerator\n",
    "from core.generators.table_generator import TableGenerator"
   ]
  },
  {
   "cell_type": "code",
   "execution_count": null,
   "metadata": {},
   "outputs": [],
   "source": []
  },
  {
   "cell_type": "code",
   "execution_count": 4,
   "metadata": {},
   "outputs": [],
   "source": [
    "vocab = [ c for c in 'abcdefghijklmnopqrstuvwxyz' ]\n",
    "\n",
    "index_to_char = dict([ (i, c) for i, c in enumerate(vocab) ])\n",
    "char_to_index = dict([ (c, i) for i, c in enumerate(vocab) ])\n",
    "\n",
    "label_generator = LabelGenerator(index_to_char)\n",
    "unit_generator = UnitGenerator(unit.get_unit_lookup())\n",
    "\n",
    "column_generator = ColumnGenerator(label_generator, unit_generator)"
   ]
  },
  {
   "cell_type": "code",
   "execution_count": null,
   "metadata": {},
   "outputs": [],
   "source": []
  },
  {
   "cell_type": "code",
   "execution_count": 5,
   "metadata": {},
   "outputs": [],
   "source": [
    "table = Table()\n",
    "\n",
    "table.n_spaces_between_columns = 5\n",
    "table.max_number_of_labels = 10\n",
    "table.columns = [ \n",
    "    column_factory.create_column(\n",
    "        order = 0,\n",
    "        min_label_length = 2,\n",
    "        max_label_length = 12,\n",
    "        max_unit_length = 6,\n",
    "        max_number_of_label_parts = 4\n",
    "    ),\n",
    "    column_factory.create_column(\n",
    "        order = 1,\n",
    "        min_label_length = 4,\n",
    "        max_label_length = 15,\n",
    "        max_unit_length = 6,\n",
    "        max_number_of_label_parts = 3\n",
    "    ),\n",
    "    column_factory.create_column(\n",
    "        order = 2,\n",
    "        min_label_length = 2,\n",
    "        max_label_length = 12,\n",
    "        max_unit_length = 6,\n",
    "        max_number_of_label_parts = 4\n",
    "    )\n",
    "]"
   ]
  },
  {
   "cell_type": "code",
   "execution_count": null,
   "metadata": {},
   "outputs": [],
   "source": []
  },
  {
   "cell_type": "code",
   "execution_count": 6,
   "metadata": {},
   "outputs": [],
   "source": [
    "table_generator = TableGenerator(table, column_generator)"
   ]
  },
  {
   "cell_type": "code",
   "execution_count": 7,
   "metadata": {},
   "outputs": [],
   "source": [
    "table_id, train, target = table_generator.get_table()"
   ]
  },
  {
   "cell_type": "code",
   "execution_count": null,
   "metadata": {},
   "outputs": [],
   "source": []
  },
  {
   "cell_type": "code",
   "execution_count": 8,
   "metadata": {},
   "outputs": [
    {
     "name": "stdout",
     "output_type": "stream",
     "text": [
      "aqyl        1.88       jkduxqkwuwen   0.03 m     juwla       1.64 m\n",
      "            cm/s       jiuojaaqefvyps            ovwshojdun  2.63\n",
      "yznkuzbfakw 0.17       ltfcqcbbskrhbq 2.9                    cm/s\n",
      "jlnnnyfaj   cm         oachjxrcekl    cm/s       lgknvkbr oo 0.95\n",
      "ev jldkn    1.86       hdnqthtjln     0.12       gp          cm/s\n",
      "roealsgefz  cm/s       uerybgfogqr    cm/s       htkcxdqrnmo 1.97\n",
      "tcxmunueylj 1.11       qyrgsgcnd      2.96       fog rutj    cm/s\n",
      "cqykgrxvjfn cm/s                      m/s        imnjnrssk   1.21\n",
      "okuezlvqwgo 2.51 m     niba ijemfmaiqb1.0        uatxcvqbjnj cm/s\n",
      "uqshigagpw                            m/s        fwockguo    0.75\n",
      "xcuwgq                                           kpzgzamc    cm/s\n",
      "                                                 nqukmd      2.22\n",
      "                                                 kroopgpafim m/s\n",
      "                                                 obaxrgorg\n",
      "                                                 yfnq        3.71\n",
      "                                                             cm\n",
      "                                                 mnbuk kw    4.25 m\n",
      "\n"
     ]
    }
   ],
   "source": [
    "print('\\n'.join(train))"
   ]
  },
  {
   "cell_type": "code",
   "execution_count": null,
   "metadata": {},
   "outputs": [],
   "source": []
  },
  {
   "cell_type": "code",
   "execution_count": 9,
   "metadata": {},
   "outputs": [
    {
     "name": "stdout",
     "output_type": "stream",
     "text": [
      "aqyl 1.88 cm/s\n",
      "yznkuzbfakw jlnnnyfaj 0.17 cm\n",
      "ev jldkn roealsgefz 1.86 cm/s\n",
      "tcxmunueylj cqykgrxvjfn 1.11 cm/s\n",
      "okuezlvqwgo uqshigagpw xcuwgq 2.51 m\n",
      "jkduxqkwuwen jiuojaaqefvyps 0.03 m\n",
      "ltfcqcbbskrhbq oachjxrcekl 2.9 cm/s\n",
      "hdnqthtjln uerybgfogqr 0.12 cm/s\n",
      "qyrgsgcnd 2.96 m/s\n",
      "niba ijemfmaiqb 1.0 m/s\n",
      "juwla 1.64 m\n",
      "ovwshojdun 2.63 cm/s\n",
      "lgknvkbr oo gp 0.95 cm/s\n",
      "htkcxdqrnmo fog rutj 1.97 cm/s\n",
      "imnjnrssk uatxcvqbjnj 1.21 cm/s\n",
      "fwockguo kpzgzamc 0.75 cm/s\n",
      "nqukmd kroopgpafim obaxrgorg 2.22 m/s\n",
      "yfnq 3.71 cm\n",
      "mnbuk kw 4.25 m\n"
     ]
    }
   ],
   "source": [
    "print(target)"
   ]
  },
  {
   "cell_type": "code",
   "execution_count": null,
   "metadata": {},
   "outputs": [],
   "source": []
  },
  {
   "cell_type": "code",
   "execution_count": 10,
   "metadata": {},
   "outputs": [],
   "source": [
    "from core.generators.dataset_generator import DatasetGenerator\n",
    "from core.generators.mashup_dataset_generator import MashupDatasetGenerator"
   ]
  },
  {
   "cell_type": "code",
   "execution_count": null,
   "metadata": {},
   "outputs": [],
   "source": []
  },
  {
   "cell_type": "code",
   "execution_count": 11,
   "metadata": {},
   "outputs": [
    {
     "data": {
      "text/html": [
       "<div>\n",
       "<style scoped>\n",
       "    .dataframe tbody tr th:only-of-type {\n",
       "        vertical-align: middle;\n",
       "    }\n",
       "\n",
       "    .dataframe tbody tr th {\n",
       "        vertical-align: top;\n",
       "    }\n",
       "\n",
       "    .dataframe thead th {\n",
       "        text-align: right;\n",
       "    }\n",
       "</style>\n",
       "<table border=\"1\" class=\"dataframe\">\n",
       "  <thead>\n",
       "    <tr style=\"text-align: right;\">\n",
       "      <th></th>\n",
       "      <th>table_id</th>\n",
       "      <th>table</th>\n",
       "      <th>target</th>\n",
       "    </tr>\n",
       "  </thead>\n",
       "  <tbody>\n",
       "    <tr>\n",
       "      <th>0</th>\n",
       "      <td>a7362271597f46a4ba713312e6f7d982</td>\n",
       "      <td>yznkuzbfakw 1.84       niicvayowbenu  0.6 cm  ...</td>\n",
       "      <td>yznkuzbfakw jlnnnyfaj 1.84 cm\\ntcxmunueylj cqy...</td>\n",
       "    </tr>\n",
       "    <tr>\n",
       "      <th>1</th>\n",
       "      <td>a7362271597f46a4ba713312e6f7d982</td>\n",
       "      <td>okuezlvqwgo 4.86 m     jkduxqkwuwen   0.2 m   ...</td>\n",
       "      <td>okuezlvqwgo uqshigagpw xcuwgq 4.86 m\\njkduxqkw...</td>\n",
       "    </tr>\n",
       "    <tr>\n",
       "      <th>2</th>\n",
       "      <td>a7362271597f46a4ba713312e6f7d982</td>\n",
       "      <td>ev jldkn    1.97       uqzibxlho      0.66    ...</td>\n",
       "      <td>ev jldkn roealsgefz 1.97 cm/s\\ntcxmunueylj cqy...</td>\n",
       "    </tr>\n",
       "    <tr>\n",
       "      <th>3</th>\n",
       "      <td>a7362271597f46a4ba713312e6f7d982</td>\n",
       "      <td>aqyl        2.71       qyrgsgcnd      1.36    ...</td>\n",
       "      <td>aqyl 2.71 cm/s\\nev jldkn roealsgefz 0.24 cm/s\\...</td>\n",
       "    </tr>\n",
       "    <tr>\n",
       "      <th>4</th>\n",
       "      <td>a7362271597f46a4ba713312e6f7d982</td>\n",
       "      <td>tcxmunueylj 1.38       gvkgfqca xosja 2.39    ...</td>\n",
       "      <td>tcxmunueylj cqykgrxvjfn 1.38 cm/s\\nyznkuzbfakw...</td>\n",
       "    </tr>\n",
       "  </tbody>\n",
       "</table>\n",
       "</div>"
      ],
      "text/plain": [
       "                           table_id  \\\n",
       "0  a7362271597f46a4ba713312e6f7d982   \n",
       "1  a7362271597f46a4ba713312e6f7d982   \n",
       "2  a7362271597f46a4ba713312e6f7d982   \n",
       "3  a7362271597f46a4ba713312e6f7d982   \n",
       "4  a7362271597f46a4ba713312e6f7d982   \n",
       "\n",
       "                                               table  \\\n",
       "0  yznkuzbfakw 1.84       niicvayowbenu  0.6 cm  ...   \n",
       "1  okuezlvqwgo 4.86 m     jkduxqkwuwen   0.2 m   ...   \n",
       "2  ev jldkn    1.97       uqzibxlho      0.66    ...   \n",
       "3  aqyl        2.71       qyrgsgcnd      1.36    ...   \n",
       "4  tcxmunueylj 1.38       gvkgfqca xosja 2.39    ...   \n",
       "\n",
       "                                              target  \n",
       "0  yznkuzbfakw jlnnnyfaj 1.84 cm\\ntcxmunueylj cqy...  \n",
       "1  okuezlvqwgo uqshigagpw xcuwgq 4.86 m\\njkduxqkw...  \n",
       "2  ev jldkn roealsgefz 1.97 cm/s\\ntcxmunueylj cqy...  \n",
       "3  aqyl 2.71 cm/s\\nev jldkn roealsgefz 0.24 cm/s\\...  \n",
       "4  tcxmunueylj cqykgrxvjfn 1.38 cm/s\\nyznkuzbfakw...  "
      ]
     },
     "execution_count": 11,
     "metadata": {},
     "output_type": "execute_result"
    }
   ],
   "source": [
    "options = [\n",
    "    {\n",
    "        'table_generator': table_generator,\n",
    "        'n_instances': 10,\n",
    "    }\n",
    "]\n",
    "\n",
    "mashup_generator = MashupDatasetGenerator()\n",
    "df = mashup_generator.get_data(options)\n",
    "\n",
    "df.head()"
   ]
  },
  {
   "cell_type": "code",
   "execution_count": null,
   "metadata": {},
   "outputs": [],
   "source": []
  },
  {
   "cell_type": "code",
   "execution_count": 12,
   "metadata": {},
   "outputs": [
    {
     "name": "stdout",
     "output_type": "stream",
     "text": [
      "yznkuzbfakw 1.84       niicvayowbenu  0.6 cm     lgknvkbr oo 2.01\n",
      "jlnnnyfaj   cm         pbic                      gp          cm/s\n",
      "tcxmunueylj 2.89       hdnqthtjln     1.31       imnjnrssk   1.66\n",
      "cqykgrxvjfn cm/s       uerybgfogqr    cm/s       uatxcvqbjnj cm/s\n",
      "okuezlvqwgo 1.35 m     gvkgfqca xosja 0.75       ovwshojdun  0.1\n",
      "uqshigagpw                            m/s                    cm/s\n",
      "xcuwgq                 jjev wbsjwos   1.29       htkcxdqrnmo 2.41\n",
      "upviwtuvys  4.13                      cm         fog rutj    cm/s\n",
      "            cm         qyrgsgcnd      1.11       cqzdlueuvtf 2.33\n",
      "ka          3.35                      m/s        jwpllhok    m/s\n",
      "ppevhjrfst  cm         uvvtfgna       1.03       zctqfyxtgx\n",
      "ev jldkn    1.13       myynxwypfiq    cm         juwla       1.92 m\n",
      "roealsgefz  cm/s       ltfcqcbbskrhbq 1.14       nqukmd      1.09\n",
      "                       oachjxrcekl    cm/s       kroopgpafim m/s\n",
      "                                                 obaxrgorg\n",
      "                                                 fwockguo    0.58\n",
      "                                                 kpzgzamc    cm/s\n",
      "                                                 mnbuk kw    3.7 m\n"
     ]
    }
   ],
   "source": [
    "print(df['table'][0])"
   ]
  },
  {
   "cell_type": "code",
   "execution_count": 13,
   "metadata": {},
   "outputs": [
    {
     "name": "stdout",
     "output_type": "stream",
     "text": [
      "yznkuzbfakw jlnnnyfaj 1.84 cm\n",
      "tcxmunueylj cqykgrxvjfn 2.89 cm/s\n",
      "okuezlvqwgo uqshigagpw xcuwgq 1.35 m\n",
      "upviwtuvys 4.13 cm\n",
      "ka ppevhjrfst 3.35 cm\n",
      "ev jldkn roealsgefz 1.13 cm/s\n",
      "niicvayowbenu pbic 0.6 cm\n",
      "hdnqthtjln uerybgfogqr 1.31 cm/s\n",
      "gvkgfqca xosja 0.75 m/s\n",
      "jjev wbsjwos 1.29 cm\n",
      "qyrgsgcnd 1.11 m/s\n",
      "uvvtfgna myynxwypfiq 1.03 cm\n",
      "ltfcqcbbskrhbq oachjxrcekl 1.14 cm/s\n",
      "lgknvkbr oo gp 2.01 cm/s\n",
      "imnjnrssk uatxcvqbjnj 1.66 cm/s\n",
      "ovwshojdun 0.1 cm/s\n",
      "htkcxdqrnmo fog rutj 2.41 cm/s\n",
      "cqzdlueuvtf jwpllhok zctqfyxtgx 2.33 m/s\n",
      "juwla 1.92 m\n",
      "nqukmd kroopgpafim obaxrgorg 1.09 m/s\n",
      "fwockguo kpzgzamc 0.58 cm/s\n",
      "mnbuk kw 3.7 m\n"
     ]
    }
   ],
   "source": [
    "print(df['target'][0])"
   ]
  },
  {
   "cell_type": "code",
   "execution_count": null,
   "metadata": {},
   "outputs": [],
   "source": []
  },
  {
   "cell_type": "code",
   "execution_count": 14,
   "metadata": {},
   "outputs": [],
   "source": [
    "## split train, dev, test..."
   ]
  },
  {
   "cell_type": "code",
   "execution_count": 15,
   "metadata": {},
   "outputs": [],
   "source": [
    "from core.utils.modeling_utils import train_test_dev_split"
   ]
  },
  {
   "cell_type": "code",
   "execution_count": null,
   "metadata": {},
   "outputs": [],
   "source": []
  },
  {
   "cell_type": "code",
   "execution_count": 16,
   "metadata": {},
   "outputs": [
    {
     "name": "stdout",
     "output_type": "stream",
     "text": [
      "7 1 2\n"
     ]
    }
   ],
   "source": [
    "train_data, dev_data, test_data = train_test_dev_split(df, .70)\n",
    "    \n",
    "print(len(train_data), len(dev_data), len(test_data))"
   ]
  },
  {
   "cell_type": "code",
   "execution_count": null,
   "metadata": {},
   "outputs": [],
   "source": []
  }
 ],
 "metadata": {
  "kernelspec": {
   "display_name": "Python 3",
   "language": "python",
   "name": "python3"
  },
  "language_info": {
   "codemirror_mode": {
    "name": "ipython",
    "version": 3
   },
   "file_extension": ".py",
   "mimetype": "text/x-python",
   "name": "python",
   "nbconvert_exporter": "python",
   "pygments_lexer": "ipython3",
   "version": "3.7.3"
  }
 },
 "nbformat": 4,
 "nbformat_minor": 4
}
