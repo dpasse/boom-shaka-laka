{
 "cells": [
  {
   "cell_type": "code",
   "execution_count": 1,
   "metadata": {},
   "outputs": [
    {
     "data": {
      "text/plain": [
       "'3.7.3 (default, Mar 27 2019, 09:23:15) \\n[Clang 10.0.1 (clang-1001.0.46.3)]'"
      ]
     },
     "execution_count": 1,
     "metadata": {},
     "output_type": "execute_result"
    }
   ],
   "source": [
    "import sys\n",
    "\n",
    "## find 'core' package\n",
    "sys.path.insert(0, '../..')\n",
    "\n",
    "sys.version"
   ]
  },
  {
   "cell_type": "code",
   "execution_count": null,
   "metadata": {},
   "outputs": [],
   "source": []
  },
  {
   "cell_type": "code",
   "execution_count": 2,
   "metadata": {},
   "outputs": [],
   "source": [
    "from core.models import unit\n",
    "from core.models.column import Column\n",
    "from core.models.table import Table\n",
    "from core.factories import column_factory"
   ]
  },
  {
   "cell_type": "code",
   "execution_count": null,
   "metadata": {},
   "outputs": [],
   "source": []
  },
  {
   "cell_type": "code",
   "execution_count": 3,
   "metadata": {},
   "outputs": [],
   "source": [
    "from core.generators.label_generator import LabelGenerator\n",
    "from core.generators.unit_generator import UnitGenerator\n",
    "from core.generators.column_generator import ColumnGenerator\n",
    "from core.generators.table_generator import TableGenerator"
   ]
  },
  {
   "cell_type": "code",
   "execution_count": null,
   "metadata": {},
   "outputs": [],
   "source": []
  },
  {
   "cell_type": "code",
   "execution_count": 4,
   "metadata": {},
   "outputs": [],
   "source": [
    "vocab = [ c for c in 'abcdefghijklmnopqrstuvwxyz' ]\n",
    "\n",
    "index_to_char = dict([ (i, c) for i, c in enumerate(vocab) ])\n",
    "char_to_index = dict([ (c, i) for i, c in enumerate(vocab) ])\n",
    "\n",
    "label_generator = LabelGenerator(index_to_char)\n",
    "unit_generator = UnitGenerator(unit.get_unit_lookup())\n",
    "\n",
    "column_generator = ColumnGenerator(label_generator, unit_generator)"
   ]
  },
  {
   "cell_type": "code",
   "execution_count": null,
   "metadata": {},
   "outputs": [],
   "source": []
  },
  {
   "cell_type": "code",
   "execution_count": 5,
   "metadata": {},
   "outputs": [],
   "source": [
    "table = Table()\n",
    "\n",
    "table.n_spaces_between_columns = 5\n",
    "table.max_number_of_labels = 10\n",
    "table.columns = [ \n",
    "    column_factory.create_column(\n",
    "        order = 0,\n",
    "        min_label_length = 2,\n",
    "        max_label_length = 12,\n",
    "        max_unit_length = 6,\n",
    "        max_number_of_label_parts = 4\n",
    "    ),\n",
    "    column_factory.create_column(\n",
    "        order = 1,\n",
    "        min_label_length = 4,\n",
    "        max_label_length = 15,\n",
    "        max_unit_length = 6,\n",
    "        max_number_of_label_parts = 3\n",
    "    ),\n",
    "    column_factory.create_column(\n",
    "        order = 2,\n",
    "        min_label_length = 2,\n",
    "        max_label_length = 12,\n",
    "        max_unit_length = 6,\n",
    "        max_number_of_label_parts = 4\n",
    "    )\n",
    "]"
   ]
  },
  {
   "cell_type": "code",
   "execution_count": null,
   "metadata": {},
   "outputs": [],
   "source": []
  },
  {
   "cell_type": "code",
   "execution_count": 6,
   "metadata": {},
   "outputs": [],
   "source": [
    "table_generator = TableGenerator(table, column_generator)"
   ]
  },
  {
   "cell_type": "code",
   "execution_count": 7,
   "metadata": {},
   "outputs": [],
   "source": [
    "table_id, train, target = table_generator.get_table()"
   ]
  },
  {
   "cell_type": "code",
   "execution_count": null,
   "metadata": {},
   "outputs": [],
   "source": []
  },
  {
   "cell_type": "code",
   "execution_count": 8,
   "metadata": {},
   "outputs": [
    {
     "name": "stdout",
     "output_type": "stream",
     "text": [
      "kbfcguqqnv  4.29 m     gmylpyvfzfka   2.23       oezbz       0.89\n",
      "wfzvibezkk  2.12       pngwmvujqkeqi  cm         ajpunhu     cm/s\n",
      "            cm         dpdyoekpu      1.04 m     ssozpbacj\n",
      "ldhpe       3.05       tvkjt          4.54 m     uug         0.2\n",
      "onlpdhf     cm         coynroeaexqaz  1.12                   cm/s\n",
      "iwtog                                 cm         btdz        3.4 m\n",
      "qlybvbiblp  2.68       osvrzfmkl      3.8 cm     qntilxqmd   2.14\n",
      "            m/s        dlzljzhyyifckc 3.8 cm                 cm\n",
      "popqlwrd    0.95       zuydsxiyvprxrb\n"
     ]
    }
   ],
   "source": [
    "print('\\n'.join(train))"
   ]
  },
  {
   "cell_type": "code",
   "execution_count": null,
   "metadata": {},
   "outputs": [],
   "source": []
  },
  {
   "cell_type": "code",
   "execution_count": 9,
   "metadata": {},
   "outputs": [
    {
     "name": "stdout",
     "output_type": "stream",
     "text": [
      "kbfcguqqnv 4.29 m\n",
      "wfzvibezkk 2.12 cm\n",
      "ldhpe onlpdhf iwtog 3.05 cm\n",
      "qlybvbiblp 2.68 m/s\n",
      "popqlwrd ikxhg okfora 0.95 m/s\n",
      "rpwpe idv 3.23 m\n",
      "xe gg 1.19 cm/s\n",
      "vvbj yb zxnghelthwi 1.03 cm\n",
      "kmdktoa jsbff 0.32 m\n",
      "gmylpyvfzfka pngwmvujqkeqi 2.23 cm\n",
      "dpdyoekpu 1.04 m\n",
      "tvkjt 4.54 m\n",
      "coynroeaexqaz 1.12 cm\n",
      "osvrzfmkl 3.8 cm\n",
      "dlzljzhyyifckc zuydsxiyvprxrb 3.8 cm\n",
      "aion 1.92 m/s\n",
      "qdptdlnn bbxbqsbi 3.52 cm\n",
      "oezbz ajpunhu ssozpbacj 0.89 cm/s\n",
      "uug 0.2 cm/s\n",
      "btdz 3.4 m\n",
      "qntilxqmd 2.14 cm\n"
     ]
    }
   ],
   "source": [
    "print(target)"
   ]
  },
  {
   "cell_type": "code",
   "execution_count": null,
   "metadata": {},
   "outputs": [],
   "source": []
  },
  {
   "cell_type": "code",
   "execution_count": 10,
   "metadata": {},
   "outputs": [],
   "source": [
    "from core.generators.dataset_generator import DatasetGenerator\n",
    "from core.generators.mashup_dataset_generator import MashupDatasetGenerator"
   ]
  },
  {
   "cell_type": "code",
   "execution_count": null,
   "metadata": {},
   "outputs": [],
   "source": []
  },
  {
   "cell_type": "code",
   "execution_count": 11,
   "metadata": {},
   "outputs": [
    {
     "data": {
      "text/html": [
       "<div>\n",
       "<style scoped>\n",
       "    .dataframe tbody tr th:only-of-type {\n",
       "        vertical-align: middle;\n",
       "    }\n",
       "\n",
       "    .dataframe tbody tr th {\n",
       "        vertical-align: top;\n",
       "    }\n",
       "\n",
       "    .dataframe thead th {\n",
       "        text-align: right;\n",
       "    }\n",
       "</style>\n",
       "<table border=\"1\" class=\"dataframe\">\n",
       "  <thead>\n",
       "    <tr style=\"text-align: right;\">\n",
       "      <th></th>\n",
       "      <th>table_id</th>\n",
       "      <th>table</th>\n",
       "      <th>target</th>\n",
       "    </tr>\n",
       "  </thead>\n",
       "  <tbody>\n",
       "    <tr>\n",
       "      <th>0</th>\n",
       "      <td>90de3aa1202b4cc7acd2a1961163a785</td>\n",
       "      <td>kbfcguqqnv  1.65 m     gmylpyvfzfka   0.7 cm  ...</td>\n",
       "      <td>kbfcguqqnv 1.65 m\\nqlybvbiblp 1.83 m/s\\nxe gg ...</td>\n",
       "    </tr>\n",
       "    <tr>\n",
       "      <th>1</th>\n",
       "      <td>90de3aa1202b4cc7acd2a1961163a785</td>\n",
       "      <td>qlybvbiblp  2.98       sxkhnwjn zepgrh4.81    ...</td>\n",
       "      <td>qlybvbiblp 2.98 m/s\\nvvbj yb zxnghelthwi 0.84 ...</td>\n",
       "    </tr>\n",
       "    <tr>\n",
       "      <th>2</th>\n",
       "      <td>90de3aa1202b4cc7acd2a1961163a785</td>\n",
       "      <td>qlybvbiblp  0.84       sxkhnwjn zepgrh0.27    ...</td>\n",
       "      <td>qlybvbiblp 0.84 m/s\\ngqzmgd pxeic tvwofktgz 2....</td>\n",
       "    </tr>\n",
       "    <tr>\n",
       "      <th>3</th>\n",
       "      <td>90de3aa1202b4cc7acd2a1961163a785</td>\n",
       "      <td>wfzvibezkk  0.68       tvkjt          2.58 m  ...</td>\n",
       "      <td>wfzvibezkk 0.68 cm\\ngqzmgd pxeic tvwofktgz 0.0...</td>\n",
       "    </tr>\n",
       "    <tr>\n",
       "      <th>4</th>\n",
       "      <td>90de3aa1202b4cc7acd2a1961163a785</td>\n",
       "      <td>gqzmgd pxeic2.61       aion           0.48    ...</td>\n",
       "      <td>gqzmgd pxeic tvwofktgz 2.61 cm\\nqlybvbiblp 1.8...</td>\n",
       "    </tr>\n",
       "  </tbody>\n",
       "</table>\n",
       "</div>"
      ],
      "text/plain": [
       "                           table_id  \\\n",
       "0  90de3aa1202b4cc7acd2a1961163a785   \n",
       "1  90de3aa1202b4cc7acd2a1961163a785   \n",
       "2  90de3aa1202b4cc7acd2a1961163a785   \n",
       "3  90de3aa1202b4cc7acd2a1961163a785   \n",
       "4  90de3aa1202b4cc7acd2a1961163a785   \n",
       "\n",
       "                                               table  \\\n",
       "0  kbfcguqqnv  1.65 m     gmylpyvfzfka   0.7 cm  ...   \n",
       "1  qlybvbiblp  2.98       sxkhnwjn zepgrh4.81    ...   \n",
       "2  qlybvbiblp  0.84       sxkhnwjn zepgrh0.27    ...   \n",
       "3  wfzvibezkk  0.68       tvkjt          2.58 m  ...   \n",
       "4  gqzmgd pxeic2.61       aion           0.48    ...   \n",
       "\n",
       "                                              target  \n",
       "0  kbfcguqqnv 1.65 m\\nqlybvbiblp 1.83 m/s\\nxe gg ...  \n",
       "1  qlybvbiblp 2.98 m/s\\nvvbj yb zxnghelthwi 0.84 ...  \n",
       "2  qlybvbiblp 0.84 m/s\\ngqzmgd pxeic tvwofktgz 2....  \n",
       "3  wfzvibezkk 0.68 cm\\ngqzmgd pxeic tvwofktgz 0.0...  \n",
       "4  gqzmgd pxeic tvwofktgz 2.61 cm\\nqlybvbiblp 1.8...  "
      ]
     },
     "execution_count": 11,
     "metadata": {},
     "output_type": "execute_result"
    }
   ],
   "source": [
    "options = [\n",
    "    {\n",
    "        'table_generator': table_generator,\n",
    "        'n_instances': 10,\n",
    "    }\n",
    "]\n",
    "\n",
    "mashup_generator = MashupDatasetGenerator()\n",
    "df = mashup_generator.get_data(options)\n",
    "\n",
    "df.head()"
   ]
  },
  {
   "cell_type": "code",
   "execution_count": null,
   "metadata": {},
   "outputs": [],
   "source": []
  },
  {
   "cell_type": "code",
   "execution_count": 12,
   "metadata": {},
   "outputs": [
    {
     "name": "stdout",
     "output_type": "stream",
     "text": [
      "kbfcguqqnv  1.65 m     gmylpyvfzfka   0.7 cm     tvcn        0.44 m\n",
      "qlybvbiblp  1.83       pngwmvujqkeqi             mgfuzmuodew 1.84\n",
      "            m/s                                  phfrsdxczjz cm/s\n",
      "xe gg       2.55                                 xwun\n",
      "            cm/s                                 oezbz       2.33\n",
      "kmdktoa     3.41 m                               ajpunhu     cm/s\n",
      "jsbff                                            ssozpbacj\n",
      "                                                 ccxbeiffmd  1.02\n",
      "                                                             cm\n",
      "                                                 uug         0.12\n",
      "                                                             cm/s\n",
      "                                                 btdz        1.02 m\n",
      "                                                 hkpaicel    3.12 m\n",
      "                                                 ipqortdbhj  1.31\n",
      "                                                 av          m/s\n"
     ]
    }
   ],
   "source": [
    "print(df['table'][0])"
   ]
  },
  {
   "cell_type": "code",
   "execution_count": 13,
   "metadata": {},
   "outputs": [
    {
     "name": "stdout",
     "output_type": "stream",
     "text": [
      "kbfcguqqnv 1.65 m\n",
      "qlybvbiblp 1.83 m/s\n",
      "xe gg 2.55 cm/s\n",
      "kmdktoa jsbff 3.41 m\n",
      "gmylpyvfzfka pngwmvujqkeqi 0.7 cm\n",
      "tvcn 0.44 m\n",
      "mgfuzmuodew phfrsdxczjz xwun 1.84 cm/s\n",
      "oezbz ajpunhu ssozpbacj 2.33 cm/s\n",
      "ccxbeiffmd 1.02 cm\n",
      "uug 0.12 cm/s\n",
      "btdz 1.02 m\n",
      "hkpaicel 3.12 m\n",
      "ipqortdbhj av 1.31 m/s\n"
     ]
    }
   ],
   "source": [
    "print(df['target'][0])"
   ]
  },
  {
   "cell_type": "code",
   "execution_count": null,
   "metadata": {},
   "outputs": [],
   "source": []
  },
  {
   "cell_type": "code",
   "execution_count": 14,
   "metadata": {},
   "outputs": [],
   "source": [
    "## split train, dev, test..."
   ]
  },
  {
   "cell_type": "code",
   "execution_count": 15,
   "metadata": {},
   "outputs": [],
   "source": [
    "from core.utils.modeling_utils import train_test_dev_split"
   ]
  },
  {
   "cell_type": "code",
   "execution_count": null,
   "metadata": {},
   "outputs": [],
   "source": []
  },
  {
   "cell_type": "code",
   "execution_count": 16,
   "metadata": {},
   "outputs": [
    {
     "name": "stdout",
     "output_type": "stream",
     "text": [
      "7 1 2\n"
     ]
    }
   ],
   "source": [
    "train_data, dev_data, test_data = train_test_dev_split(df, .70)\n",
    "    \n",
    "print(len(train_data), len(dev_data), len(test_data))"
   ]
  },
  {
   "cell_type": "code",
   "execution_count": null,
   "metadata": {},
   "outputs": [],
   "source": []
  }
 ],
 "metadata": {
  "kernelspec": {
   "display_name": "Python 3",
   "language": "python",
   "name": "python3"
  },
  "language_info": {
   "codemirror_mode": {
    "name": "ipython",
    "version": 3
   },
   "file_extension": ".py",
   "mimetype": "text/x-python",
   "name": "python",
   "nbconvert_exporter": "python",
   "pygments_lexer": "ipython3",
   "version": "3.7.3"
  }
 },
 "nbformat": 4,
 "nbformat_minor": 4
}
