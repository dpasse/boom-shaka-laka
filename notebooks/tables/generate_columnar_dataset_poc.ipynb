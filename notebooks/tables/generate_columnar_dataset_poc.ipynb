{
 "cells": [
  {
   "cell_type": "code",
   "execution_count": 1,
   "metadata": {},
   "outputs": [
    {
     "data": {
      "text/plain": [
       "'3.7.3 (default, Mar 27 2019, 09:23:15) \\n[Clang 10.0.1 (clang-1001.0.46.3)]'"
      ]
     },
     "execution_count": 1,
     "metadata": {},
     "output_type": "execute_result"
    }
   ],
   "source": [
    "import sys\n",
    "\n",
    "## find 'core' package\n",
    "sys.path.insert(0, '../..')\n",
    "\n",
    "sys.version"
   ]
  },
  {
   "cell_type": "code",
   "execution_count": null,
   "metadata": {},
   "outputs": [],
   "source": []
  },
  {
   "cell_type": "code",
   "execution_count": 2,
   "metadata": {},
   "outputs": [],
   "source": [
    "from core.models import unit\n",
    "from core.models.column import Column\n",
    "from core.models.table import Table\n",
    "from core.factories import column_factory"
   ]
  },
  {
   "cell_type": "code",
   "execution_count": null,
   "metadata": {},
   "outputs": [],
   "source": []
  },
  {
   "cell_type": "code",
   "execution_count": 3,
   "metadata": {},
   "outputs": [],
   "source": [
    "from core.generators.label_generator import LabelGenerator\n",
    "from core.generators.unit_generator import UnitGenerator\n",
    "from core.generators.column_generator import ColumnGenerator\n",
    "from core.generators.table_generator import TableGenerator"
   ]
  },
  {
   "cell_type": "code",
   "execution_count": null,
   "metadata": {},
   "outputs": [],
   "source": []
  },
  {
   "cell_type": "code",
   "execution_count": 4,
   "metadata": {},
   "outputs": [],
   "source": [
    "vocab = [ c for c in 'abcdefghijklmnopqrstuvwxyz' ]\n",
    "\n",
    "index_to_char = dict([ (i, c) for i, c in enumerate(vocab) ])\n",
    "char_to_index = dict([ (c, i) for i, c in enumerate(vocab) ])\n",
    "\n",
    "label_generator = LabelGenerator(index_to_char)\n",
    "unit_generator = UnitGenerator(unit.get_unit_lookup())\n",
    "\n",
    "column_generator = ColumnGenerator(label_generator, unit_generator)"
   ]
  },
  {
   "cell_type": "code",
   "execution_count": null,
   "metadata": {},
   "outputs": [],
   "source": []
  },
  {
   "cell_type": "code",
   "execution_count": 5,
   "metadata": {},
   "outputs": [],
   "source": [
    "table = Table()\n",
    "\n",
    "table.n_spaces_between_columns = 5\n",
    "table.max_number_of_labels = 5\n",
    "table.columns = [ \n",
    "    column_factory.create_column(\n",
    "        order = 0,\n",
    "        min_label_length = 2,\n",
    "        max_label_length = 12,\n",
    "        max_unit_length = 6,\n",
    "        max_number_of_label_parts = 4\n",
    "    ),\n",
    "    column_factory.create_column(\n",
    "        order = 1,\n",
    "        min_label_length = 4,\n",
    "        max_label_length = 15,\n",
    "        max_unit_length = 6,\n",
    "        max_number_of_label_parts = 3\n",
    "    ),\n",
    "    column_factory.create_column(\n",
    "        order = 2,\n",
    "        min_label_length = 2,\n",
    "        max_label_length = 12,\n",
    "        max_unit_length = 6,\n",
    "        max_number_of_label_parts = 4\n",
    "    )\n",
    "]"
   ]
  },
  {
   "cell_type": "code",
   "execution_count": null,
   "metadata": {},
   "outputs": [],
   "source": []
  },
  {
   "cell_type": "code",
   "execution_count": 6,
   "metadata": {},
   "outputs": [],
   "source": [
    "table_generator = TableGenerator(column_generator)"
   ]
  },
  {
   "cell_type": "code",
   "execution_count": 7,
   "metadata": {},
   "outputs": [],
   "source": [
    "train, target = table_generator.get_table(table)"
   ]
  },
  {
   "cell_type": "code",
   "execution_count": null,
   "metadata": {},
   "outputs": [],
   "source": []
  },
  {
   "cell_type": "code",
   "execution_count": 8,
   "metadata": {},
   "outputs": [
    {
     "name": "stdout",
     "output_type": "stream",
     "text": [
      "tkrvgislxc  0.27 m     hpimrahwrxuajn 2.05       sapmll      2.21\n",
      "puth                                  m/s        vyxcbqm qwklcm/s\n",
      "diyc        2.55       ruvhzafygqft   1.38       znihzn pjbfg4.8 m\n",
      "            m/s        vlivaw         cm         xdgivkkkbli\n",
      "                       xwuhov         0.01       kiwkwznnsj  0.2\n",
      "                                      cm/s                   m/s\n",
      "                       lklazxdfugje   1.15 m\n"
     ]
    }
   ],
   "source": [
    "print('\\n'.join(train))"
   ]
  },
  {
   "cell_type": "code",
   "execution_count": null,
   "metadata": {},
   "outputs": [],
   "source": []
  },
  {
   "cell_type": "code",
   "execution_count": 9,
   "metadata": {},
   "outputs": [
    {
     "name": "stdout",
     "output_type": "stream",
     "text": [
      "tkrvgislxc puth 0.27 m\n",
      "diyc 2.55 m/s\n",
      "hpimrahwrxuajn 2.05 m/s\n",
      "ruvhzafygqft vlivaw 1.38 cm\n",
      "xwuhov 0.01 cm/s\n",
      "lklazxdfugje 1.15 m\n",
      "sapmll vyxcbqm qwkl 2.21 cm/s\n",
      "znihzn pjbfg xdgivkkkbli 4.8 m\n",
      "kiwkwznnsj 0.2 m/s\n"
     ]
    }
   ],
   "source": [
    "print(target)"
   ]
  },
  {
   "cell_type": "code",
   "execution_count": null,
   "metadata": {},
   "outputs": [],
   "source": []
  },
  {
   "cell_type": "code",
   "execution_count": 10,
   "metadata": {},
   "outputs": [],
   "source": [
    "from core.generators.dataset_generator import DatasetGenerator\n",
    "from core.generators.mashup_dataset_generator import MashupDatasetGenerator"
   ]
  },
  {
   "cell_type": "code",
   "execution_count": null,
   "metadata": {},
   "outputs": [],
   "source": []
  },
  {
   "cell_type": "code",
   "execution_count": 11,
   "metadata": {},
   "outputs": [],
   "source": [
    "options = [\n",
    "    {\n",
    "        'table': table,\n",
    "        'n_instances': 10,\n",
    "        'dataset_generator': DatasetGenerator(table_generator)\n",
    "    }\n",
    "]\n",
    "\n",
    "mashup_generator = MashupDatasetGenerator()\n",
    "dataset = mashup_generator.get_data(options)"
   ]
  },
  {
   "cell_type": "code",
   "execution_count": null,
   "metadata": {},
   "outputs": [],
   "source": []
  },
  {
   "cell_type": "code",
   "execution_count": 12,
   "metadata": {},
   "outputs": [],
   "source": [
    "import pandas as pd"
   ]
  },
  {
   "cell_type": "code",
   "execution_count": null,
   "metadata": {},
   "outputs": [],
   "source": []
  },
  {
   "cell_type": "code",
   "execution_count": 13,
   "metadata": {},
   "outputs": [
    {
     "data": {
      "text/html": [
       "<div>\n",
       "<style scoped>\n",
       "    .dataframe tbody tr th:only-of-type {\n",
       "        vertical-align: middle;\n",
       "    }\n",
       "\n",
       "    .dataframe tbody tr th {\n",
       "        vertical-align: top;\n",
       "    }\n",
       "\n",
       "    .dataframe thead th {\n",
       "        text-align: right;\n",
       "    }\n",
       "</style>\n",
       "<table border=\"1\" class=\"dataframe\">\n",
       "  <thead>\n",
       "    <tr style=\"text-align: right;\">\n",
       "      <th></th>\n",
       "      <th>table</th>\n",
       "      <th>target</th>\n",
       "    </tr>\n",
       "  </thead>\n",
       "  <tbody>\n",
       "    <tr>\n",
       "      <th>0</th>\n",
       "      <td>llvscpbqhd  1.54       cqrhlqpwgtffxn 4.05 m  ...</td>\n",
       "      <td>llvscpbqhd bkkmwnw 1.54 m/s\\ncbimylc adatq hhm...</td>\n",
       "    </tr>\n",
       "    <tr>\n",
       "      <th>1</th>\n",
       "      <td>hqegaat     0.19       zrfdshumn      1.13    ...</td>\n",
       "      <td>hqegaat peplrxwdwxj njdpqgraj 0.19 cm/s\\njeexq...</td>\n",
       "    </tr>\n",
       "    <tr>\n",
       "      <th>2</th>\n",
       "      <td>ikavotqk    0.73       tfgosxkmuzuwpn 0.34    ...</td>\n",
       "      <td>ikavotqk zcxsm 0.73 cm/s\\ntfgosxkmuzuwpn 0.34 ...</td>\n",
       "    </tr>\n",
       "    <tr>\n",
       "      <th>3</th>\n",
       "      <td>midmqygjcpd 0.48       ijqcmg         1.48    ...</td>\n",
       "      <td>midmqygjcpd rsyr vifwfp 0.48 cm\\nbctxcuibjo gw...</td>\n",
       "    </tr>\n",
       "    <tr>\n",
       "      <th>4</th>\n",
       "      <td>mrg         3.11 m     uxnfrk         3.66    ...</td>\n",
       "      <td>mrg grydxtxgvus 3.11 m\\nnzvtmdu lldckto 3.13 m...</td>\n",
       "    </tr>\n",
       "  </tbody>\n",
       "</table>\n",
       "</div>"
      ],
      "text/plain": [
       "                                               table  \\\n",
       "0  llvscpbqhd  1.54       cqrhlqpwgtffxn 4.05 m  ...   \n",
       "1  hqegaat     0.19       zrfdshumn      1.13    ...   \n",
       "2  ikavotqk    0.73       tfgosxkmuzuwpn 0.34    ...   \n",
       "3  midmqygjcpd 0.48       ijqcmg         1.48    ...   \n",
       "4  mrg         3.11 m     uxnfrk         3.66    ...   \n",
       "\n",
       "                                              target  \n",
       "0  llvscpbqhd bkkmwnw 1.54 m/s\\ncbimylc adatq hhm...  \n",
       "1  hqegaat peplrxwdwxj njdpqgraj 0.19 cm/s\\njeexq...  \n",
       "2  ikavotqk zcxsm 0.73 cm/s\\ntfgosxkmuzuwpn 0.34 ...  \n",
       "3  midmqygjcpd rsyr vifwfp 0.48 cm\\nbctxcuibjo gw...  \n",
       "4  mrg grydxtxgvus 3.11 m\\nnzvtmdu lldckto 3.13 m...  "
      ]
     },
     "execution_count": 13,
     "metadata": {},
     "output_type": "execute_result"
    }
   ],
   "source": [
    "df = pd.DataFrame(dataset)\n",
    "df.columns = ['table', 'target']\n",
    "\n",
    "df.head()"
   ]
  },
  {
   "cell_type": "code",
   "execution_count": null,
   "metadata": {},
   "outputs": [],
   "source": []
  },
  {
   "cell_type": "code",
   "execution_count": 14,
   "metadata": {},
   "outputs": [
    {
     "name": "stdout",
     "output_type": "stream",
     "text": [
      "llvscpbqhd  1.54       cqrhlqpwgtffxn 4.05 m     nxjfch dc   0.47\n",
      "bkkmwnw     m/s                                  ehqna       cm\n",
      "cbimylc     1.42                                 qfpth       4.7 cm\n",
      "adatq       cm/s\n"
     ]
    }
   ],
   "source": [
    "print(df['table'][0])"
   ]
  },
  {
   "cell_type": "code",
   "execution_count": 15,
   "metadata": {},
   "outputs": [
    {
     "name": "stdout",
     "output_type": "stream",
     "text": [
      "llvscpbqhd bkkmwnw 1.54 m/s\n",
      "cbimylc adatq hhmrnyfhim 1.42 cm/s\n",
      "nthmiouk wisyhik 1.58 cm/s\n",
      "cqrhlqpwgtffxn 4.05 m\n",
      "nxjfch dc ehqna 0.47 cm\n",
      "qfpth 4.7 cm\n"
     ]
    }
   ],
   "source": [
    "print(df['target'][0])"
   ]
  },
  {
   "cell_type": "code",
   "execution_count": null,
   "metadata": {},
   "outputs": [],
   "source": []
  },
  {
   "cell_type": "code",
   "execution_count": 16,
   "metadata": {},
   "outputs": [],
   "source": [
    "## split train, dev, test..."
   ]
  },
  {
   "cell_type": "code",
   "execution_count": 20,
   "metadata": {},
   "outputs": [],
   "source": [
    "from core.utils.modeling_utils import train_test_dev_split"
   ]
  },
  {
   "cell_type": "code",
   "execution_count": null,
   "metadata": {},
   "outputs": [],
   "source": []
  },
  {
   "cell_type": "code",
   "execution_count": 21,
   "metadata": {},
   "outputs": [
    {
     "name": "stdout",
     "output_type": "stream",
     "text": [
      "7 1 2\n"
     ]
    }
   ],
   "source": [
    "train_data, dev_data, test_data = train_test_dev_split(dataset, .70)\n",
    "    \n",
    "print(len(train_data), len(dev_data), len(test_data))"
   ]
  },
  {
   "cell_type": "code",
   "execution_count": null,
   "metadata": {},
   "outputs": [],
   "source": []
  }
 ],
 "metadata": {
  "kernelspec": {
   "display_name": "Python 3",
   "language": "python",
   "name": "python3"
  },
  "language_info": {
   "codemirror_mode": {
    "name": "ipython",
    "version": 3
   },
   "file_extension": ".py",
   "mimetype": "text/x-python",
   "name": "python",
   "nbconvert_exporter": "python",
   "pygments_lexer": "ipython3",
   "version": "3.7.3"
  }
 },
 "nbformat": 4,
 "nbformat_minor": 4
}
