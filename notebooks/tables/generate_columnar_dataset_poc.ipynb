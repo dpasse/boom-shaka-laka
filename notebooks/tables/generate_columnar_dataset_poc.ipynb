{
 "cells": [
  {
   "cell_type": "code",
   "execution_count": 1,
   "metadata": {},
   "outputs": [
    {
     "data": {
      "text/plain": [
       "'3.7.3 (default, Mar 27 2019, 09:23:15) \\n[Clang 10.0.1 (clang-1001.0.46.3)]'"
      ]
     },
     "execution_count": 1,
     "metadata": {},
     "output_type": "execute_result"
    }
   ],
   "source": [
    "import sys\n",
    "\n",
    "## find 'core' package\n",
    "sys.path.insert(0, '../..')\n",
    "\n",
    "sys.version"
   ]
  },
  {
   "cell_type": "code",
   "execution_count": null,
   "metadata": {},
   "outputs": [],
   "source": []
  },
  {
   "cell_type": "code",
   "execution_count": 2,
   "metadata": {},
   "outputs": [],
   "source": [
    "from core.models import unit\n",
    "from core.models.column import Column\n",
    "from core.models.table import Table\n",
    "from core.factories import column_factory"
   ]
  },
  {
   "cell_type": "code",
   "execution_count": null,
   "metadata": {},
   "outputs": [],
   "source": []
  },
  {
   "cell_type": "code",
   "execution_count": 3,
   "metadata": {},
   "outputs": [],
   "source": [
    "from core.generators.label_generator import LabelGenerator\n",
    "from core.generators.unit_generator import UnitGenerator\n",
    "from core.generators.column_generator import ColumnGenerator\n",
    "from core.generators.table_generator import TableGenerator"
   ]
  },
  {
   "cell_type": "code",
   "execution_count": null,
   "metadata": {},
   "outputs": [],
   "source": []
  },
  {
   "cell_type": "code",
   "execution_count": 4,
   "metadata": {},
   "outputs": [],
   "source": [
    "vocab = [ c for c in 'abcdefghijklmnopqrstuvwxyz' ]\n",
    "\n",
    "index_to_char = dict([ (i, c) for i, c in enumerate(vocab) ])\n",
    "char_to_index = dict([ (c, i) for i, c in enumerate(vocab) ])\n",
    "\n",
    "label_generator = LabelGenerator(index_to_char)\n",
    "unit_generator = UnitGenerator(unit.get_unit_lookup())\n",
    "\n",
    "column_generator = ColumnGenerator(label_generator, unit_generator)"
   ]
  },
  {
   "cell_type": "code",
   "execution_count": null,
   "metadata": {},
   "outputs": [],
   "source": []
  },
  {
   "cell_type": "code",
   "execution_count": 5,
   "metadata": {},
   "outputs": [],
   "source": [
    "table = Table()\n",
    "\n",
    "table.n_spaces_between_columns = 5\n",
    "table.max_number_of_labels = 10\n",
    "table.columns = [ \n",
    "    column_factory.create_column(\n",
    "        order = 0,\n",
    "        min_label_length = 2,\n",
    "        max_label_length = 12,\n",
    "        max_unit_length = 6,\n",
    "        max_number_of_label_parts = 4\n",
    "    ),\n",
    "    column_factory.create_column(\n",
    "        order = 1,\n",
    "        min_label_length = 4,\n",
    "        max_label_length = 15,\n",
    "        max_unit_length = 6,\n",
    "        max_number_of_label_parts = 3\n",
    "    ),\n",
    "    column_factory.create_column(\n",
    "        order = 2,\n",
    "        min_label_length = 2,\n",
    "        max_label_length = 12,\n",
    "        max_unit_length = 6,\n",
    "        max_number_of_label_parts = 4\n",
    "    )\n",
    "]"
   ]
  },
  {
   "cell_type": "code",
   "execution_count": null,
   "metadata": {},
   "outputs": [],
   "source": []
  },
  {
   "cell_type": "code",
   "execution_count": 6,
   "metadata": {},
   "outputs": [],
   "source": [
    "table_generator = TableGenerator(column_generator)"
   ]
  },
  {
   "cell_type": "code",
   "execution_count": 7,
   "metadata": {},
   "outputs": [],
   "source": [
    "train, target = table_generator.get_table(table)"
   ]
  },
  {
   "cell_type": "code",
   "execution_count": null,
   "metadata": {},
   "outputs": [],
   "source": []
  },
  {
   "cell_type": "code",
   "execution_count": 8,
   "metadata": {},
   "outputs": [
    {
     "name": "stdout",
     "output_type": "stream",
     "text": [
      "fb mk       0.63 m     nzdcsebwkbj    0.22 m     bbx         1.88\n",
      "xsmzpn      1.4 m                                tzhitujial  cm\n",
      "kmn pfniwql 2.02                                 wqrwrxjgihn 4.51\n",
      "            m/s                                  gz          cm\n",
      "                                                 ucsrnvupps\n",
      "                                                 svxqfaj     0.13\n",
      "                                                 xrmdxw dizq cm/s\n",
      "                                                 itvdbpnubg  4.68 m\n",
      "                                                 mwmrwx\n",
      "                                                 xywcdrj     0.65\n",
      "                                                 lyrzpmlofs  cm\n",
      "                                                 lhszrek\n",
      "                                                 xjqd        1.12\n",
      "                                                             m/s\n",
      "\n"
     ]
    }
   ],
   "source": [
    "print('\\n'.join(train))"
   ]
  },
  {
   "cell_type": "code",
   "execution_count": null,
   "metadata": {},
   "outputs": [],
   "source": []
  },
  {
   "cell_type": "code",
   "execution_count": 9,
   "metadata": {},
   "outputs": [
    {
     "name": "stdout",
     "output_type": "stream",
     "text": [
      "fb mk 0.63 m\n",
      "xsmzpn 1.4 m\n",
      "kmn pfniwql 2.02 m/s\n",
      "nzdcsebwkbj 0.22 m\n",
      "bbx tzhitujial 1.88 cm\n",
      "wqrwrxjgihn gz ucsrnvupps 4.51 cm\n",
      "svxqfaj xrmdxw dizq 0.13 cm/s\n",
      "itvdbpnubg mwmrwx 4.68 m\n",
      "xywcdrj lyrzpmlofs lhszrek 0.65 cm\n",
      "xjqd 1.12 m/s\n"
     ]
    }
   ],
   "source": [
    "print(target)"
   ]
  },
  {
   "cell_type": "code",
   "execution_count": null,
   "metadata": {},
   "outputs": [],
   "source": []
  },
  {
   "cell_type": "code",
   "execution_count": 10,
   "metadata": {},
   "outputs": [],
   "source": [
    "from core.generators.dataset_generator import DatasetGenerator\n",
    "from core.generators.mashup_dataset_generator import MashupDatasetGenerator"
   ]
  },
  {
   "cell_type": "code",
   "execution_count": null,
   "metadata": {},
   "outputs": [],
   "source": []
  },
  {
   "cell_type": "code",
   "execution_count": 11,
   "metadata": {},
   "outputs": [],
   "source": [
    "options = [\n",
    "    {\n",
    "        'table': table,\n",
    "        'n_instances': 10000,\n",
    "        'dataset_generator': DatasetGenerator(table_generator)\n",
    "    }\n",
    "]\n",
    "\n",
    "mashup_generator = MashupDatasetGenerator()\n",
    "dataset = mashup_generator.get_data(options)"
   ]
  },
  {
   "cell_type": "code",
   "execution_count": null,
   "metadata": {},
   "outputs": [],
   "source": []
  },
  {
   "cell_type": "code",
   "execution_count": 12,
   "metadata": {},
   "outputs": [],
   "source": [
    "import pandas as pd"
   ]
  },
  {
   "cell_type": "code",
   "execution_count": null,
   "metadata": {},
   "outputs": [],
   "source": []
  },
  {
   "cell_type": "code",
   "execution_count": 13,
   "metadata": {},
   "outputs": [
    {
     "data": {
      "text/html": [
       "<div>\n",
       "<style scoped>\n",
       "    .dataframe tbody tr th:only-of-type {\n",
       "        vertical-align: middle;\n",
       "    }\n",
       "\n",
       "    .dataframe tbody tr th {\n",
       "        vertical-align: top;\n",
       "    }\n",
       "\n",
       "    .dataframe thead th {\n",
       "        text-align: right;\n",
       "    }\n",
       "</style>\n",
       "<table border=\"1\" class=\"dataframe\">\n",
       "  <thead>\n",
       "    <tr style=\"text-align: right;\">\n",
       "      <th></th>\n",
       "      <th>table</th>\n",
       "      <th>target</th>\n",
       "    </tr>\n",
       "  </thead>\n",
       "  <tbody>\n",
       "    <tr>\n",
       "      <th>0</th>\n",
       "      <td>wnfyifor    1.82       dtowmcqjuvr    2.37    ...</td>\n",
       "      <td>wnfyifor vgyhtlifz srlzx 1.82 cm/s\\nrbbhgmlohc...</td>\n",
       "    </tr>\n",
       "    <tr>\n",
       "      <th>1</th>\n",
       "      <td>rt ofdicswc 0.51       oyqosarekwdjiw 2.57    ...</td>\n",
       "      <td>rt ofdicswc sr 0.51 cm/s\\nsu chgqjhok ngcfszck...</td>\n",
       "    </tr>\n",
       "    <tr>\n",
       "      <th>2</th>\n",
       "      <td>egfknamd    1.93 m     lfaxteuav      1.35    ...</td>\n",
       "      <td>egfknamd hdfzu vlplid 1.93 m\\nocye yota kheuhs...</td>\n",
       "    </tr>\n",
       "    <tr>\n",
       "      <th>3</th>\n",
       "      <td>ydlrayesqc  4.67 m     sxiwiyvodii    1.82    ...</td>\n",
       "      <td>ydlrayesqc udhricnjo gkhlddnfom 4.67 m\\nfankyo...</td>\n",
       "    </tr>\n",
       "    <tr>\n",
       "      <th>4</th>\n",
       "      <td>hpg exfjynja3.15       yrupxpvrqh     1.19    ...</td>\n",
       "      <td>hpg exfjynja jqrjl 3.15 cm\\nntzvhymj skrpaokb ...</td>\n",
       "    </tr>\n",
       "  </tbody>\n",
       "</table>\n",
       "</div>"
      ],
      "text/plain": [
       "                                               table  \\\n",
       "0  wnfyifor    1.82       dtowmcqjuvr    2.37    ...   \n",
       "1  rt ofdicswc 0.51       oyqosarekwdjiw 2.57    ...   \n",
       "2  egfknamd    1.93 m     lfaxteuav      1.35    ...   \n",
       "3  ydlrayesqc  4.67 m     sxiwiyvodii    1.82    ...   \n",
       "4  hpg exfjynja3.15       yrupxpvrqh     1.19    ...   \n",
       "\n",
       "                                              target  \n",
       "0  wnfyifor vgyhtlifz srlzx 1.82 cm/s\\nrbbhgmlohc...  \n",
       "1  rt ofdicswc sr 0.51 cm/s\\nsu chgqjhok ngcfszck...  \n",
       "2  egfknamd hdfzu vlplid 1.93 m\\nocye yota kheuhs...  \n",
       "3  ydlrayesqc udhricnjo gkhlddnfom 4.67 m\\nfankyo...  \n",
       "4  hpg exfjynja jqrjl 3.15 cm\\nntzvhymj skrpaokb ...  "
      ]
     },
     "execution_count": 13,
     "metadata": {},
     "output_type": "execute_result"
    }
   ],
   "source": [
    "df = pd.DataFrame(dataset)\n",
    "df.columns = ['table', 'target']\n",
    "\n",
    "df.head()"
   ]
  },
  {
   "cell_type": "code",
   "execution_count": null,
   "metadata": {},
   "outputs": [],
   "source": []
  },
  {
   "cell_type": "code",
   "execution_count": 14,
   "metadata": {},
   "outputs": [
    {
     "name": "stdout",
     "output_type": "stream",
     "text": [
      "wnfyifor    1.82       dtowmcqjuvr    2.37       ptktd       0.96\n",
      "vgyhtlifz   cm/s                      cm         pieesyzus   m/s\n",
      "srlzx                  epnaepqs       0.89       ae          0.74\n",
      "rbbhgmlohcc 0.87                      m/s        ndgjxmpqlpm cm/s\n",
      "pgel        cm                                   qvuztlrl qej2.96\n",
      "cvob        4.45                                 xvdj        cm/s\n",
      "mzklmpsh    cm                                   qxp         1.22 m\n",
      "mnnzpzth                                         kygngtgxja\n",
      "beq lre     3.49                                 boqycqjima  1.67\n",
      "            cm                                   cr ni       m/s\n",
      "ebpyuf      0.56                                 wupik       2.05\n",
      "            cm/s                                 xqauucshxz  m/s\n",
      "hmoirt bv kc2.81\n"
     ]
    }
   ],
   "source": [
    "print(df['table'][0])"
   ]
  },
  {
   "cell_type": "code",
   "execution_count": 15,
   "metadata": {},
   "outputs": [
    {
     "name": "stdout",
     "output_type": "stream",
     "text": [
      "wnfyifor vgyhtlifz srlzx 1.82 cm/s\n",
      "rbbhgmlohcc pgel 0.87 cm\n",
      "cvob mzklmpsh mnnzpzth 4.45 cm\n",
      "beq lre 3.49 cm\n",
      "ebpyuf 0.56 cm/s\n",
      "hmoirt bv kc 2.81 cm/s\n",
      "lljkv 1.98 cm\n",
      "bekozduw 2.64 m\n",
      "dtowmcqjuvr 2.37 cm\n",
      "epnaepqs 0.89 m/s\n",
      "ptktd pieesyzus 0.96 m/s\n",
      "ae ndgjxmpqlpm 0.74 cm/s\n",
      "qvuztlrl qej xvdj 2.96 cm/s\n",
      "qxp kygngtgxja 1.22 m\n",
      "boqycqjima cr ni 1.67 m/s\n",
      "wupik xqauucshxz 2.05 m/s\n"
     ]
    }
   ],
   "source": [
    "print(df['target'][0])"
   ]
  },
  {
   "cell_type": "code",
   "execution_count": null,
   "metadata": {},
   "outputs": [],
   "source": []
  },
  {
   "cell_type": "code",
   "execution_count": 16,
   "metadata": {},
   "outputs": [],
   "source": [
    "## split train, dev, test..."
   ]
  },
  {
   "cell_type": "code",
   "execution_count": 17,
   "metadata": {},
   "outputs": [],
   "source": [
    "from core.utils.modeling_utils import train_test_dev_split"
   ]
  },
  {
   "cell_type": "code",
   "execution_count": null,
   "metadata": {},
   "outputs": [],
   "source": []
  },
  {
   "cell_type": "code",
   "execution_count": 18,
   "metadata": {},
   "outputs": [
    {
     "name": "stdout",
     "output_type": "stream",
     "text": [
      "7000 1500 1500\n"
     ]
    }
   ],
   "source": [
    "train_data, dev_data, test_data = train_test_dev_split(dataset, .70)\n",
    "    \n",
    "print(len(train_data), len(dev_data), len(test_data))"
   ]
  },
  {
   "cell_type": "code",
   "execution_count": null,
   "metadata": {},
   "outputs": [],
   "source": []
  },
  {
   "cell_type": "code",
   "execution_count": 19,
   "metadata": {},
   "outputs": [],
   "source": [
    "## save off the dataset,\n",
    "df.to_csv('../../data/3-columns/v0.0.1.csv', index = False)"
   ]
  },
  {
   "cell_type": "code",
   "execution_count": null,
   "metadata": {},
   "outputs": [],
   "source": []
  }
 ],
 "metadata": {
  "kernelspec": {
   "display_name": "Python 3",
   "language": "python",
   "name": "python3"
  },
  "language_info": {
   "codemirror_mode": {
    "name": "ipython",
    "version": 3
   },
   "file_extension": ".py",
   "mimetype": "text/x-python",
   "name": "python",
   "nbconvert_exporter": "python",
   "pygments_lexer": "ipython3",
   "version": "3.7.3"
  }
 },
 "nbformat": 4,
 "nbformat_minor": 4
}
