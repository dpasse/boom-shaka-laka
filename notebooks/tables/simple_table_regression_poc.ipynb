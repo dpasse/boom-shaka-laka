{
 "cells": [
  {
   "cell_type": "code",
   "execution_count": 1,
   "metadata": {},
   "outputs": [
    {
     "data": {
      "text/plain": [
       "'3.7.3 (default, Mar 27 2019, 09:23:15) \\n[Clang 10.0.1 (clang-1001.0.46.3)]'"
      ]
     },
     "execution_count": 1,
     "metadata": {},
     "output_type": "execute_result"
    }
   ],
   "source": [
    "import sys\n",
    "\n",
    "## find 'core' package\n",
    "sys.path.insert(0, '../..')\n",
    "\n",
    "sys.version"
   ]
  },
  {
   "cell_type": "code",
   "execution_count": null,
   "metadata": {},
   "outputs": [],
   "source": []
  },
  {
   "cell_type": "code",
   "execution_count": 2,
   "metadata": {},
   "outputs": [],
   "source": [
    "import pandas as pd\n",
    "\n",
    "from core.models import unit\n",
    "from core.models.table import Table\n",
    "from core.factories import column_factory"
   ]
  },
  {
   "cell_type": "code",
   "execution_count": null,
   "metadata": {},
   "outputs": [],
   "source": []
  },
  {
   "cell_type": "code",
   "execution_count": 3,
   "metadata": {},
   "outputs": [],
   "source": [
    "from core.generators.label_generator import LabelGenerator\n",
    "from core.generators.unit_generator import UnitGenerator\n",
    "from core.generators.column_generator import ColumnGenerator\n",
    "from core.generators.table_generator import TableGenerator"
   ]
  },
  {
   "cell_type": "code",
   "execution_count": null,
   "metadata": {},
   "outputs": [],
   "source": []
  },
  {
   "cell_type": "code",
   "execution_count": 4,
   "metadata": {},
   "outputs": [],
   "source": [
    "vocab = [ c for c in 'abcdefghijklmnopqrstuvwxyz' ]\n",
    "\n",
    "index_to_char = dict([ (i, c) for i, c in enumerate(vocab) ])\n",
    "char_to_index = dict([ (c, i) for i, c in enumerate(vocab) ])\n",
    "\n",
    "label_generator = LabelGenerator(index_to_char)\n",
    "unit_generator = UnitGenerator(unit.get_unit_lookup())\n",
    "\n",
    "column_generator = ColumnGenerator(label_generator, unit_generator)"
   ]
  },
  {
   "cell_type": "code",
   "execution_count": null,
   "metadata": {},
   "outputs": [],
   "source": []
  },
  {
   "cell_type": "code",
   "execution_count": 5,
   "metadata": {},
   "outputs": [],
   "source": [
    "table_1 = Table()\n",
    "\n",
    "table_1.set_id('1')\n",
    "table_1.n_spaces_between_columns = 5\n",
    "table_1.max_number_of_labels = 10\n",
    "table_1.columns = [ \n",
    "    column_factory.create_column(\n",
    "        order = 0,\n",
    "        min_label_length = 2,\n",
    "        max_label_length = 12,\n",
    "        max_unit_length = 6,\n",
    "        max_number_of_label_parts = 4\n",
    "    )\n",
    "]\n",
    "\n",
    "table_2 = Table()\n",
    "\n",
    "table_2.set_id('2')\n",
    "table_2.n_spaces_between_columns = 5\n",
    "table_2.max_number_of_labels = 10\n",
    "table_2.columns = [ \n",
    "    column_factory.create_column(\n",
    "        order = 0,\n",
    "        min_label_length = 2,\n",
    "        max_label_length = 12,\n",
    "        max_unit_length = 6,\n",
    "        max_number_of_label_parts = 4\n",
    "    ),\n",
    "    column_factory.create_column(\n",
    "        order = 1,\n",
    "        min_label_length = 4,\n",
    "        max_label_length = 15,\n",
    "        max_unit_length = 6,\n",
    "        max_number_of_label_parts = 3\n",
    "    )\n",
    "]\n",
    "\n",
    "table_3 = Table()\n",
    "\n",
    "table_3.set_id('3')\n",
    "table_3.n_spaces_between_columns = 5\n",
    "table_3.max_number_of_labels = 10\n",
    "table_3.columns = [ \n",
    "    column_factory.create_column(\n",
    "        order = 0,\n",
    "        min_label_length = 2,\n",
    "        max_label_length = 12,\n",
    "        max_unit_length = 6,\n",
    "        max_number_of_label_parts = 4\n",
    "    ),\n",
    "    column_factory.create_column(\n",
    "        order = 1,\n",
    "        min_label_length = 4,\n",
    "        max_label_length = 15,\n",
    "        max_unit_length = 6,\n",
    "        max_number_of_label_parts = 3\n",
    "    ),\n",
    "    column_factory.create_column(\n",
    "        order = 2,\n",
    "        min_label_length = 2,\n",
    "        max_label_length = 12,\n",
    "        max_unit_length = 6,\n",
    "        max_number_of_label_parts = 4\n",
    "    )\n",
    "]"
   ]
  },
  {
   "cell_type": "code",
   "execution_count": null,
   "metadata": {},
   "outputs": [],
   "source": []
  },
  {
   "cell_type": "code",
   "execution_count": 6,
   "metadata": {},
   "outputs": [],
   "source": [
    "table_lookup = {}\n",
    "\n",
    "table_lookup[table_1.get_id()] = {\n",
    "    'table': table_1,\n",
    "    'table_generator': TableGenerator(table_1, column_generator),\n",
    "}\n",
    "\n",
    "table_lookup[table_2.get_id()] = {\n",
    "    'table': table_2,\n",
    "    'table_generator': TableGenerator(table_2, column_generator),\n",
    "}\n",
    "\n",
    "table_lookup[table_3.get_id()] = {\n",
    "    'table': table_3,\n",
    "    'table_generator': TableGenerator(table_3, column_generator),\n",
    "}"
   ]
  },
  {
   "cell_type": "code",
   "execution_count": null,
   "metadata": {},
   "outputs": [],
   "source": []
  },
  {
   "cell_type": "code",
   "execution_count": 7,
   "metadata": {},
   "outputs": [],
   "source": [
    "_, x1, _ = table_lookup[table_1.get_id()]['table_generator'].get_table()\n",
    "_, x2, _ = table_lookup[table_2.get_id()]['table_generator'].get_table()\n",
    "_, x3, _ = table_lookup[table_3.get_id()]['table_generator'].get_table()\n",
    "\n",
    "X = [\n",
    "    x1,\n",
    "    x2,\n",
    "    x3\n",
    "]\n",
    "\n",
    "## max 3, only need two splits\n",
    "y = [\n",
    "    [-1, -1],\n",
    "    [23, -1],\n",
    "    [23, 49]\n",
    "]"
   ]
  },
  {
   "cell_type": "code",
   "execution_count": null,
   "metadata": {},
   "outputs": [],
   "source": []
  },
  {
   "cell_type": "code",
   "execution_count": 8,
   "metadata": {},
   "outputs": [
    {
     "name": "stdout",
     "output_type": "stream",
     "text": [
      "ytkenpu     1.4\n",
      "llcwaee     m/s\n",
      "kjxxdtll\n",
      "atwlgpelgp  2.39\n",
      "ktvilix     cm/s\n",
      "ocrzq\n",
      "mgqtg onktf 2.47\n",
      "            cm\n",
      "zkdehpqfkcj 2.83\n",
      "            m/s\n",
      "pyxlkp      0.57\n",
      "            cm\n",
      "bxwtrw      2.03\n",
      "            cm/s\n",
      "vtpitc      2.8 cm\n",
      "\n"
     ]
    }
   ],
   "source": [
    "print('\\n'.join(X[0]))"
   ]
  },
  {
   "cell_type": "code",
   "execution_count": 9,
   "metadata": {},
   "outputs": [
    {
     "name": "stdout",
     "output_type": "stream",
     "text": [
      "rudqjsfxdxx 2.31       cxwtagruxs     0.6\n",
      "oc dlo      m/s                       cm/s\n",
      "cutliepgf   0.16       oxkzfzxgfzntg  0.07\n",
      "rytckaede   cm/s                      m/s\n",
      "uigbtvrv fg 4.79 m     mkrc           2.94\n",
      "vmqypmnofx  1.11                      cm/s\n",
      "nnwguhlcwbh cm         jgyxmkfioaze   2.8\n",
      "oypwppykut                            m/s\n",
      "zfta xeasepu1.43\n"
     ]
    }
   ],
   "source": [
    "print('\\n'.join(X[1]))"
   ]
  },
  {
   "cell_type": "code",
   "execution_count": 10,
   "metadata": {},
   "outputs": [
    {
     "name": "stdout",
     "output_type": "stream",
     "text": [
      "djep        0.14       mcamtqlgjfvwt  2.08       zxvc        3.27\n",
      "owbgbvapmq  m/s        eqqzjewwde     cm/s                   cm\n",
      "tkhnbbhz               cnmukcoc aqdx  2.78       ukp uoocju  2.86\n",
      "xql         2.96 m                    cm         ldryxrhra   cm/s\n",
      "                       vwok           0.41       zlylztolwai 2.42\n",
      "                       einovlajhwo    cm                     cm/s\n",
      "                       knwgxoiz       1.77       kobmakgwzxw 4.16 m\n",
      "                       qrmbjwnexm     m/s        wanx vsdxpmx\n",
      "                                                 rqsgikklnz  0.68\n",
      "                                                             cm/s\n",
      "                                                 utztalf ed  1.37\n",
      "                                                             cm\n",
      "                                                 la aea      3.63\n",
      "                                                 nbrmhn      cm\n",
      "                                                 bls         2.24\n",
      "                                                 toqybbjfi   m/s\n",
      "                                                 ouepx\n",
      "\n"
     ]
    }
   ],
   "source": [
    "print('\\n'.join(X[2]))"
   ]
  },
  {
   "cell_type": "code",
   "execution_count": null,
   "metadata": {},
   "outputs": [],
   "source": []
  },
  {
   "cell_type": "code",
   "execution_count": 11,
   "metadata": {},
   "outputs": [],
   "source": [
    "import matplotlib.pyplot as plt"
   ]
  },
  {
   "cell_type": "code",
   "execution_count": null,
   "metadata": {},
   "outputs": [],
   "source": []
  },
  {
   "cell_type": "code",
   "execution_count": 12,
   "metadata": {},
   "outputs": [],
   "source": [
    "w = 0\n",
    "h = 0\n",
    "for key in table_lookup.keys():\n",
    "    table = table_lookup[key]['table']\n",
    "    \n",
    "    width, height = table.get_max_size()\n",
    "    \n",
    "    if width > w:\n",
    "        w = width\n",
    "        \n",
    "    if height > h:\n",
    "        h = height\n",
    "\n",
    "X_t = [ ]\n",
    "for example in X:\n",
    "    \n",
    "    img = []\n",
    "    for row in example:\n",
    "        u = [ 0 if r == ' ' else 1 for r in row ]\n",
    "        if len(u) < w:\n",
    "            u = u + [ 0 for _ in range(w - len(u))]\n",
    "            \n",
    "        img.append(u)\n",
    "        \n",
    "    while len(img) < h:\n",
    "        img.append([0 for _ in range(w)])\n",
    "\n",
    "    X_t.append(img)"
   ]
  },
  {
   "cell_type": "code",
   "execution_count": null,
   "metadata": {},
   "outputs": [],
   "source": []
  },
  {
   "cell_type": "code",
   "execution_count": 13,
   "metadata": {},
   "outputs": [],
   "source": [
    "import numpy as np"
   ]
  },
  {
   "cell_type": "code",
   "execution_count": null,
   "metadata": {},
   "outputs": [],
   "source": []
  },
  {
   "cell_type": "code",
   "execution_count": 14,
   "metadata": {},
   "outputs": [
    {
     "data": {
      "image/png": "[encoded data removed]",
      "text/plain": [
       "<Figure size 432x288 with 1 Axes>"
      ]
     },
     "metadata": {
      "needs_background": "light"
     },
     "output_type": "display_data"
    },
    {
     "data": {
      "image/png": "[encoded data removed]",
      "text/plain": [
       "<Figure size 432x288 with 1 Axes>"
      ]
     },
     "metadata": {
      "needs_background": "light"
     },
     "output_type": "display_data"
    },
    {
     "data": {
      "image/png": "[encoded data removed]",
      "text/plain": [
       "<Figure size 432x288 with 1 Axes>"
      ]
     },
     "metadata": {
      "needs_background": "light"
     },
     "output_type": "display_data"
    }
   ],
   "source": [
    "for example in X_t:\n",
    "    plt.imshow(np.array(example), cmap='gray')\n",
    "    plt.show()"
   ]
  },
  {
   "cell_type": "code",
   "execution_count": null,
   "metadata": {},
   "outputs": [],
   "source": []
  },
  {
   "cell_type": "code",
   "execution_count": 15,
   "metadata": {},
   "outputs": [
    {
     "name": "stderr",
     "output_type": "stream",
     "text": [
      "Using TensorFlow backend.\n"
     ]
    }
   ],
   "source": [
    "from keras.utils import to_categorical\n",
    "\n",
    "from keras.models import Sequential\n",
    "from keras.layers import Conv1D, MaxPool1D, Dense, Dropout, Flatten"
   ]
  },
  {
   "cell_type": "code",
   "execution_count": null,
   "metadata": {},
   "outputs": [],
   "source": []
  },
  {
   "cell_type": "code",
   "execution_count": 16,
   "metadata": {},
   "outputs": [],
   "source": [
    "X_train = np.array(X_t)"
   ]
  },
  {
   "cell_type": "code",
   "execution_count": 17,
   "metadata": {},
   "outputs": [
    {
     "data": {
      "text/plain": [
       "(40, 68)"
      ]
     },
     "execution_count": 17,
     "metadata": {},
     "output_type": "execute_result"
    }
   ],
   "source": [
    "X_train.shape[1:]"
   ]
  },
  {
   "cell_type": "code",
   "execution_count": null,
   "metadata": {},
   "outputs": [],
   "source": []
  },
  {
   "cell_type": "code",
   "execution_count": 18,
   "metadata": {},
   "outputs": [
    {
     "name": "stdout",
     "output_type": "stream",
     "text": [
      "[[-1 -1]\n",
      " [23 -1]\n",
      " [23 49]]\n"
     ]
    }
   ],
   "source": [
    "y_train = np.array(y)\n",
    "\n",
    "print(y_train)"
   ]
  },
  {
   "cell_type": "code",
   "execution_count": null,
   "metadata": {},
   "outputs": [],
   "source": []
  },
  {
   "cell_type": "code",
   "execution_count": 19,
   "metadata": {},
   "outputs": [],
   "source": [
    "model = Sequential()\n",
    "\n",
    "model.add(Conv1D(15, kernel_size=3, input_shape = X_train.shape[1:]))\n",
    "model.add(MaxPool1D(3))\n",
    "\n",
    "model.add(Flatten())\n",
    "\n",
    "## number of units\n",
    "units = y_train.shape[1]\n",
    "\n",
    "model.add(Dense(units, activation='linear'))"
   ]
  },
  {
   "cell_type": "code",
   "execution_count": null,
   "metadata": {},
   "outputs": [],
   "source": []
  },
  {
   "cell_type": "code",
   "execution_count": 20,
   "metadata": {},
   "outputs": [],
   "source": [
    "model.compile(\n",
    "    optimizer='adam',\n",
    "    loss='mean_squared_error',\n",
    "    metrics = ['accuracy']\n",
    ")"
   ]
  },
  {
   "cell_type": "code",
   "execution_count": null,
   "metadata": {},
   "outputs": [],
   "source": []
  },
  {
   "cell_type": "code",
   "execution_count": 21,
   "metadata": {},
   "outputs": [
    {
     "data": {
      "text/plain": [
       "<keras.callbacks.callbacks.History at 0x123c18e80>"
      ]
     },
     "execution_count": 21,
     "metadata": {},
     "output_type": "execute_result"
    }
   ],
   "source": [
    "model.fit(X_train, y_train, epochs=300, verbose=0)"
   ]
  },
  {
   "cell_type": "code",
   "execution_count": null,
   "metadata": {},
   "outputs": [],
   "source": []
  },
  {
   "cell_type": "code",
   "execution_count": 22,
   "metadata": {},
   "outputs": [
    {
     "name": "stdout",
     "output_type": "stream",
     "text": [
      "Model: \"sequential_1\"\n",
      "_________________________________________________________________\n",
      "Layer (type)                 Output Shape              Param #   \n",
      "=================================================================\n",
      "conv1d_1 (Conv1D)            (None, 38, 15)            3075      \n",
      "_________________________________________________________________\n",
      "max_pooling1d_1 (MaxPooling1 (None, 12, 15)            0         \n",
      "_________________________________________________________________\n",
      "flatten_1 (Flatten)          (None, 180)               0         \n",
      "_________________________________________________________________\n",
      "dense_1 (Dense)              (None, 2)                 362       \n",
      "=================================================================\n",
      "Total params: 3,437\n",
      "Trainable params: 3,437\n",
      "Non-trainable params: 0\n",
      "_________________________________________________________________\n"
     ]
    }
   ],
   "source": [
    "model.summary()"
   ]
  },
  {
   "cell_type": "code",
   "execution_count": null,
   "metadata": {},
   "outputs": [],
   "source": []
  },
  {
   "cell_type": "code",
   "execution_count": 23,
   "metadata": {},
   "outputs": [],
   "source": [
    "def split_file(indexes, text):\n",
    "\n",
    "    splits = []\n",
    "\n",
    "    previous_index = -1\n",
    "    for index in filter(lambda x: x > 0, indexes):\n",
    "        for row in text:\n",
    "            if previous_index > 0:\n",
    "                splits.append(row[previous_index:index].tolist())\n",
    "            else:\n",
    "                splits.append(row[:index].tolist())\n",
    "\n",
    "        previous_index = index\n",
    "\n",
    "    if previous_index > 0:\n",
    "        for row in text:\n",
    "            splits.append(row[previous_index:].tolist())\n",
    "            \n",
    "    if len(splits) == 0:\n",
    "        return text\n",
    "    \n",
    "    _max = np.max([\n",
    "        len(row)\n",
    "        for row in splits\n",
    "    ])\n",
    "\n",
    "    formatted = []\n",
    "    for row in splits:\n",
    "        while len(row) < _max:\n",
    "            row.append(0)\n",
    "\n",
    "        formatted.append(row)\n",
    "        \n",
    "    return formatted"
   ]
  },
  {
   "cell_type": "code",
   "execution_count": null,
   "metadata": {},
   "outputs": [],
   "source": []
  },
  {
   "cell_type": "code",
   "execution_count": 24,
   "metadata": {},
   "outputs": [
    {
     "data": {
      "image/png": "[encoded data removed]",
      "text/plain": [
       "<Figure size 432x288 with 1 Axes>"
      ]
     },
     "metadata": {
      "needs_background": "light"
     },
     "output_type": "display_data"
    }
   ],
   "source": [
    "plt.imshow(X_train[0], cmap='gray')\n",
    "plt.show()\n",
    "\n",
    "indexes = [\n",
    "    int(round(y))\n",
    "    for y\n",
    "    in model.predict(np.array([X_train[0]]))[0]\n",
    "]"
   ]
  },
  {
   "cell_type": "code",
   "execution_count": 25,
   "metadata": {},
   "outputs": [
    {
     "data": {
      "image/png": "[encoded data removed]",
      "text/plain": [
       "<Figure size 432x288 with 1 Axes>"
      ]
     },
     "metadata": {
      "needs_background": "light"
     },
     "output_type": "display_data"
    }
   ],
   "source": [
    "formatted = split_file(indexes, X_train[0])\n",
    "\n",
    "plt.imshow(formatted, cmap='gray')\n",
    "plt.show()"
   ]
  },
  {
   "cell_type": "code",
   "execution_count": null,
   "metadata": {},
   "outputs": [],
   "source": []
  },
  {
   "cell_type": "code",
   "execution_count": 26,
   "metadata": {},
   "outputs": [
    {
     "data": {
      "image/png": "[encoded data removed]",
      "text/plain": [
       "<Figure size 432x288 with 1 Axes>"
      ]
     },
     "metadata": {
      "needs_background": "light"
     },
     "output_type": "display_data"
    },
    {
     "name": "stdout",
     "output_type": "stream",
     "text": [
      "[23, -1]\n"
     ]
    }
   ],
   "source": [
    "plt.imshow(X_train[1], cmap='gray')\n",
    "plt.show()\n",
    "\n",
    "indexes = [\n",
    "    int(round(y))\n",
    "    for y\n",
    "    in model.predict(np.array([X_train[1]]))[0]\n",
    "]\n",
    "\n",
    "print(indexes)"
   ]
  },
  {
   "cell_type": "code",
   "execution_count": 27,
   "metadata": {},
   "outputs": [
    {
     "data": {
      "image/png": "[encoded data removed]",
      "text/plain": [
       "<Figure size 432x288 with 1 Axes>"
      ]
     },
     "metadata": {
      "needs_background": "light"
     },
     "output_type": "display_data"
    }
   ],
   "source": [
    "formatted = split_file(indexes, X_train[1])\n",
    "\n",
    "plt.imshow(formatted, cmap='gray')\n",
    "plt.show()"
   ]
  },
  {
   "cell_type": "code",
   "execution_count": null,
   "metadata": {},
   "outputs": [],
   "source": []
  },
  {
   "cell_type": "code",
   "execution_count": 28,
   "metadata": {},
   "outputs": [
    {
     "data": {
      "image/png": "[encoded data removed]",
      "text/plain": [
       "<Figure size 432x288 with 1 Axes>"
      ]
     },
     "metadata": {
      "needs_background": "light"
     },
     "output_type": "display_data"
    },
    {
     "name": "stdout",
     "output_type": "stream",
     "text": [
      "[23, 49]\n"
     ]
    }
   ],
   "source": [
    "plt.imshow(X_train[2], cmap='gray')\n",
    "plt.show()\n",
    "\n",
    "indexes = [\n",
    "    int(round(y))\n",
    "    for y\n",
    "    in model.predict(np.array([X_train[2]]))[0]\n",
    "]\n",
    "\n",
    "print(indexes)"
   ]
  },
  {
   "cell_type": "code",
   "execution_count": 29,
   "metadata": {},
   "outputs": [
    {
     "data": {
      "image/png": "[encoded data removed]",
      "text/plain": [
       "<Figure size 432x288 with 1 Axes>"
      ]
     },
     "metadata": {
      "needs_background": "light"
     },
     "output_type": "display_data"
    }
   ],
   "source": [
    "formatted = split_file(indexes, X_train[2])\n",
    "\n",
    "plt.imshow(formatted, cmap='gray')\n",
    "plt.show()"
   ]
  },
  {
   "cell_type": "code",
   "execution_count": null,
   "metadata": {},
   "outputs": [],
   "source": []
  }
 ],
 "metadata": {
  "kernelspec": {
   "display_name": "Python 3",
   "language": "python",
   "name": "python3"
  },
  "language_info": {
   "codemirror_mode": {
    "name": "ipython",
    "version": 3
   },
   "file_extension": ".py",
   "mimetype": "text/x-python",
   "name": "python",
   "nbconvert_exporter": "python",
   "pygments_lexer": "ipython3",
   "version": "3.7.3"
  }
 },
 "nbformat": 4,
 "nbformat_minor": 4
}
