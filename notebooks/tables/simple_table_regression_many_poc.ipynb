{
 "cells": [
  {
   "cell_type": "code",
   "execution_count": 1,
   "metadata": {},
   "outputs": [
    {
     "data": {
      "text/plain": [
       "'3.7.3 (default, Mar 27 2019, 09:23:15) \\n[Clang 10.0.1 (clang-1001.0.46.3)]'"
      ]
     },
     "execution_count": 1,
     "metadata": {},
     "output_type": "execute_result"
    }
   ],
   "source": [
    "import sys\n",
    "\n",
    "## find 'core' package\n",
    "sys.path.insert(0, '../..')\n",
    "\n",
    "sys.version"
   ]
  },
  {
   "cell_type": "code",
   "execution_count": null,
   "metadata": {},
   "outputs": [],
   "source": []
  },
  {
   "cell_type": "code",
   "execution_count": 2,
   "metadata": {},
   "outputs": [],
   "source": [
    "import pandas as pd\n",
    "\n",
    "from core.models import unit\n",
    "from core.models.table import Table\n",
    "from core.factories import column_factory"
   ]
  },
  {
   "cell_type": "code",
   "execution_count": null,
   "metadata": {},
   "outputs": [],
   "source": []
  },
  {
   "cell_type": "code",
   "execution_count": 3,
   "metadata": {},
   "outputs": [],
   "source": [
    "from core.generators.label_generator import LabelGenerator\n",
    "from core.generators.unit_generator import UnitGenerator\n",
    "from core.generators.column_generator import ColumnGenerator\n",
    "from core.generators.table_generator import TableGenerator"
   ]
  },
  {
   "cell_type": "code",
   "execution_count": null,
   "metadata": {},
   "outputs": [],
   "source": []
  },
  {
   "cell_type": "code",
   "execution_count": 4,
   "metadata": {},
   "outputs": [],
   "source": [
    "vocab = [ c for c in 'abcdefghijklmnopqrstuvwxyz' ]\n",
    "\n",
    "index_to_char = dict([ (i, c) for i, c in enumerate(vocab) ])\n",
    "char_to_index = dict([ (c, i) for i, c in enumerate(vocab) ])\n",
    "\n",
    "label_generator = LabelGenerator(index_to_char)\n",
    "unit_generator = UnitGenerator(unit.get_unit_lookup())\n",
    "\n",
    "column_generator = ColumnGenerator(label_generator, unit_generator)"
   ]
  },
  {
   "cell_type": "code",
   "execution_count": null,
   "metadata": {},
   "outputs": [],
   "source": []
  },
  {
   "cell_type": "code",
   "execution_count": 5,
   "metadata": {},
   "outputs": [],
   "source": [
    "table_1 = Table()\n",
    "\n",
    "table_1.set_id('1')\n",
    "table_1.n_spaces_between_columns = 1\n",
    "table_1.max_number_of_labels = 10\n",
    "table_1.columns = [ \n",
    "    column_factory.create_column(\n",
    "        order = 0,\n",
    "        min_label_length = 2,\n",
    "        max_label_length = 12,\n",
    "        max_unit_length = 6,\n",
    "        max_number_of_label_parts = 4\n",
    "    ),\n",
    "    column_factory.create_column(\n",
    "        order = 1,\n",
    "        min_label_length = 4,\n",
    "        max_label_length = 15,\n",
    "        max_unit_length = 6,\n",
    "        max_number_of_label_parts = 3\n",
    "    ),\n",
    "    column_factory.create_column(\n",
    "        order = 2,\n",
    "        min_label_length = 2,\n",
    "        max_label_length = 12,\n",
    "        max_unit_length = 6,\n",
    "        max_number_of_label_parts = 4\n",
    "    )\n",
    "]\n",
    "\n",
    "table_2 = Table()\n",
    "\n",
    "table_2.set_id('2')\n",
    "table_2.n_spaces_between_columns = 3\n",
    "table_2.max_number_of_labels = 10\n",
    "table_2.columns = [ \n",
    "    column_factory.create_column(\n",
    "        order = 0,\n",
    "        min_label_length = 2,\n",
    "        max_label_length = 12,\n",
    "        max_unit_length = 6,\n",
    "        max_number_of_label_parts = 4\n",
    "    ),\n",
    "    column_factory.create_column(\n",
    "        order = 1,\n",
    "        min_label_length = 4,\n",
    "        max_label_length = 15,\n",
    "        max_unit_length = 6,\n",
    "        max_number_of_label_parts = 3\n",
    "    ),\n",
    "    column_factory.create_column(\n",
    "        order = 2,\n",
    "        min_label_length = 2,\n",
    "        max_label_length = 12,\n",
    "        max_unit_length = 6,\n",
    "        max_number_of_label_parts = 4\n",
    "    )\n",
    "]\n",
    "\n",
    "table_3 = Table()\n",
    "\n",
    "table_3.set_id('3')\n",
    "table_3.n_spaces_between_columns = 5\n",
    "table_3.max_number_of_labels = 10\n",
    "table_3.columns = [ \n",
    "    column_factory.create_column(\n",
    "        order = 0,\n",
    "        min_label_length = 2,\n",
    "        max_label_length = 12,\n",
    "        max_unit_length = 6,\n",
    "        max_number_of_label_parts = 4\n",
    "    ),\n",
    "    column_factory.create_column(\n",
    "        order = 1,\n",
    "        min_label_length = 4,\n",
    "        max_label_length = 15,\n",
    "        max_unit_length = 6,\n",
    "        max_number_of_label_parts = 3\n",
    "    ),\n",
    "    column_factory.create_column(\n",
    "        order = 2,\n",
    "        min_label_length = 2,\n",
    "        max_label_length = 12,\n",
    "        max_unit_length = 6,\n",
    "        max_number_of_label_parts = 4\n",
    "    )\n",
    "]"
   ]
  },
  {
   "cell_type": "code",
   "execution_count": null,
   "metadata": {},
   "outputs": [],
   "source": []
  },
  {
   "cell_type": "code",
   "execution_count": 6,
   "metadata": {},
   "outputs": [],
   "source": [
    "table_lookup = {}\n",
    "\n",
    "table_lookup[table_1.get_id()] = {\n",
    "    'table': table_1,\n",
    "    'table_generator': TableGenerator(table_1, column_generator),\n",
    "}\n",
    "\n",
    "table_lookup[table_2.get_id()] = {\n",
    "    'table': table_2,\n",
    "    'table_generator': TableGenerator(table_2, column_generator),\n",
    "}\n",
    "\n",
    "table_lookup[table_3.get_id()] = {\n",
    "    'table': table_3,\n",
    "    'table_generator': TableGenerator(table_3, column_generator),\n",
    "}\n",
    "\n",
    "table_lookup_keys = list(table_lookup.keys())"
   ]
  },
  {
   "cell_type": "code",
   "execution_count": null,
   "metadata": {},
   "outputs": [],
   "source": []
  },
  {
   "cell_type": "code",
   "execution_count": 7,
   "metadata": {},
   "outputs": [],
   "source": [
    "examples = 1000\n",
    "\n",
    "X = []\n",
    "y = []\n",
    "\n",
    "for table_id in table_lookup_keys:\n",
    "\n",
    "    for _ in range(examples):\n",
    "        options = table_lookup[table_id]\n",
    "        \n",
    "        _, x, _ = options['table_generator'].get_table()\n",
    "\n",
    "        X.append(x)\n",
    "        y.append(\n",
    "            options['table'].get_split_targets()\n",
    "        )"
   ]
  },
  {
   "cell_type": "code",
   "execution_count": null,
   "metadata": {},
   "outputs": [],
   "source": []
  },
  {
   "cell_type": "code",
   "execution_count": 8,
   "metadata": {},
   "outputs": [],
   "source": [
    "import matplotlib.pyplot as plt"
   ]
  },
  {
   "cell_type": "code",
   "execution_count": null,
   "metadata": {},
   "outputs": [],
   "source": []
  },
  {
   "cell_type": "code",
   "execution_count": 9,
   "metadata": {},
   "outputs": [],
   "source": [
    "w = 0\n",
    "h = 0\n",
    "for key in table_lookup.keys():\n",
    "    table = table_lookup[key]['table']\n",
    "    \n",
    "    width, height = table.get_max_size()\n",
    "    \n",
    "    if width > w:\n",
    "        w = width\n",
    "        \n",
    "    if height > h:\n",
    "        h = height\n",
    "        \n",
    "def convert_text_to_img(X, h, w):\n",
    "    X_t = [ ]\n",
    "    for example in X:\n",
    "\n",
    "        img = []\n",
    "        for row in example:\n",
    "            u = [ 0 if r == ' ' else 1 for r in row ]\n",
    "            if len(u) < w:\n",
    "                u = u + [ 0 for _ in range(w - len(u))]\n",
    "\n",
    "            img.append(u)\n",
    "\n",
    "        while len(img) < h:\n",
    "            img.append([0 for _ in range(w)])\n",
    "\n",
    "        X_t.append(img)\n",
    "    \n",
    "    return X_t\n",
    "\n",
    "X_t = convert_text_to_img(X, h, w)"
   ]
  },
  {
   "cell_type": "code",
   "execution_count": null,
   "metadata": {},
   "outputs": [],
   "source": []
  },
  {
   "cell_type": "code",
   "execution_count": 10,
   "metadata": {},
   "outputs": [],
   "source": [
    "import numpy as np"
   ]
  },
  {
   "cell_type": "code",
   "execution_count": null,
   "metadata": {},
   "outputs": [],
   "source": []
  },
  {
   "cell_type": "code",
   "execution_count": 11,
   "metadata": {},
   "outputs": [
    {
     "name": "stderr",
     "output_type": "stream",
     "text": [
      "Using TensorFlow backend.\n"
     ]
    }
   ],
   "source": [
    "from keras.utils import to_categorical\n",
    "\n",
    "from keras.models import Sequential\n",
    "from keras.metrics import MeanSquaredError\n",
    "\n",
    "## conv\n",
    "from keras.layers import Conv1D, MaxPool1D, Dense, Dropout, Flatten\n",
    "\n",
    "## lstm\n",
    "from keras.layers import Input, LSTM, Dense, Bidirectional, Dropout"
   ]
  },
  {
   "cell_type": "code",
   "execution_count": null,
   "metadata": {},
   "outputs": [],
   "source": []
  },
  {
   "cell_type": "code",
   "execution_count": 12,
   "metadata": {},
   "outputs": [],
   "source": [
    "from sklearn.utils import shuffle\n",
    "from sklearn.model_selection import train_test_split\n",
    "\n",
    "X_t, y_t = shuffle(np.array(X_t), np.array(y))\n",
    "X_train, X_test, y_train, y_test = train_test_split(X_t, y_t, test_size=.05)"
   ]
  },
  {
   "cell_type": "code",
   "execution_count": null,
   "metadata": {},
   "outputs": [],
   "source": []
  },
  {
   "cell_type": "code",
   "execution_count": 13,
   "metadata": {},
   "outputs": [
    {
     "data": {
      "text/plain": [
       "(40, 68)"
      ]
     },
     "metadata": {},
     "output_type": "display_data"
    },
    {
     "data": {
      "text/plain": [
       "array([[23, 49],\n",
       "       [21, 45],\n",
       "       [21, 45],\n",
       "       ...,\n",
       "       [23, 49],\n",
       "       [21, 45],\n",
       "       [21, 45]])"
      ]
     },
     "metadata": {},
     "output_type": "display_data"
    }
   ],
   "source": [
    "display(X_train.shape[1:])\n",
    "display(y_train)"
   ]
  },
  {
   "cell_type": "code",
   "execution_count": null,
   "metadata": {},
   "outputs": [],
   "source": []
  },
  {
   "cell_type": "markdown",
   "metadata": {},
   "source": [
    "## LSTM"
   ]
  },
  {
   "cell_type": "code",
   "execution_count": null,
   "metadata": {},
   "outputs": [],
   "source": []
  },
  {
   "cell_type": "code",
   "execution_count": 14,
   "metadata": {},
   "outputs": [],
   "source": [
    "model_lstm = Sequential()\n",
    "\n",
    "model_lstm.add(\n",
    "    Bidirectional(\n",
    "        LSTM(400, input_shape=X_train.shape[1:], return_sequences=True, kernel_initializer='random_normal')\n",
    "    )\n",
    ")\n",
    "model_lstm.add(Dropout(0.35))\n",
    "\n",
    "model_lstm.add(\n",
    "    LSTM(400, return_sequences=True, kernel_initializer='random_normal')\n",
    ")\n",
    "model_lstm.add(Dropout(0.35))\n",
    "\n",
    "model_lstm.add(\n",
    "    LSTM(400, return_sequences=False, kernel_initializer='random_normal')\n",
    ")\n",
    "model_lstm.add(Dropout(0.35))\n",
    "\n",
    "## FC\n",
    "model_lstm.add(Dense(100, activation='relu'))\n",
    "model_lstm.add(Dense(50, activation='relu'))\n",
    "model_lstm.add(Dense(y_train.shape[1], activation='linear'))"
   ]
  },
  {
   "cell_type": "code",
   "execution_count": null,
   "metadata": {},
   "outputs": [],
   "source": []
  },
  {
   "cell_type": "code",
   "execution_count": 15,
   "metadata": {},
   "outputs": [],
   "source": [
    "model_lstm.compile(\n",
    "    optimizer='adam',\n",
    "    loss='mse',\n",
    "    metrics = ['mean_squared_error']\n",
    ")"
   ]
  },
  {
   "cell_type": "code",
   "execution_count": null,
   "metadata": {},
   "outputs": [],
   "source": []
  },
  {
   "cell_type": "code",
   "execution_count": 16,
   "metadata": {},
   "outputs": [
    {
     "name": "stdout",
     "output_type": "stream",
     "text": [
      "Train on 2850 samples, validate on 150 samples\n",
      "Epoch 1/25\n",
      "2850/2850 [==============================] - 35s 12ms/step - loss: 290.3344 - mean_squared_error: 290.3344 - val_loss: 13.7774 - val_mean_squared_error: 13.7774\n",
      "Epoch 2/25\n",
      "2850/2850 [==============================] - 33s 12ms/step - loss: 14.7846 - mean_squared_error: 14.7846 - val_loss: 7.2236 - val_mean_squared_error: 7.2236\n",
      "Epoch 3/25\n",
      "2850/2850 [==============================] - 33s 11ms/step - loss: 9.2858 - mean_squared_error: 9.2858 - val_loss: 7.1117 - val_mean_squared_error: 7.1117\n",
      "Epoch 4/25\n",
      "2850/2850 [==============================] - 30s 11ms/step - loss: 9.2704 - mean_squared_error: 9.2704 - val_loss: 7.0783 - val_mean_squared_error: 7.0783\n",
      "Epoch 5/25\n",
      "2850/2850 [==============================] - 35s 12ms/step - loss: 9.0196 - mean_squared_error: 9.0196 - val_loss: 7.0661 - val_mean_squared_error: 7.0661\n",
      "Epoch 6/25\n",
      "2850/2850 [==============================] - 34s 12ms/step - loss: 9.1621 - mean_squared_error: 9.1621 - val_loss: 7.0894 - val_mean_squared_error: 7.0894\n",
      "Epoch 7/25\n",
      "2850/2850 [==============================] - 34s 12ms/step - loss: 8.9920 - mean_squared_error: 8.9920 - val_loss: 7.0911 - val_mean_squared_error: 7.0911\n",
      "Epoch 8/25\n",
      "2850/2850 [==============================] - 35s 12ms/step - loss: 9.2993 - mean_squared_error: 9.2993 - val_loss: 7.2754 - val_mean_squared_error: 7.2754\n",
      "Epoch 9/25\n",
      "2850/2850 [==============================] - 32s 11ms/step - loss: 9.0134 - mean_squared_error: 9.0134 - val_loss: 7.1089 - val_mean_squared_error: 7.1089\n",
      "Epoch 10/25\n",
      "2850/2850 [==============================] - 31s 11ms/step - loss: 9.0685 - mean_squared_error: 9.0685 - val_loss: 7.1108 - val_mean_squared_error: 7.1108\n",
      "Epoch 11/25\n",
      "2850/2850 [==============================] - 32s 11ms/step - loss: 8.9063 - mean_squared_error: 8.9063 - val_loss: 7.1915 - val_mean_squared_error: 7.1915\n",
      "Epoch 12/25\n",
      "2850/2850 [==============================] - 30s 10ms/step - loss: 9.0565 - mean_squared_error: 9.0565 - val_loss: 7.0672 - val_mean_squared_error: 7.0672\n",
      "Epoch 13/25\n",
      "2850/2850 [==============================] - 29s 10ms/step - loss: 9.1255 - mean_squared_error: 9.1255 - val_loss: 7.1265 - val_mean_squared_error: 7.1265\n",
      "Epoch 14/25\n",
      "2850/2850 [==============================] - 1673s 587ms/step - loss: 8.7015 - mean_squared_error: 8.7015 - val_loss: 7.2701 - val_mean_squared_error: 7.2701\n",
      "Epoch 15/25\n",
      "2850/2850 [==============================] - 32s 11ms/step - loss: 9.0339 - mean_squared_error: 9.0339 - val_loss: 7.1123 - val_mean_squared_error: 7.1123\n",
      "Epoch 16/25\n",
      "2850/2850 [==============================] - 31s 11ms/step - loss: 8.7558 - mean_squared_error: 8.7558 - val_loss: 7.0714 - val_mean_squared_error: 7.0714\n",
      "Epoch 17/25\n",
      "2850/2850 [==============================] - 33s 12ms/step - loss: 8.8069 - mean_squared_error: 8.8069 - val_loss: 7.2000 - val_mean_squared_error: 7.2000\n",
      "Epoch 18/25\n",
      "2850/2850 [==============================] - 31s 11ms/step - loss: 8.7697 - mean_squared_error: 8.7697 - val_loss: 7.7842 - val_mean_squared_error: 7.7842\n",
      "Epoch 19/25\n",
      "2850/2850 [==============================] - 31s 11ms/step - loss: 8.7212 - mean_squared_error: 8.7212 - val_loss: 7.2041 - val_mean_squared_error: 7.2041\n",
      "Epoch 20/25\n",
      "2850/2850 [==============================] - 31s 11ms/step - loss: 8.8025 - mean_squared_error: 8.8025 - val_loss: 7.0672 - val_mean_squared_error: 7.0672\n",
      "Epoch 21/25\n",
      "2850/2850 [==============================] - 32s 11ms/step - loss: 8.9971 - mean_squared_error: 8.9971 - val_loss: 7.1561 - val_mean_squared_error: 7.1561\n",
      "Epoch 22/25\n",
      "2850/2850 [==============================] - 34s 12ms/step - loss: 8.9906 - mean_squared_error: 8.9906 - val_loss: 7.0856 - val_mean_squared_error: 7.0856\n",
      "Epoch 23/25\n",
      "2850/2850 [==============================] - 32s 11ms/step - loss: 8.9608 - mean_squared_error: 8.9608 - val_loss: 7.1613 - val_mean_squared_error: 7.1613\n",
      "Epoch 24/25\n",
      "2850/2850 [==============================] - 35s 12ms/step - loss: 8.5023 - mean_squared_error: 8.5023 - val_loss: 7.1161 - val_mean_squared_error: 7.1161\n",
      "Epoch 25/25\n",
      "2850/2850 [==============================] - 39s 14ms/step - loss: 8.8413 - mean_squared_error: 8.8413 - val_loss: 7.1180 - val_mean_squared_error: 7.1180\n"
     ]
    },
    {
     "data": {
      "text/plain": [
       "<keras.callbacks.callbacks.History at 0x150eb3f60>"
      ]
     },
     "execution_count": 16,
     "metadata": {},
     "output_type": "execute_result"
    }
   ],
   "source": [
    "model_lstm.fit(\n",
    "    X_train,\n",
    "    y_train,\n",
    "    validation_data=(X_test, y_test),\n",
    "    batch_size=128,\n",
    "    epochs=25\n",
    ")"
   ]
  },
  {
   "cell_type": "code",
   "execution_count": null,
   "metadata": {},
   "outputs": [],
   "source": []
  },
  {
   "cell_type": "code",
   "execution_count": 17,
   "metadata": {},
   "outputs": [
    {
     "name": "stdout",
     "output_type": "stream",
     "text": [
      "Model: \"sequential_1\"\n",
      "_________________________________________________________________\n",
      "Layer (type)                 Output Shape              Param #   \n",
      "=================================================================\n",
      "bidirectional_1 (Bidirection (None, 40, 800)           1500800   \n",
      "_________________________________________________________________\n",
      "dropout_1 (Dropout)          (None, 40, 800)           0         \n",
      "_________________________________________________________________\n",
      "lstm_2 (LSTM)                (None, 40, 400)           1921600   \n",
      "_________________________________________________________________\n",
      "dropout_2 (Dropout)          (None, 40, 400)           0         \n",
      "_________________________________________________________________\n",
      "lstm_3 (LSTM)                (None, 400)               1281600   \n",
      "_________________________________________________________________\n",
      "dropout_3 (Dropout)          (None, 400)               0         \n",
      "_________________________________________________________________\n",
      "dense_1 (Dense)              (None, 100)               40100     \n",
      "_________________________________________________________________\n",
      "dense_2 (Dense)              (None, 50)                5050      \n",
      "_________________________________________________________________\n",
      "dense_3 (Dense)              (None, 2)                 102       \n",
      "=================================================================\n",
      "Total params: 4,749,252\n",
      "Trainable params: 4,749,252\n",
      "Non-trainable params: 0\n",
      "_________________________________________________________________\n"
     ]
    }
   ],
   "source": [
    "model_lstm.summary()"
   ]
  },
  {
   "cell_type": "code",
   "execution_count": null,
   "metadata": {},
   "outputs": [],
   "source": []
  },
  {
   "cell_type": "code",
   "execution_count": 18,
   "metadata": {},
   "outputs": [],
   "source": [
    "def split_file(indexes, text):\n",
    "\n",
    "    splits = []\n",
    "\n",
    "    previous_index = -1\n",
    "    for index in filter(lambda x: x > 0, indexes):\n",
    "        for row in text:\n",
    "            if previous_index > 0:\n",
    "                splits.append(row[previous_index:index].tolist())\n",
    "            else:\n",
    "                splits.append(row[:index].tolist())\n",
    "\n",
    "        previous_index = index\n",
    "\n",
    "    if previous_index > 0:\n",
    "        for row in text:\n",
    "            splits.append(row[previous_index:].tolist())\n",
    "            \n",
    "    if len(splits) == 0:\n",
    "        return text\n",
    "    \n",
    "    _max = np.max([\n",
    "        len(row)\n",
    "        for row in splits\n",
    "    ])\n",
    "\n",
    "    formatted = []\n",
    "    for row in splits:\n",
    "        while len(row) < _max:\n",
    "            row.append(0)\n",
    "\n",
    "        formatted.append(row)\n",
    "        \n",
    "    return formatted"
   ]
  },
  {
   "cell_type": "code",
   "execution_count": null,
   "metadata": {},
   "outputs": [],
   "source": []
  },
  {
   "cell_type": "markdown",
   "metadata": {},
   "source": [
    "## Holdouts"
   ]
  },
  {
   "cell_type": "code",
   "execution_count": 19,
   "metadata": {},
   "outputs": [
    {
     "data": {
      "image/png": "[encoded data removed]",
      "text/plain": [
       "<Figure size 432x288 with 1 Axes>"
      ]
     },
     "metadata": {
      "needs_background": "light"
     },
     "output_type": "display_data"
    },
    {
     "name": "stdout",
     "output_type": "stream",
     "text": [
      "[21, 45] [23, 49]\n"
     ]
    }
   ],
   "source": [
    "options = table_lookup[table_3.get_id()]\n",
    "_, x_ho, _ = options['table_generator'].get_table()\n",
    "\n",
    "X_ho = np.array(convert_text_to_img([x_ho], h, w))\n",
    "\n",
    "plt.imshow(X_ho[0], cmap='gray')\n",
    "plt.show()\n",
    "\n",
    "indexes = [\n",
    "    int(round(y))\n",
    "    for y\n",
    "    in model_lstm.predict(X_ho)[0]\n",
    "]\n",
    "\n",
    "targets = options['table'].get_split_targets()\n",
    "print(indexes, targets)"
   ]
  },
  {
   "cell_type": "code",
   "execution_count": 20,
   "metadata": {},
   "outputs": [
    {
     "data": {
      "image/png": "[encoded data removed]",
      "text/plain": [
       "<Figure size 432x288 with 1 Axes>"
      ]
     },
     "metadata": {
      "needs_background": "light"
     },
     "output_type": "display_data"
    }
   ],
   "source": [
    "formatted = split_file(indexes, X_ho[0])\n",
    "\n",
    "plt.imshow(formatted, cmap='gray')\n",
    "plt.show()"
   ]
  },
  {
   "cell_type": "code",
   "execution_count": null,
   "metadata": {},
   "outputs": [],
   "source": []
  },
  {
   "cell_type": "markdown",
   "metadata": {},
   "source": [
    "## Conv"
   ]
  },
  {
   "cell_type": "code",
   "execution_count": null,
   "metadata": {},
   "outputs": [],
   "source": []
  },
  {
   "cell_type": "code",
   "execution_count": 21,
   "metadata": {},
   "outputs": [],
   "source": [
    "model_conv = Sequential()\n",
    "\n",
    "model_conv.add(\n",
    "    Conv1D(15, activation='relu', kernel_size=3, input_shape=X_train.shape[1:], padding='same')\n",
    ")\n",
    "model_conv.add(MaxPool1D(2, padding='same'))\n",
    "\n",
    "model_conv.add(\n",
    "    Conv1D(15, activation='relu', kernel_size=5, padding='same')\n",
    ")\n",
    "model_conv.add(\n",
    "    MaxPool1D(2, padding='same')\n",
    ")\n",
    "\n",
    "model_conv.add(Flatten())\n",
    "\n",
    "## FC\n",
    "model_conv.add(Dense(50, activation='relu'))\n",
    "model_conv.add(Dense(y_train.shape[1], activation='linear'))"
   ]
  },
  {
   "cell_type": "code",
   "execution_count": null,
   "metadata": {},
   "outputs": [],
   "source": []
  },
  {
   "cell_type": "code",
   "execution_count": 22,
   "metadata": {},
   "outputs": [],
   "source": [
    "model_conv.compile(\n",
    "    optimizer='adam',\n",
    "    loss='mse',\n",
    "    metrics = ['mean_squared_error']\n",
    ")"
   ]
  },
  {
   "cell_type": "code",
   "execution_count": null,
   "metadata": {},
   "outputs": [],
   "source": []
  },
  {
   "cell_type": "code",
   "execution_count": 23,
   "metadata": {},
   "outputs": [
    {
     "name": "stdout",
     "output_type": "stream",
     "text": [
      "Train on 2850 samples, validate on 150 samples\n",
      "Epoch 1/50\n",
      "2850/2850 [==============================] - 0s 169us/step - loss: 1047.3729 - mean_squared_error: 1047.3729 - val_loss: 625.2926 - val_mean_squared_error: 625.2926\n",
      "Epoch 2/50\n",
      "2850/2850 [==============================] - 0s 88us/step - loss: 278.6199 - mean_squared_error: 278.6199 - val_loss: 166.8662 - val_mean_squared_error: 166.8662\n",
      "Epoch 3/50\n",
      "2850/2850 [==============================] - 0s 89us/step - loss: 110.8854 - mean_squared_error: 110.8854 - val_loss: 107.3874 - val_mean_squared_error: 107.3874\n",
      "Epoch 4/50\n",
      "2850/2850 [==============================] - 0s 94us/step - loss: 64.8504 - mean_squared_error: 64.8504 - val_loss: 56.0381 - val_mean_squared_error: 56.0381\n",
      "Epoch 5/50\n",
      "2850/2850 [==============================] - 0s 92us/step - loss: 34.9717 - mean_squared_error: 34.9717 - val_loss: 28.2353 - val_mean_squared_error: 28.2353\n",
      "Epoch 6/50\n",
      "2850/2850 [==============================] - 0s 85us/step - loss: 20.3450 - mean_squared_error: 20.3450 - val_loss: 16.3678 - val_mean_squared_error: 16.3678\n",
      "Epoch 7/50\n",
      "2850/2850 [==============================] - 0s 89us/step - loss: 13.0049 - mean_squared_error: 13.0049 - val_loss: 10.5920 - val_mean_squared_error: 10.5920\n",
      "Epoch 8/50\n",
      "2850/2850 [==============================] - 0s 94us/step - loss: 9.0281 - mean_squared_error: 9.0281 - val_loss: 7.3976 - val_mean_squared_error: 7.3976\n",
      "Epoch 9/50\n",
      "2850/2850 [==============================] - 0s 96us/step - loss: 6.6669 - mean_squared_error: 6.6669 - val_loss: 5.4660 - val_mean_squared_error: 5.4660\n",
      "Epoch 10/50\n",
      "2850/2850 [==============================] - 0s 104us/step - loss: 5.1508 - mean_squared_error: 5.1508 - val_loss: 4.1647 - val_mean_squared_error: 4.1647\n",
      "Epoch 11/50\n",
      "2850/2850 [==============================] - 0s 96us/step - loss: 4.0451 - mean_squared_error: 4.0451 - val_loss: 3.1766 - val_mean_squared_error: 3.1766\n",
      "Epoch 12/50\n",
      "2850/2850 [==============================] - 0s 96us/step - loss: 3.2672 - mean_squared_error: 3.2672 - val_loss: 2.5637 - val_mean_squared_error: 2.5637\n",
      "Epoch 13/50\n",
      "2850/2850 [==============================] - 0s 100us/step - loss: 2.6804 - mean_squared_error: 2.6804 - val_loss: 2.2250 - val_mean_squared_error: 2.2250\n",
      "Epoch 14/50\n",
      "2850/2850 [==============================] - 0s 108us/step - loss: 2.2504 - mean_squared_error: 2.2504 - val_loss: 1.9099 - val_mean_squared_error: 1.9099\n",
      "Epoch 15/50\n",
      "2850/2850 [==============================] - 0s 106us/step - loss: 1.9516 - mean_squared_error: 1.9516 - val_loss: 1.6570 - val_mean_squared_error: 1.6570\n",
      "Epoch 16/50\n",
      "2850/2850 [==============================] - 0s 90us/step - loss: 1.6861 - mean_squared_error: 1.6861 - val_loss: 1.7214 - val_mean_squared_error: 1.7214\n",
      "Epoch 17/50\n",
      "2850/2850 [==============================] - 0s 85us/step - loss: 1.5101 - mean_squared_error: 1.5101 - val_loss: 1.3734 - val_mean_squared_error: 1.3734\n",
      "Epoch 18/50\n",
      "2850/2850 [==============================] - 0s 85us/step - loss: 1.3266 - mean_squared_error: 1.3266 - val_loss: 1.2477 - val_mean_squared_error: 1.2477\n",
      "Epoch 19/50\n",
      "2850/2850 [==============================] - 0s 85us/step - loss: 1.1834 - mean_squared_error: 1.1834 - val_loss: 1.1528 - val_mean_squared_error: 1.1528\n",
      "Epoch 20/50\n",
      "2850/2850 [==============================] - 0s 84us/step - loss: 1.0699 - mean_squared_error: 1.0699 - val_loss: 1.1046 - val_mean_squared_error: 1.1046\n",
      "Epoch 21/50\n",
      "2850/2850 [==============================] - 0s 105us/step - loss: 0.9781 - mean_squared_error: 0.9781 - val_loss: 1.0189 - val_mean_squared_error: 1.0189\n",
      "Epoch 22/50\n",
      "2850/2850 [==============================] - 0s 105us/step - loss: 0.9069 - mean_squared_error: 0.9069 - val_loss: 0.9847 - val_mean_squared_error: 0.9847\n",
      "Epoch 23/50\n",
      "2850/2850 [==============================] - 0s 97us/step - loss: 0.8402 - mean_squared_error: 0.8402 - val_loss: 0.8917 - val_mean_squared_error: 0.8917\n",
      "Epoch 24/50\n",
      "2850/2850 [==============================] - 0s 97us/step - loss: 0.7908 - mean_squared_error: 0.7908 - val_loss: 0.8842 - val_mean_squared_error: 0.8842\n",
      "Epoch 25/50\n",
      "2850/2850 [==============================] - 0s 95us/step - loss: 0.7372 - mean_squared_error: 0.7372 - val_loss: 0.8649 - val_mean_squared_error: 0.8649\n",
      "Epoch 26/50\n",
      "2850/2850 [==============================] - 0s 92us/step - loss: 0.7260 - mean_squared_error: 0.7260 - val_loss: 0.7399 - val_mean_squared_error: 0.7399\n",
      "Epoch 27/50\n",
      "2850/2850 [==============================] - 0s 105us/step - loss: 0.6842 - mean_squared_error: 0.6842 - val_loss: 0.7053 - val_mean_squared_error: 0.7053\n",
      "Epoch 28/50\n",
      "2850/2850 [==============================] - 0s 96us/step - loss: 0.6266 - mean_squared_error: 0.6266 - val_loss: 0.6824 - val_mean_squared_error: 0.6824\n",
      "Epoch 29/50\n",
      "2850/2850 [==============================] - 0s 95us/step - loss: 0.5932 - mean_squared_error: 0.5932 - val_loss: 0.6523 - val_mean_squared_error: 0.6523\n",
      "Epoch 30/50\n",
      "2850/2850 [==============================] - 0s 94us/step - loss: 0.5682 - mean_squared_error: 0.5682 - val_loss: 0.6285 - val_mean_squared_error: 0.6285\n",
      "Epoch 31/50\n",
      "2850/2850 [==============================] - 0s 97us/step - loss: 0.5542 - mean_squared_error: 0.5542 - val_loss: 0.6347 - val_mean_squared_error: 0.6347\n",
      "Epoch 32/50\n",
      "2850/2850 [==============================] - 0s 90us/step - loss: 0.5245 - mean_squared_error: 0.5245 - val_loss: 0.5670 - val_mean_squared_error: 0.5670\n",
      "Epoch 33/50\n",
      "2850/2850 [==============================] - 0s 93us/step - loss: 0.5186 - mean_squared_error: 0.5186 - val_loss: 0.6331 - val_mean_squared_error: 0.6331\n",
      "Epoch 34/50\n",
      "2850/2850 [==============================] - 0s 93us/step - loss: 0.5041 - mean_squared_error: 0.5041 - val_loss: 0.5323 - val_mean_squared_error: 0.5323\n",
      "Epoch 35/50\n",
      "2850/2850 [==============================] - 0s 94us/step - loss: 0.4628 - mean_squared_error: 0.4628 - val_loss: 0.5263 - val_mean_squared_error: 0.5263\n",
      "Epoch 36/50\n",
      "2850/2850 [==============================] - 0s 91us/step - loss: 0.4434 - mean_squared_error: 0.4434 - val_loss: 0.5224 - val_mean_squared_error: 0.5224\n",
      "Epoch 37/50\n",
      "2850/2850 [==============================] - 0s 105us/step - loss: 0.4347 - mean_squared_error: 0.4347 - val_loss: 0.4853 - val_mean_squared_error: 0.4853\n",
      "Epoch 38/50\n",
      "2850/2850 [==============================] - 0s 95us/step - loss: 0.4147 - mean_squared_error: 0.4147 - val_loss: 0.4634 - val_mean_squared_error: 0.4634\n",
      "Epoch 39/50\n",
      "2850/2850 [==============================] - 0s 94us/step - loss: 0.3998 - mean_squared_error: 0.3998 - val_loss: 0.4997 - val_mean_squared_error: 0.4997\n",
      "Epoch 40/50\n",
      "2850/2850 [==============================] - 0s 90us/step - loss: 0.3904 - mean_squared_error: 0.3904 - val_loss: 0.4639 - val_mean_squared_error: 0.4639\n",
      "Epoch 41/50\n",
      "2850/2850 [==============================] - 0s 107us/step - loss: 0.3809 - mean_squared_error: 0.3809 - val_loss: 0.4530 - val_mean_squared_error: 0.4530\n",
      "Epoch 42/50\n",
      "2850/2850 [==============================] - 0s 98us/step - loss: 0.3645 - mean_squared_error: 0.3645 - val_loss: 0.4357 - val_mean_squared_error: 0.4357\n",
      "Epoch 43/50\n",
      "2850/2850 [==============================] - 0s 89us/step - loss: 0.3683 - mean_squared_error: 0.3683 - val_loss: 0.4139 - val_mean_squared_error: 0.4139\n",
      "Epoch 44/50\n",
      "2850/2850 [==============================] - 0s 87us/step - loss: 0.3476 - mean_squared_error: 0.3476 - val_loss: 0.4013 - val_mean_squared_error: 0.4013\n",
      "Epoch 45/50\n",
      "2850/2850 [==============================] - 0s 88us/step - loss: 0.3303 - mean_squared_error: 0.3303 - val_loss: 0.4510 - val_mean_squared_error: 0.4510\n",
      "Epoch 46/50\n",
      "2850/2850 [==============================] - 0s 87us/step - loss: 0.3242 - mean_squared_error: 0.3242 - val_loss: 0.4041 - val_mean_squared_error: 0.4041\n",
      "Epoch 47/50\n",
      "2850/2850 [==============================] - 0s 89us/step - loss: 0.3116 - mean_squared_error: 0.3116 - val_loss: 0.3901 - val_mean_squared_error: 0.3901\n",
      "Epoch 48/50\n",
      "2850/2850 [==============================] - 0s 88us/step - loss: 0.3096 - mean_squared_error: 0.3096 - val_loss: 0.3684 - val_mean_squared_error: 0.3684\n",
      "Epoch 49/50\n",
      "2850/2850 [==============================] - 0s 85us/step - loss: 0.2920 - mean_squared_error: 0.2920 - val_loss: 0.3770 - val_mean_squared_error: 0.3770\n",
      "Epoch 50/50\n",
      "2850/2850 [==============================] - 0s 86us/step - loss: 0.2869 - mean_squared_error: 0.2869 - val_loss: 0.3961 - val_mean_squared_error: 0.3961\n"
     ]
    },
    {
     "data": {
      "text/plain": [
       "<keras.callbacks.callbacks.History at 0x150ed5860>"
      ]
     },
     "execution_count": 23,
     "metadata": {},
     "output_type": "execute_result"
    }
   ],
   "source": [
    "model_conv.fit(\n",
    "    X_train,\n",
    "    y_train,\n",
    "    validation_data=(X_test, y_test),\n",
    "    batch_size=128,\n",
    "    epochs=50\n",
    ")"
   ]
  },
  {
   "cell_type": "code",
   "execution_count": null,
   "metadata": {},
   "outputs": [],
   "source": []
  },
  {
   "cell_type": "code",
   "execution_count": 24,
   "metadata": {},
   "outputs": [
    {
     "name": "stdout",
     "output_type": "stream",
     "text": [
      "Model: \"sequential_2\"\n",
      "_________________________________________________________________\n",
      "Layer (type)                 Output Shape              Param #   \n",
      "=================================================================\n",
      "conv1d_1 (Conv1D)            (None, 40, 15)            3075      \n",
      "_________________________________________________________________\n",
      "max_pooling1d_1 (MaxPooling1 (None, 20, 15)            0         \n",
      "_________________________________________________________________\n",
      "conv1d_2 (Conv1D)            (None, 20, 15)            1140      \n",
      "_________________________________________________________________\n",
      "max_pooling1d_2 (MaxPooling1 (None, 10, 15)            0         \n",
      "_________________________________________________________________\n",
      "flatten_1 (Flatten)          (None, 150)               0         \n",
      "_________________________________________________________________\n",
      "dense_4 (Dense)              (None, 50)                7550      \n",
      "_________________________________________________________________\n",
      "dense_5 (Dense)              (None, 2)                 102       \n",
      "=================================================================\n",
      "Total params: 11,867\n",
      "Trainable params: 11,867\n",
      "Non-trainable params: 0\n",
      "_________________________________________________________________\n"
     ]
    }
   ],
   "source": [
    "model_conv.summary()"
   ]
  },
  {
   "cell_type": "code",
   "execution_count": null,
   "metadata": {},
   "outputs": [],
   "source": []
  },
  {
   "cell_type": "markdown",
   "metadata": {},
   "source": [
    "## Holdouts"
   ]
  },
  {
   "cell_type": "code",
   "execution_count": null,
   "metadata": {},
   "outputs": [],
   "source": []
  },
  {
   "cell_type": "code",
   "execution_count": 26,
   "metadata": {},
   "outputs": [
    {
     "data": {
      "image/png": "[encoded data removed]",
      "text/plain": [
       "<Figure size 432x288 with 1 Axes>"
      ]
     },
     "metadata": {
      "needs_background": "light"
     },
     "output_type": "display_data"
    },
    {
     "name": "stdout",
     "output_type": "stream",
     "text": [
      "[23, 49] [23, 49]\n"
     ]
    }
   ],
   "source": [
    "options = table_lookup[table_3.get_id()]\n",
    "_, x_ho, _ = options['table_generator'].get_table()\n",
    "\n",
    "X_ho = np.array(convert_text_to_img([x_ho], h, w))\n",
    "\n",
    "plt.imshow(X_ho[0], cmap='gray')\n",
    "plt.show()\n",
    "\n",
    "indexes = [\n",
    "    int(round(y))\n",
    "    for y\n",
    "    in model_conv.predict(X_ho)[0]\n",
    "]\n",
    "\n",
    "targets = options['table'].get_split_targets()\n",
    "print(indexes, targets)"
   ]
  },
  {
   "cell_type": "code",
   "execution_count": 27,
   "metadata": {},
   "outputs": [
    {
     "data": {
      "image/png": "[encoded data removed]",
      "text/plain": [
       "<Figure size 432x288 with 1 Axes>"
      ]
     },
     "metadata": {
      "needs_background": "light"
     },
     "output_type": "display_data"
    }
   ],
   "source": [
    "formatted = split_file(indexes, X_ho[0])\n",
    "\n",
    "plt.imshow(formatted, cmap='gray')\n",
    "plt.show()"
   ]
  },
  {
   "cell_type": "code",
   "execution_count": null,
   "metadata": {},
   "outputs": [],
   "source": []
  }
 ],
 "metadata": {
  "kernelspec": {
   "display_name": "Python 3",
   "language": "python",
   "name": "python3"
  },
  "language_info": {
   "codemirror_mode": {
    "name": "ipython",
    "version": 3
   },
   "file_extension": ".py",
   "mimetype": "text/x-python",
   "name": "python",
   "nbconvert_exporter": "python",
   "pygments_lexer": "ipython3",
   "version": "3.7.3"
  }
 },
 "nbformat": 4,
 "nbformat_minor": 4
}
